{
 "cells": [
  {
   "cell_type": "markdown",
   "metadata": {},
   "source": [
    "# Week 1\n",
    "\n",
    "Welcome to the new semester. This week we start with an introduction of what fluids (gases and liquids) are set the foundation for the first part of the course, *kinematics*.\n",
    "\n",
    "## General Introduction (8.8.2016)\n",
    "Please have a look at the [Teaser video 1](https://www.youtube.com/watch?v=YhmyQwDpkdc&index=1&list=PLFSK3FTDR0W8ixt8j7MTxobQqK1e6rSZB)\n",
    "\n",
    "We will cover the adminstration and give a colorful introduction to the fluid mechanics. The [slides are available here](notebooks/pdf/Lecture1.pdf).\n",
    "\n",
    "Gases and liquids can be modeled with particles (non interacting and interacting). Molecular dynamics (MD) simulations help to understand their behaviour and watch them in slow motion. As a first tutorial you need to play with a MD program. It is introduced in the Teaser Video 1 and can be [run in your browser](http://cav2012.sg/cdohl/ph3501/md/). For more information on how to run the program is available  [web site from Prof Schroeder](http://physics.weber.edu/schroeder/md/), please note that his version does not have the pressure graph.\n",
    "\n",
    "To get us all started, we rehearse some math. Please look and work through the [Math refresher notebook](notebooks/01_Math Refresher and Python Introduction.ipynb). This notebook also offers you with some first introduction into Python, the language we use in the course. A nice [introduction is given by Robert Johansson](http://nbviewer.jupyter.org/github/jrjohansson/scientific-python-lectures/blob/master/Lecture-1-Introduction-to-Python-Programming.ipynb). Don't worry, we will slowly start with it. I'll motivate the use of a programming language in the course, and besides learning fluid mechanics you obtain some skills which increases your employability!\n",
    "\n",
    "\n",
    "## Introduction to Kinematics (10.8.2016)\n",
    "Please have a look at the [Teaser video 2](https://www.youtube.com/watch?v=wlKvwmH6NR8&list=PLFSK3FTDR0W8ixt8j7MTxobQqK1e6rSZB&index=2) which introduces Streamlines, Streaklines and Pathlines.\n",
    "\n",
    "The [slides are available here](notebooks/pdf/Lecture2.pdf), and the [notebook here](notebooks/02_Streamlines, Pathlines, Streaklines.ipynb).\n",
    "\n",
    "This and 2nd week material is covered in Pozrikidis chapter 1.4 & 1.5 .  "
   ]
  },
  {
   "cell_type": "code",
   "execution_count": 1,
   "metadata": {
    "collapsed": false,
    "hide_input": false
   },
   "outputs": [
    {
     "data": {
      "text/html": [
       "<link href='http://fonts.googleapis.com/css?family=Fenix' rel='stylesheet' type='text/css'>\n",
       "<link href='http://fonts.googleapis.com/css?family=Alegreya+Sans:100,300,400,500,700,800,900,100italic,300italic,400italic,500italic,700italic,800italic,900italic' rel='stylesheet' type='text/css'>\n",
       "<link href='http://fonts.googleapis.com/css?family=Source+Code+Pro:300,400' rel='stylesheet' type='text/css'>\n",
       "<style>\n",
       "@font-face {\n",
       "font-family: \"Computer Modern\";\n",
       "src: url('http://mirrors.ctan.org/fonts/cm-unicode/fonts/otf/cmunss.otf');\n",
       "}\n",
       "div.cell{\n",
       "\twidth:800px;\n",
       "\tmargin-left:5% !important;\n",
       "\tmargin-right:auto;\n",
       "}\n",
       "div.YourWork{\n",
       "\tbackground-color: #FFCC66;\t\n",
       "}\n",
       "h1 {\n",
       "font-family: 'Alegreya Sans', sans-serif;\n",
       "}\n",
       "h2 {\n",
       "font-family: 'Fenix', serif;\n",
       "}\n",
       "h3{\n",
       "font-family: 'Fenix', serif;\n",
       "margin-top:12px;\n",
       "margin-bottom: 3px;\n",
       "}\n",
       "h4{\n",
       "font-family: 'Fenix', serif;\n",
       "}\n",
       "h5 {\n",
       "font-family: 'Alegreya Sans', sans-serif;\n",
       "}\n",
       "div.text_cell_render{\n",
       "font-family: 'Alegreya Sans',Computer Modern, \"Helvetica Neue\", Arial, Helvetica, Geneva, sans-serif;\n",
       "line-height: 135%;\n",
       "font-size: 120%;\n",
       "width:600px;\n",
       "margin-left:auto;\n",
       "margin-right:auto;\n",
       "}\n",
       ".CodeMirror{\n",
       "font-family: \"Source Code Pro\";\n",
       "font-size: 90%;\n",
       "}\n",
       ".rendered_html code{\n",
       "\tbackground-color: transparent;\t\n",
       "}\n",
       "/* .prompt{\n",
       "display: None;\n",
       "}*/\n",
       ".text_cell_render h1 {\n",
       "font-weight: 200;\n",
       "font-size: 50pt;\n",
       "line-height: 100%;\n",
       "color:#CD2305;\n",
       "margin-bottom: 0.5em;\n",
       "margin-top: 0.5em;\n",
       "display: block;\n",
       "}\n",
       ".text_cell_render h5 {\n",
       "font-weight: 300;\n",
       "font-size: 12pt;\n",
       "margin-bottom: 0.5em;\n",
       "margin-top: 0.5em;\n",
       "display: block;\n",
       "border-style: double;\n",
       "border-width: medium;\n",
       "border-color: black;\n",
       "background-color: #F0F0F0;\n",
       "text-align: center;\n",
       "}\n",
       ".warning{\n",
       "color: rgb( 240, 20, 20 )\n",
       "}\n",
       "</style>\n",
       "<script>\n",
       "MathJax.Hub.Config({\n",
       "TeX: {\n",
       "extensions: [\"AMSmath.js\"]\n",
       "},\n",
       "tex2jax: {\n",
       "inlineMath: [ ['$','$'], [\"\\\\(\",\"\\\\)\"] ],\n",
       "displayMath: [ ['$$','$$'], [\"\\\\[\",\"\\\\]\"] ]\n",
       "},\n",
       "displayAlign: 'center', // Change this to 'center' to center equations.\n",
       "\"HTML-CSS\": {\n",
       "styles: {'.MathJax_Display': {\"margin\": 4}}\n",
       "}\n",
       "});\n",
       "</script>"
      ],
      "text/plain": [
       "<IPython.core.display.HTML object>"
      ]
     },
     "execution_count": 1,
     "metadata": {},
     "output_type": "execute_result"
    }
   ],
   "source": [
    "from IPython.core.display import HTML\n",
    "def css_styling():\n",
    "    styles = open(\"notebooks/styles/custom.css\", \"r\").read()\n",
    "    return HTML(styles)\n",
    "css_styling()"
   ]
  },
  {
   "cell_type": "code",
   "execution_count": null,
   "metadata": {
    "collapsed": true
   },
   "outputs": [],
   "source": []
  }
 ],
 "metadata": {
  "kernelspec": {
   "display_name": "Python 2",
   "language": "python",
   "name": "python2"
  },
  "language_info": {
   "codemirror_mode": {
    "name": "ipython",
    "version": 2
   },
   "file_extension": ".py",
   "mimetype": "text/x-python",
   "name": "python",
   "nbconvert_exporter": "python",
   "pygments_lexer": "ipython2",
   "version": "2.7.12"
  }
 },
 "nbformat": 4,
 "nbformat_minor": 0
}
