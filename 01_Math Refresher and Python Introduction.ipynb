{
 "metadata": {
  "name": "Math Refresher and Python Intro-checkpoint"
 },
 "nbformat": 3,
 "nbformat_minor": 0,
 "worksheets": [
  {
   "cells": [
    {
     "cell_type": "markdown",
     "metadata": {},
     "source": "$$\n\\newcommand{\\fudm}[2]{\\frac{\\mathrm{D} #1}{\\mathrm{D} #2}}\n\\newcommand{\\pad}[2]{\\frac{\\partial #1}{\\partial #2}}\n\\newcommand{\\ppad}[2]{\\frac{\\partial^2 #1}{\\partial #2^2}}\n\\newcommand{\\ppadd}[3]{\\frac{\\partial^2 #1}{\\partial #2 \\partial #3}}\n\\newcommand{\\nnabla}{\\nabla^2}\n\\newcommand{\\eps}{\\epsilon}\n\\newcommand{\\vdetail}[1]{\\vb{#1}=\\begin{pmatrix}#1_1\\\\#1_2\\\\#1_3\\end{pmatrix}}\n\\newcommand{\\vb}[1]{\\mathbf{#1}}\n\\newcommand{\\va}[1]{\\vec{#1}}\n\\newcommand{\\tb}[1]{\\underline{\\underline{\\mathbf{#1}}}}\n\\newcommand{\\fud}[2]{\\frac{\\mathrm{d} #1}{\\mathrm{d} #2}}\n$$\n"
    },
    {
     "cell_type": "markdown",
     "metadata": {},
     "source": "#Math Refresher\n\nIn this course we work with vectors, matrices, and tensors. Vectors can be written as row and column vectors, this is important as it defines how they multiply with matrices and tensors. A column vector is written as a vertical tuple, while the row vector is a horizontal tuple:\n\n$$\\va{a}=\\vb{a}=\\left(\n\\begin{array}{c}\na_1\\\\\na_2\\\\\na_3\n\\end{array}\\right)=(a_1,a_2,a_3)^T$$\n\nThe $^T$ sign transposes the vector or matrix/tensor, rows become columns and vice versa. Please note the different ways we can write the vectors; in this course we'll mostly use the bold face style, i.e. $\\vb{a}$.\n\n##Scalar Product\nThe *scalar product* or *dot product* is a product between two vectors where the same components are multiplied and then summed. The result is related to length and $\\cos$ of the angle of the two vectors.\n\n\\begin{eqnarray}\n\\vb{a}\\cdot\\vb{b}=|\\vb{a}|\\,|\\vb{b}|\\,\\cos(\\vb{a},\\vb{b})&=&a_1 b_1 + a_2 b_2 +a_3 b_3\\\\\n&=&\\sum a_i b_i := a_i b_i\n\\end{eqnarray}\n\nThe last expression is a definition, the so-called *Einstein summation convention*. In this course we will only use it for identical subscripts in products. Then it states, that we automatically sum over identical subscripts, the summation sign is not written anymore. The reason is that we can conveniently write lengthy products with less mathematical symbols.\n\nHaving calculated the scalar product of two vectors, we can easily obtain the angle between the vectors through:\n\n\\begin{equation}\n\\cos(\\vb{a},\\vb{b})=\\frac{\\vb{a}\\cdot\\vb{b}}{|\\vb{a}|\\,|\\vb{b}|}\n\\end{equation}\n<p>\n<div class=\"YourWork\"> Homework: <p>\nWrite above equation using Einstein summation convention.\nBelow you find how to define column and row vectors in Python. We will always use two packages which work hand in hand together. The first package is called `numpy` (short for NUMerical PYthon) which provides functions for vectors and matrices including all kinds of linear algebra tools. The second package is `scipy` (SCIentific PYthon) which has all the mathematical functions numerical and work conveniently with the vectors and matrices defined with `numpy`. </div>"
    },
    {
     "cell_type": "code",
     "collapsed": false,
     "input": "import numpy as np     #Numpy contains the versatile array class\nfrom scipy import math #Needed for the transzendental functions math.acos() and the constant math.pi\n\nprint \"This is a row vector\"\na = np.matrix([1,2,3]) \nprint \"a={0}\".format(a)\n\nprint \"This is a column vector\"\nb = np.matrix([[1],[2],[3]])\nprint \"b={0}\".format(b)\nb = np.matrix(\"[1;2;3]\")#you can use the matlab notation when passed as string argument \nprint \"b={0}\".format(b)\n\nprint \"Transpose of a row vector becomes a column vector\"\nprint \"a^T={0}\".format(a.T) #Here, we need to create a newaxis using np.newaxis\n\nprint \"Dot product of two row vectors\"\nprint \"a . a = {0}\".format(np.vdot(a,a))\nprint \"which is the same as for two column vectors\"\nprint \"b . b = {0}\".format(np.vdot(b,b))                      #For column vectors we need to use vdot()\nprint \"Now we defind two normal vectors and show that their angle is indeed 90 degrees\"\nc = np.matrix([2,0])\nd = np.matrix([0,2])\nprint c\nprint d\nmyangle = math.acos(np.vdot(c,d)/(np.linalg.norm(c)/np.linalg.norm(d)))\nprint \"Angle between (c,d) = {0} degree\".format(myangle*180./math.pi)\n",
     "language": "python",
     "metadata": {},
     "outputs": [
      {
       "output_type": "stream",
       "stream": "stdout",
       "text": "This is a row vector\na=[[1 2 3]]\nThis is a column vector\nb=[[1]\n [2]\n [3]]\nb=[[1]\n [2]\n [3]]\nTranspose of a row vector becomes a column vector\na^T=[[1]\n [2]\n [3]]\nDot product of two row vectors\na . a = [[14]]\nwhich is the same as for two column vectors\nb . b = [[14]]\nNow we defind two normal vectors and show that their angle is indeed 90 degrees\n[[2 0]]\n[[0 2]]\nAngle between (c,d) = 90.0 degree\n"
      }
     ],
     "prompt_number": 2
    },
    {
     "cell_type": "markdown",
     "metadata": {},
     "source": "Thus the important functions to remember are the initialization using\n`np.array([`$a_1$ `, ` $a_2$ `, ` $a_3$`])`, the scalar product `np.vdot(a,b)`, and the norm using `np.linalg.norm(a)`."
    },
    {
     "cell_type": "markdown",
     "metadata": {},
     "source": "##Vector Product\nThe vector product (or sometimes called cross product) leads to a vector $\\vb{c}$ which is perpendicular to $\\vb{a}$ and $\\vb{b}$:\n$$\\vb{a} \\times \\vb{b}=\\vb{c}\\quad .$$\n\nIt's length is given by \n$$|\\vb{a} \\times \\vb{b}|=|\\vb{a}|\\,|\\vb{b}|\\,\\sin(\\vb{a},\\vb{b})\\,.$$\n\nA coordinate system where $\\vb{a}$ and $\\vb{b}$ are not parallel\n$$(\\vb{a},\\vb{b},\\vb{a} \\times \\vb{b})$$ \nis right handed.\n\nA few rules to keep in mind:\n\n$$\\vb{a} \\times (\\vb{b} \\times \\vb{c})\\neq (\\vb{a} \\times \\vb{b}) \\times \\vb{c}$$\n\n$$\\vb{a} \\times \\vb{b} = - \\vb{b} \\times \\vb{a}$$\n\n$$\\vb{a} \\times \\vb{a} = \\vb{0}$$\n\n$$(\\vb{a} + \\vb{b}) \\times \\vb{c}= \\vb{a} \\times \\vb{c} + \\vb{b} \\times \\vb{c}$$\n\nIf $\\vb{a} \\times \\vb{b} = \\vb{0}$ then $\\vb{a}=\\vb{0}$, $\\vb{b}=\\vb{0}$, and/or $\\vb{a} \\parallel \\vb{b}$ .\n\nBut how do we calculate the vector product?\n$$\\left(a_1,a_2,a_3\\right) \\times \\left(b_1,b_2,b_3\\right)=\\\\\n\\left(\\begin{array}{c}\na_2 b_3 - a_3 b_2\\\\\na_3 b_1 - a_1 b_3\\\\\na_1 b_2 - a_2 b_1\n\\end{array}\\right)^T$$\n\nI have difficulty remembering the order of the variables, an eays way out is to remember that the vector product is the determinant of a matrix with 3 rows composed out of the unit vectors $(\\vb{e_1},\\vb{e_2},\\vb{e_3})$, the first, and the second vector:\n$$\\left|\\begin{array}{c c c}\n\\vb{e_1}&\\vb{e_2}&\\vb{e_3}\\\\\na_1&a_2&a_3\\\\\nb_1&b_2&b_3\n\\end{array}\\right|=\n\\left(\\begin{array}{c}\na_2 b_3 - a_3 b_2\\\\\na_3 b_1 - a_1 b_3\\\\\na_1 b_2 - a_2 b_1\n\\end{array}\\right)$$.\n\nThe cross product is calculated with the function `np.cross(a,b)` where $a$ and $b$ are two row or column vectors."
    },
    {
     "cell_type": "code",
     "collapsed": false,
     "input": "a = np.matrix([1,0,0])\nb = np.matrix([0,1,0])\nprint \"We first calculate the cross product for row vectors\"\nprint \"a = {0}\".format(a)+\", b = {0}\".format(b)\nprint \"a x b = {0}\".format(np.cross(a,b))\na = a.T\nb = b.T\nprint \"and then for column vectors\"\nprint \"a =\\n {0}\".format(a)+\"\\nb =\\n {0}\".format(b)\nprint \"a x b =\\n {0}\".format(np.cross(a,b,axis=0))\n",
     "language": "python",
     "metadata": {},
     "outputs": [
      {
       "output_type": "stream",
       "stream": "stdout",
       "text": "We first calculate the cross product for row vectors\na = [[1 0 0]], b = [[0 1 0]]\na x b = [[0 0 1]]\nand then for column vectors\na =\n [[1]\n [0]\n [0]]\nb =\n [[0]\n [1]\n [0]]\na x b =\n [[0]\n [0]\n [1]]\n"
      }
     ],
     "prompt_number": 194
    },
    {
     "cell_type": "markdown",
     "metadata": {},
     "source": "##Matrix and Matrix or Inner Product\nA matrix has row and columns and each position of the matrix is addressed with a tuple $(i,j)$, where $i$ refers to the rows and $j$ to the columns. This is an example of a 3x3 matrix:\n\n$$\\tb{A}=A_{ij}=\\left(\n\\begin{array}{ccc}\nA_{11}&A_{12}&A_{13}\\\\\nA_{21}&A_{22}&A_{23}\\\\\nA_{31}&A_{32}&A_{33}\n\\end{array}\\right)$$"
    },
    {
     "cell_type": "markdown",
     "metadata": {},
     "source": "The product of two matrices at position $(i,j)$ in the resulting matrix is the summation of the products of the $i$-th row of the first matrix and the $j$-th column of the second matrix. As an example let two 3x3 matrices $\\tb{A}$ and $\\tb{B}$ multiply and write down the component (2,1) of the resulting matrix:\n\n$$\\tb{A}\\,\\tb{B}=\n\\left(\\begin{array}{ccc}\nA_{11}&A_{12}&A_{13}\\\\\nA_{21}&A_{22}&A_{23}\\\\\nA_{31}&A_{32}&A_{33}\n\\end{array}\\right) \n\\left(\\begin{array}{ccc}\nB_{11}&B_{12}&B_{13}\\\\\nB_{21}&B_{22}&B_{23}\\\\\nB_{31}&B_{32}&B_{33}\n\\end{array}\\right)=\n\\left(\\begin{array}{ccc}\n...&...&...\\\\\nA_{21}B_{11}+A_{22}B_{21}+A_{23}B_{31}&...&...\\\\\n...&...&...\n\\end{array}\\right)$$\n\nThe identity matrix is \n\n$$\\tb{I}=\n\\left(\\begin{array}{ccc}\n1&0&0\\\\\n0&1&0\\\\\n0&0&1\n\\end{array}\\right)=\\delta_{ij}$$\n\nThe transpose operator switches rows with columns, i.e. transforms $(i,j)\\rightarrow(j,i)$. As an example we transpose A:\n\n\n$$\\tb{A}^T=\\left(\\begin{array}{ccc}\nA_{11}&A_{21}&A_{31}\\\\\nA_{12}&A_{22}&A_{32}\\\\\nA_{13}&A_{23}&A_{33}\n\\end{array}\\right) $$\n"
    },
    {
     "cell_type": "code",
     "collapsed": false,
     "input": "print \"define matrix A\"\nA = np.matrix([[1,2,3],[3,2,1],[-1,1,-1]])\nA = np.matrix(\"[1 2 3; 3 2 1; -1 1 -1]\") # again the same using matlab formated string\nprint A\nprint \"B is a matrix filled with ones:\"\nB = np.ones((3,3))\nprint B\nprint \"I is the identity matrix\"\nI = np.eye(3)                 #identity matrix\nprint I\nprint \"The product of AB =\\n {0}\".format(A*B)",
     "language": "python",
     "metadata": {},
     "outputs": [
      {
       "output_type": "stream",
       "stream": "stdout",
       "text": "define matrix A\n[[ 1  2  3]\n [ 3  2  1]\n [-1  1 -1]]\nB is a matrix filled with ones:\n[[ 1.  1.  1.]\n [ 1.  1.  1.]\n [ 1.  1.  1.]]\nI is the identity matrix\n[[ 1.  0.  0.]\n [ 0.  1.  0.]\n [ 0.  0.  1.]]\nThe product of AB =\n [[ 6.  6.  6.]\n [ 6.  6.  6.]\n [-1. -1. -1.]]\n"
      }
     ],
     "prompt_number": 226
    },
    {
     "cell_type": "markdown",
     "metadata": {},
     "source": "##Inner Product between a vector and a matrix\nThe inner or matrix product is generated of the product of the *row* of the first matrix and the *columnn* of the second matrix. Thus multiplying a vector with a matrix can be either a row vector, $\\vb{a}$, with a matrix, $\\tb{A}$, thus $\\vb{a} \\tb{A}$ or a matrix multiplied with a column vector, $\\vb{b}$, thus $\\tb{A} \\vb{b}$. The resulting vector keeps the shape of the initial vector, i.e. a row or column vector. The product is not communitative.\n\n$$\\vb{a} \\tb{A} = \\left(a_1,a_2,a_3\\right)\\,\n\\left(\\begin{array}{ccc}\nA_{11}&A_{12}&A_{13}\\\\\nA_{21}&A_{22}&A_{23}\\\\\nA_{31}&A_{32}&A_{33}\n\\end{array}\\right)=\\left(\n\\begin{array}{c}\na_1 A_{11} + a_1 A_{21} + a_1 A_{31}\\\\\na_2 A_{12} + a_2 A_{22} + a_2 A_{32}\\\\\na_3 A_{13} + a_3 A_{23} + a_3 A_{33}\\\\\n\\end{array}\n\\right)^T$$\n\n$$ \\tb{A} \\vb{b}= \n\\left(\\begin{array}{ccc}\nA_{11}&A_{12}&A_{13}\\\\\nA_{21}&A_{22}&A_{23}\\\\\nA_{31}&A_{32}&A_{33}\n\\end{array}\\right)\n\\left(\\begin{array}{c}\nb_1\\\\b_2\\\\b_3\n\\end{array}\\right)\n=\\left(\n\\begin{array}{c}\nb_1 A_{11} + b_2 A_{12} + b_3 A_{13}\\\\\nb_1 A_{21} + b_2 A_{22} + b_3 A_{23}\\\\\nb_1 A_{31} + b_2 A_{32} + b_3 A_{33}\\\\\n\\end{array}\n\\right)$$\n\n\nNext we have a look how matrix-vector multiplications are done with Python:  "
    },
    {
     "cell_type": "code",
     "collapsed": false,
     "input": "a=np.matrix(\"[1 2 3]\") #row vector\nprint\"a is a row vector,\\n a = {0}\".format(a)\nb=a.T                      #row vector by transposing a\nprint\"b is a column vector,\\n b = {0}\".format(b)\nprint \"a A = {0}\".format(a*A) #row vector times a matrix\nprint \"A b = {0}\".format(A*b) #matrix times a column vector\nprint \"However if we take the transpose of the matrix and the transpose of the expression\"\nprint \"((A)T b)T = {0}\".format((A.T*b).T) \nprint \"then we obtain the identical result.\"",
     "language": "python",
     "metadata": {},
     "outputs": [
      {
       "output_type": "stream",
       "stream": "stdout",
       "text": "a is a row vector,\n a = [[1 2 3]]\nb is a column vector,\n b = [[1]\n [2]\n [3]]\na A = [[4 9 2]]\nA b = [[14]\n [10]\n [-2]]\nHowever if we take the transpose of the matrix and the transpose of the expression\n((A)T b)T = [[4 9 2]]\nthen we obtain the identical result.\n"
      }
     ],
     "prompt_number": 229
    },
    {
     "cell_type": "markdown",
     "metadata": {},
     "source": "<div class=\"YourWork\"> Homework:<p>\n1. Write the multiplication $\\vb{a} \\tb{A}$ and $\\tb{A} \\vb{b}$ using Einstein summation convention. Hint: Write it first as a sum using the $\\sum$-symbol.<p>\n2. What happens in Python when you multiply a column vector to the left side of a 3x3 matrix?\n</div>"
    },
    {
     "cell_type": "code",
     "collapsed": false,
     "input": "from IPython.core.display import HTML\ndef css_styling():\n    styles = open(\"styles/custom.css\", \"r\").read()\n    return HTML(styles)\ncss_styling()",
     "language": "python",
     "metadata": {},
     "outputs": [
      {
       "html": "<link href='http://fonts.googleapis.com/css?family=Fenix' rel='stylesheet' type='text/css'>\n<link href='http://fonts.googleapis.com/css?family=Alegreya+Sans:100,300,400,500,700,800,900,100italic,300italic,400italic,500italic,700italic,800italic,900italic' rel='stylesheet' type='text/css'>\n<link href='http://fonts.googleapis.com/css?family=Source+Code+Pro:300,400' rel='stylesheet' type='text/css'>\n<style>\n@font-face {\nfont-family: \"Computer Modern\";\nsrc: url('http://mirrors.ctan.org/fonts/cm-unicode/fonts/otf/cmunss.otf');\n}\ndiv.cell{\n\twidth:800px;\n\tmargin-left:5% !important;\n\tmargin-right:auto;\n}\ndiv.YourWork{\n\tbackground-color: #FFCC66;\t\n}\nh1 {\nfont-family: 'Alegreya Sans', sans-serif;\n}\nh2 {\nfont-family: 'Fenix', serif;\n}\nh3{\nfont-family: 'Fenix', serif;\nmargin-top:12px;\nmargin-bottom: 3px;\n}\nh4{\nfont-family: 'Fenix', serif;\n}\nh5 {\nfont-family: 'Alegreya Sans', sans-serif;\n}\ndiv.text_cell_render{\nfont-family: 'Alegreya Sans',Computer Modern, \"Helvetica Neue\", Arial, Helvetica, Geneva, sans-serif;\nline-height: 135%;\nfont-size: 120%;\nwidth:600px;\nmargin-left:auto;\nmargin-right:auto;\n}\n.CodeMirror{\nfont-family: \"Source Code Pro\";\nfont-size: 90%;\n}\n.rendered_html code{\n\tbackground-color: transparent;\t\n}\n/* .prompt{\ndisplay: None;\n}*/\n.text_cell_render h1 {\nfont-weight: 200;\nfont-size: 50pt;\nline-height: 100%;\ncolor:#CD2305;\nmargin-bottom: 0.5em;\nmargin-top: 0.5em;\ndisplay: block;\n}\n.text_cell_render h5 {\nfont-weight: 300;\nfont-size: 12pt;\nmargin-bottom: 0.5em;\nmargin-top: 0.5em;\ndisplay: block;\nborder-style: double;\nborder-width: medium;\nborder-color: black;\nbackground-color: #F0F0F0;\ntext-align: center;\n}\n.warning{\ncolor: rgb( 240, 20, 20 )\n}\n</style>\n<script>\nMathJax.Hub.Config({\nTeX: {\nextensions: [\"AMSmath.js\"]\n},\ntex2jax: {\ninlineMath: [ ['$','$'], [\"\\\\(\",\"\\\\)\"] ],\ndisplayMath: [ ['$$','$$'], [\"\\\\[\",\"\\\\]\"] ]\n},\ndisplayAlign: 'center', // Change this to 'center' to center equations.\n\"HTML-CSS\": {\nstyles: {'.MathJax_Display': {\"margin\": 4}}\n}\n});\n</script>",
       "metadata": {},
       "output_type": "pyout",
       "prompt_number": 1,
       "text": "<IPython.core.display.HTML at 0x10b3346d0>"
      }
     ],
     "prompt_number": 1
    },
    {
     "cell_type": "code",
     "collapsed": false,
     "input": "",
     "language": "python",
     "metadata": {},
     "outputs": []
    }
   ],
   "metadata": {}
  }
 ]
}