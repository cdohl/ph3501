{
 "cells": [
  {
   "cell_type": "markdown",
   "metadata": {},
   "source": [
    "$$\n",
    "\\newcommand{\\fudm}[2]{\\frac{\\mathrm{D} #1}{\\mathrm{D} #2}}\n",
    "\\newcommand{\\pad}[2]{\\frac{\\partial #1}{\\partial #2}}\n",
    "\\newcommand{\\ppad}[2]{\\frac{\\partial^2 #1}{\\partial #2^2}}\n",
    "\\newcommand{\\ppadd}[3]{\\frac{\\partial^2 #1}{\\partial #2 \\partial #3}}\n",
    "\\newcommand{\\nnabla}{\\nabla^2}\n",
    "\\newcommand{\\eps}{\\epsilon}\n",
    "\\newcommand{\\vdetail}[1]{\\vb{#1}=\\begin{pmatrix}#1_1\\\\#1_2\\\\#1_3\\end{pmatrix}}\n",
    "\\newcommand{\\vb}[1]{\\mathbf{#1}}\n",
    "\\newcommand{\\va}[1]{\\vec{#1}}\n",
    "\\newcommand{\\tb}[1]{\\underline{\\underline{\\mathbf{#1}}}}\n",
    "\\newcommand{\\fud}[2]{\\frac{\\mathrm{d} #1}{\\mathrm{d} #2}}\n",
    "$$"
   ]
  },
  {
   "cell_type": "markdown",
   "metadata": {},
   "source": [
    "# Tutorial 1"
   ]
  },
  {
   "cell_type": "markdown",
   "metadata": {},
   "source": [
    "### A bit of help \n",
    "\n",
    "- Jupyter offers four kinds of cells, we will use two of them, you can pass from one to the other in the toolbar: \n",
    " - Code: where to enter your python code \n",
    " - Markdown: for text writing, which follows most of LaTex rules\n",
    "\n",
    "\n",
    "- A very interesting feature of jupyter consists in double clicking on 1 of the Markdown (text) cell, you will then have access to the Markdown syntax and will just have to repeat.\n",
    "\n",
    "\n",
    "- To run a cell, click on it and press simultaneously the Shift and Enter keys of your keyboard.\n",
    "\n",
    "\n",
    "- A lot of forums and websites talk about Jupyter, Python and Markdown. Do not hesitate to google when you are stucked."
   ]
  },
  {
   "cell_type": "markdown",
   "metadata": {},
   "source": [
    "### How to insert an image"
   ]
  },
  {
   "cell_type": "markdown",
   "metadata": {},
   "source": [
    "<img src=\"https://upload.wikimedia.org/wikipedia/commons/2/2d/Aeroakustik-Windkanal-Messhalle.JPG\" width=400>  "
   ]
  },
  {
   "cell_type": "markdown",
   "metadata": {},
   "source": [
    "- From internet source\n",
    "\n",
    " - insert your address using the following example \n",
    "\n",
    "```<img src=\"https://upload.wikimedia.org/wikipedia/commons/2/2d/Aeroakustik-Windkanal-Messhalle.JPG\" width=600>```\n",
    "\n",
    "- From pulasan (uploaded on SPMS server): \n",
    "\n",
    " - Upload your image following below example\n",
    "\n",
    "<img src=\"Files/Images/upload.PNG\" width=1200>  \n",
    "\n",
    " - Insert the image using same syntax, just replace the internet address by the \"local\" address\n",
    "\n",
    "```<img src=\"Files/Images/upload.PNG\" width=1200>  ```"
   ]
  },
  {
   "cell_type": "markdown",
   "metadata": {},
   "source": [
    "### How to insert equations and math symbols"
   ]
  },
  {
   "cell_type": "markdown",
   "metadata": {},
   "source": [
    "As said previously, Markdown cells follow most of the LaTex syntax. Here are some examples.\n",
    "\n",
    "$$\\vec{a}=\\mathbf{a}=\\left(\n",
    "\\begin{array}{c}\n",
    "a_1\\\\\n",
    "a_2\\\\\n",
    "a_3\n",
    "\\end{array}\\right)=(a_1,a_2,a_3)^T$$\n",
    "\n",
    "\n",
    "\n",
    "\n",
    "\n",
    "\\begin{eqnarray}\n",
    "\\vec{a}\\cdot\\vec{b}=|\\vec{a}|\\,|\\vec{b}|\\,\\cos(\\vec{a},\\vec{b})&=&a_1 b_1 + a_2 b_2 +a_3 b_3\\\\\n",
    "&=&\\sum a_i b_i := a_i b_i\n",
    "\\end{eqnarray}\n",
    "\n",
    "\n",
    "For more examples have a look into Prof. Ohl's notebooks."
   ]
  },
  {
   "cell_type": "markdown",
   "metadata": {},
   "source": [
    "### How to do a plot with matplotlib\n",
    "\n",
    "There is not a single way to code,we can reach the same result using different codes"
   ]
  },
  {
   "cell_type": "code",
   "execution_count": 8,
   "metadata": {
    "collapsed": false
   },
   "outputs": [
    {
     "data": {
      "image/png": "[encoded data removed]",
      "text/plain": [
       "<matplotlib.figure.Figure at 0x10d2445d0>"
      ]
     },
     "metadata": {},
     "output_type": "display_data"
    }
   ],
   "source": [
    "# These are boilerplate, needed to tell python and Jupyter to do the right things\n",
    "# plot directly into the notebook\n",
    "%matplotlib inline \n",
    "import numpy as np #numerical package which offers matrix style algebra similar to Matlab\n",
    "import matplotlib.pylab as plt #plot library\n",
    "\n",
    "\n",
    "# Plot an ellipse\n",
    "an = np.linspace(0, 2*np.pi, 100) #an goes from 0 to 2*pi with 100 values\n",
    "bn = np.linspace(1, 2*np.pi+1, 100) #bn goes from 2*pi+1 with 100 values\n",
    "plt.plot(3*np.cos(an), 3*np.sin(bn)) #first argument of the plot function is x, second y\n",
    "plt.axis('equal') #plot the axis with equal aspect ratio \n",
    "plt.xlabel('x')\n",
    "plt.ylabel('y')\n",
    "plt.title('ellipse');\n",
    "\n"
   ]
  },
  {
   "cell_type": "code",
   "execution_count": null,
   "metadata": {
    "collapsed": true
   },
   "outputs": [],
   "source": []
  }
 ],
 "metadata": {
  "anaconda-cloud": {},
  "kernelspec": {
   "display_name": "Python 2",
   "language": "python",
   "name": "python2"
  },
  "language_info": {
   "codemirror_mode": {
    "name": "ipython",
    "version": 2
   },
   "file_extension": ".py",
   "mimetype": "text/x-python",
   "name": "python",
   "nbconvert_exporter": "python",
   "pygments_lexer": "ipython2",
   "version": "2.7.12"
  }
 },
 "nbformat": 4,
 "nbformat_minor": 0
}
