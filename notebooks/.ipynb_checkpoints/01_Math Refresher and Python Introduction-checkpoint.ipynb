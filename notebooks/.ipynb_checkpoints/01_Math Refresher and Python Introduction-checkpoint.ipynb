{
 "cells": [
  {
   "cell_type": "markdown",
   "metadata": {},
   "source": [
    "$$\n",
    "\\newcommand{\\fudm}[2]{\\frac{\\mathrm{D} #1}{\\mathrm{D} #2}}\n",
    "\\newcommand{\\pad}[2]{\\frac{\\partial #1}{\\partial #2}}\n",
    "\\newcommand{\\ppad}[2]{\\frac{\\partial^2 #1}{\\partial #2^2}}\n",
    "\\newcommand{\\ppadd}[3]{\\frac{\\partial^2 #1}{\\partial #2 \\partial #3}}\n",
    "\\newcommand{\\nnabla}{\\nabla^2}\n",
    "\\newcommand{\\eps}{\\epsilon}\n",
    "\\newcommand{\\vdetail}[1]{\\vb{#1}=\\begin{pmatrix}#1_1\\\\#1_2\\\\#1_3\\end{pmatrix}}\n",
    "\\newcommand{\\vb}[1]{\\mathbf{#1}}\n",
    "\\newcommand{\\va}[1]{\\vec{#1}}\n",
    "\\newcommand{\\tb}[1]{\\underline{\\underline{\\mathbf{#1}}}}\n",
    "\\newcommand{\\fud}[2]{\\frac{\\mathrm{d} #1}{\\mathrm{d} #2}}\n",
    "$$\n"
   ]
  },
  {
   "cell_type": "markdown",
   "metadata": {},
   "source": [
    "# Math Refresher\n",
    "\n",
    "In this course we work with vectors, matrices, and tensors. Vectors can be written as row and column vectors, this is important as it defines how they multiply with matrices and tensors. A column vector is written as a vertical tuple, while the row vector is a horizontal tuple:\n",
    "\n",
    "$$\\va{a}=\\vb{a}=\\left(\n",
    "\\begin{array}{c}\n",
    "a_1\\\\\n",
    "a_2\\\\\n",
    "a_3\n",
    "\\end{array}\\right)=(a_1,a_2,a_3)^T$$\n",
    "\n",
    "The $^T$ sign transposes the vector or matrix/tensor, rows become columns and vice versa. Please note the different ways we can write the vectors; in this course we'll mostly use the bold face style, i.e. $\\vb{a}$.\n",
    "\n",
    "##Scalar Product\n",
    "The *scalar product* or *dot product* is a product between two vectors where the same components are multiplied and then summed. The result is related to length and $\\cos$ of the angle of the two vectors.\n",
    "\n",
    "\\begin{eqnarray}\n",
    "\\vb{a}\\cdot\\vb{b}=|\\vb{a}|\\,|\\vb{b}|\\,\\cos(\\vb{a},\\vb{b})&=&a_1 b_1 + a_2 b_2 +a_3 b_3\\\\\n",
    "&=&\\sum a_i b_i := a_i b_i\n",
    "\\end{eqnarray}\n",
    "\n",
    "The last expression is a definition, the so-called *Einstein summation convention*. In this course we will only use it for identical subscripts in products. Then it states, that we automatically sum over identical subscripts, the summation sign is not written anymore. The reason is that we can conveniently write lengthy products with less mathematical symbols.\n",
    "\n",
    "Having calculated the scalar product of two vectors, we can easily obtain the angle between the vectors through:\n",
    "\n",
    "\\begin{equation}\n",
    "\\cos(\\vb{a},\\vb{b})=\\frac{\\vb{a}\\cdot\\vb{b}}{|\\vb{a}|\\,|\\vb{b}|}\n",
    "\\end{equation}\n",
    "<p>\n",
    "<div class=\"YourWork\"> Homework: <p>\n",
    "Write above equation using Einstein summation convention.</div>\n",
    "<p>\n",
    "\n",
    "Below you find how to define column and row vectors in Python. We will always use two packages which work hand in hand together. The first package is called `numpy` (short for NUMerical PYthon) which provides functions for vectors and matrices including all kinds of linear algebra tools. The second package is `scipy` (SCIentific PYthon) which has all the mathematical functions numerical and work conveniently with the vectors and matrices defined with `numpy`."
   ]
  },
  {
   "cell_type": "code",
   "execution_count": 10,
   "metadata": {
    "collapsed": false
   },
   "outputs": [
    {
     "name": "stdout",
     "output_type": "stream",
     "text": [
      "This is a row vector\n",
      "a=[[1 2 3]]\n"
     ]
    }
   ],
   "source": [
    "import numpy as np     #Numpy contains the versatile array class\n",
    "from scipy import math #Needed for the transzendental functions math.acos() and the constant math.pi\n",
    "\n",
    "print \"This is a row vector\"\n",
    "a = np.matrix([1,2,3]) \n",
    "print \"a={0}\".format(a)"
   ]
  },
  {
   "cell_type": "code",
   "execution_count": 11,
   "metadata": {
    "collapsed": false
   },
   "outputs": [
    {
     "name": "stdout",
     "output_type": "stream",
     "text": [
      "This is a column vector\n",
      "b=[[1]\n",
      " [2]\n",
      " [3]]\n",
      "b=[[1]\n",
      " [2]\n",
      " [3]]\n"
     ]
    }
   ],
   "source": [
    "print \"This is a column vector\"\n",
    "b = np.matrix([[1],[2],[3]])\n",
    "print \"b={0}\".format(b)\n",
    "b = np.matrix(\"[1;2;3]\")#you can use the matlab notation when passed as string argument \n",
    "print \"b={0}\".format(b)"
   ]
  },
  {
   "cell_type": "code",
   "execution_count": 12,
   "metadata": {
    "collapsed": false
   },
   "outputs": [
    {
     "name": "stdout",
     "output_type": "stream",
     "text": [
      "Transpose of a row vector becomes a column vector\n",
      "a^T=[[1]\n",
      " [2]\n",
      " [3]]\n"
     ]
    }
   ],
   "source": [
    "print \"Transpose of a row vector becomes a column vector\"\n",
    "print \"a^T={0}\".format(a.T) #Here, we need to create a newaxis using np.newaxis"
   ]
  },
  {
   "cell_type": "code",
   "execution_count": 13,
   "metadata": {
    "collapsed": false
   },
   "outputs": [
    {
     "name": "stdout",
     "output_type": "stream",
     "text": [
      "Dot product of two row vectors\n",
      "a . a = [[14]]\n",
      "which is the same as for two column vectors\n",
      "b . b = [[14]]\n"
     ]
    }
   ],
   "source": [
    "print \"Dot product of two row vectors\"\n",
    "print \"a . a = {0}\".format(np.vdot(a,a))\n",
    "print \"which is the same as for two column vectors\"\n",
    "print \"b . b = {0}\".format(np.vdot(b,b))                      #For column vectors we need to use vdot()"
   ]
  },
  {
   "cell_type": "code",
   "execution_count": 14,
   "metadata": {
    "collapsed": false
   },
   "outputs": [
    {
     "name": "stdout",
     "output_type": "stream",
     "text": [
      "Now we defind two normal vectors and show that their angle is indeed 90 degrees\n",
      "[[2 0]]\n",
      "[[0 2]]\n"
     ]
    }
   ],
   "source": [
    "print \"Now we defind two normal vectors and show that their angle is indeed 90 degrees\"\n",
    "c = np.matrix([2,0])\n",
    "d = np.matrix([0,2])\n",
    "print c\n",
    "print d"
   ]
  },
  {
   "cell_type": "code",
   "execution_count": 15,
   "metadata": {
    "collapsed": false
   },
   "outputs": [
    {
     "name": "stdout",
     "output_type": "stream",
     "text": [
      "Angle between (c,d) = 90.0 degree\n"
     ]
    }
   ],
   "source": [
    "myangle = math.acos(np.vdot(c,d)/(np.linalg.norm(c)/np.linalg.norm(d)))\n",
    "print \"Angle between (c,d) = {0} degree\".format(myangle*180./math.pi)"
   ]
  },
  {
   "cell_type": "markdown",
   "metadata": {},
   "source": [
    "Thus the important functions to remember are the initialization using\n",
    "`np.array([`$a_1$ `, ` $a_2$ `, ` $a_3$`])`, the scalar product `np.vdot(a,b)`, and the norm using `np.linalg.norm(a)`."
   ]
  },
  {
   "cell_type": "markdown",
   "metadata": {},
   "source": [
    "## Vector Product\n",
    "The vector product (or sometimes called cross product) leads to a vector $\\vb{c}$ which is perpendicular to $\\vb{a}$ and $\\vb{b}$:\n",
    "$$\\vb{a} \\times \\vb{b}=\\vb{c}\\quad .$$\n",
    "\n",
    "It's length is given by \n",
    "$$|\\vb{a} \\times \\vb{b}|=|\\vb{a}|\\,|\\vb{b}|\\,\\sin(\\vb{a},\\vb{b})\\,.$$\n",
    "\n",
    "A coordinate system where $\\vb{a}$ and $\\vb{b}$ are not parallel\n",
    "$$(\\vb{a},\\vb{b},\\vb{a} \\times \\vb{b})$$ \n",
    "is right handed.\n",
    "\n",
    "A few rules to keep in mind:\n",
    "\n",
    "$$\\vb{a} \\times (\\vb{b} \\times \\vb{c})\\neq (\\vb{a} \\times \\vb{b}) \\times \\vb{c}$$\n",
    "\n",
    "$$\\vb{a} \\times \\vb{b} = - \\vb{b} \\times \\vb{a}$$\n",
    "\n",
    "$$\\vb{a} \\times \\vb{a} = \\vb{0}$$\n",
    "\n",
    "$$(\\vb{a} + \\vb{b}) \\times \\vb{c}= \\vb{a} \\times \\vb{c} + \\vb{b} \\times \\vb{c}$$\n",
    "\n",
    "If $\\vb{a} \\times \\vb{b} = \\vb{0}$ then $\\vb{a}=\\vb{0}$, $\\vb{b}=\\vb{0}$, and/or $\\vb{a} \\parallel \\vb{b}$ .\n",
    "\n",
    "But how do we calculate the vector product?\n",
    "$$\\left(a_1,a_2,a_3\\right) \\times \\left(b_1,b_2,b_3\\right)=\\\\\n",
    "\\left(\\begin{array}{c}\n",
    "a_2 b_3 - a_3 b_2\\\\\n",
    "a_3 b_1 - a_1 b_3\\\\\n",
    "a_1 b_2 - a_2 b_1\n",
    "\\end{array}\\right)^T$$\n",
    "\n",
    "I have difficulty remembering the order of the variables, an eays way out is to remember that the vector product is the determinant of a matrix with 3 rows composed out of the unit vectors $(\\vb{e_1},\\vb{e_2},\\vb{e_3})$, the first, and the second vector:\n",
    "$$\\left|\\begin{array}{c c c}\n",
    "\\vb{e_1}&\\vb{e_2}&\\vb{e_3}\\\\\n",
    "a_1&a_2&a_3\\\\\n",
    "b_1&b_2&b_3\n",
    "\\end{array}\\right|=\n",
    "\\left(\\begin{array}{c}\n",
    "a_2 b_3 - a_3 b_2\\\\\n",
    "a_3 b_1 - a_1 b_3\\\\\n",
    "a_1 b_2 - a_2 b_1\n",
    "\\end{array}\\right)$$.\n",
    "\n",
    "The cross product is calculated with the function `np.cross(a,b)` where $a$ and $b$ are two row or column vectors."
   ]
  },
  {
   "cell_type": "code",
   "execution_count": 16,
   "metadata": {
    "collapsed": false
   },
   "outputs": [
    {
     "name": "stdout",
     "output_type": "stream",
     "text": [
      "We first calculate the cross product for row vectors\n",
      "a = [[1 0 0]], b = [[0 1 0]]\n",
      "a x b = [[0 0 1]]\n",
      "and then for column vectors\n",
      "a =\n",
      " [[1]\n",
      " [0]\n",
      " [0]]\n",
      "b =\n",
      " [[0]\n",
      " [1]\n",
      " [0]]\n",
      "a x b =\n",
      " [[0]\n",
      " [0]\n",
      " [1]]\n"
     ]
    }
   ],
   "source": [
    "a = np.matrix([1,0,0])\n",
    "b = np.matrix([0,1,0])\n",
    "print \"We first calculate the cross product for row vectors\"\n",
    "print \"a = {0}\".format(a)+\", b = {0}\".format(b)\n",
    "print \"a x b = {0}\".format(np.cross(a,b))\n",
    "a = a.T\n",
    "b = b.T\n",
    "print \"and then for column vectors\"\n",
    "print \"a =\\n {0}\".format(a)+\"\\nb =\\n {0}\".format(b)\n",
    "print \"a x b =\\n {0}\".format(np.cross(a,b,axis=0))\n"
   ]
  },
  {
   "cell_type": "markdown",
   "metadata": {},
   "source": [
    "## Matrix and Matrix or Inner Product\n",
    "A matrix has row and columns and each position of the matrix is addressed with a tuple $(i,j)$, where $i$ refers to the rows and $j$ to the columns. This is an example of a 3x3 matrix:\n",
    "\n",
    "$$\\tb{A}=A_{ij}=\\left(\n",
    "\\begin{array}{ccc}\n",
    "A_{11}&A_{12}&A_{13}\\\\\n",
    "A_{21}&A_{22}&A_{23}\\\\\n",
    "A_{31}&A_{32}&A_{33}\n",
    "\\end{array}\\right)$$"
   ]
  },
  {
   "cell_type": "markdown",
   "metadata": {},
   "source": [
    "The product of two matrices at position $(i,j)$ in the resulting matrix is the summation of the products of the $i$-th row of the first matrix and the $j$-th column of the second matrix. As an example let two 3x3 matrices $\\tb{A}$ and $\\tb{B}$ multiply and write down the component (2,1) of the resulting matrix:\n",
    "\n",
    "$$\\tb{A}\\,\\tb{B}=\n",
    "\\left(\\begin{array}{ccc}\n",
    "A_{11}&A_{12}&A_{13}\\\\\n",
    "A_{21}&A_{22}&A_{23}\\\\\n",
    "A_{31}&A_{32}&A_{33}\n",
    "\\end{array}\\right) \n",
    "\\left(\\begin{array}{ccc}\n",
    "B_{11}&B_{12}&B_{13}\\\\\n",
    "B_{21}&B_{22}&B_{23}\\\\\n",
    "B_{31}&B_{32}&B_{33}\n",
    "\\end{array}\\right)=\n",
    "\\left(\\begin{array}{ccc}\n",
    "...&...&...\\\\\n",
    "A_{21}B_{11}+A_{22}B_{21}+A_{23}B_{31}&...&...\\\\\n",
    "...&...&...\n",
    "\\end{array}\\right)$$\n",
    "\n",
    "The identity matrix is \n",
    "\n",
    "$$\\tb{I}=\n",
    "\\left(\\begin{array}{ccc}\n",
    "1&0&0\\\\\n",
    "0&1&0\\\\\n",
    "0&0&1\n",
    "\\end{array}\\right)=\\delta_{ij}$$\n",
    "\n",
    "The transpose operator switches rows with columns, i.e. transforms $(i,j)\\rightarrow(j,i)$. As an example we transpose A:\n",
    "\n",
    "\n",
    "$$\\tb{A}^T=\\left(\\begin{array}{ccc}\n",
    "A_{11}&A_{21}&A_{31}\\\\\n",
    "A_{12}&A_{22}&A_{32}\\\\\n",
    "A_{13}&A_{23}&A_{33}\n",
    "\\end{array}\\right) $$\n"
   ]
  },
  {
   "cell_type": "code",
   "execution_count": 17,
   "metadata": {
    "collapsed": false
   },
   "outputs": [
    {
     "name": "stdout",
     "output_type": "stream",
     "text": [
      "define matrix A\n",
      "[[ 1  2  3]\n",
      " [ 3  2  1]\n",
      " [-1  1 -1]]\n",
      "B is a matrix filled with ones:\n",
      "[[ 1.  1.  1.]\n",
      " [ 1.  1.  1.]\n",
      " [ 1.  1.  1.]]\n",
      "I is the identity matrix\n",
      "[[ 1.  0.  0.]\n",
      " [ 0.  1.  0.]\n",
      " [ 0.  0.  1.]]\n",
      "The product of AB =\n",
      " [[ 6.  6.  6.]\n",
      " [ 6.  6.  6.]\n",
      " [-1. -1. -1.]]\n"
     ]
    }
   ],
   "source": [
    "print \"define matrix A\"\n",
    "A = np.matrix([[1,2,3],[3,2,1],[-1,1,-1]])\n",
    "A = np.matrix(\"[1 2 3; 3 2 1; -1 1 -1]\") # again the same using matlab formated string\n",
    "print A\n",
    "print \"B is a matrix filled with ones:\"\n",
    "B = np.ones((3,3))\n",
    "print B\n",
    "print \"I is the identity matrix\"\n",
    "I = np.eye(3)                 #identity matrix\n",
    "print I\n",
    "print \"The product of AB =\\n {0}\".format(A*B)"
   ]
  },
  {
   "cell_type": "markdown",
   "metadata": {},
   "source": [
    "## Inner Product between a vector and a matrix\n",
    "The inner or matrix product is generated of the product of the *row* of the first matrix and the *columnn* of the second matrix. Thus multiplying a vector with a matrix can be either a row vector, $\\vb{a}$, with a matrix, $\\tb{A}$, thus $\\vb{a} \\tb{A}$ or a matrix multiplied with a column vector, $\\vb{b}$, thus $\\tb{A} \\vb{b}$. The resulting vector keeps the shape of the initial vector, i.e. a row or column vector. The product is not communitative.\n",
    "\n",
    "$$\\vb{a} \\tb{A} = \\left(a_1,a_2,a_3\\right)\\,\n",
    "\\left(\\begin{array}{ccc}\n",
    "A_{11}&A_{12}&A_{13}\\\\\n",
    "A_{21}&A_{22}&A_{23}\\\\\n",
    "A_{31}&A_{32}&A_{33}\n",
    "\\end{array}\\right)=\\left(\n",
    "\\begin{array}{c}\n",
    "a_1 A_{11} + a_1 A_{21} + a_1 A_{31}\\\\\n",
    "a_2 A_{12} + a_2 A_{22} + a_2 A_{32}\\\\\n",
    "a_3 A_{13} + a_3 A_{23} + a_3 A_{33}\\\\\n",
    "\\end{array}\n",
    "\\right)^T$$\n",
    "\n",
    "$$ \\tb{A} \\vb{b}= \n",
    "\\left(\\begin{array}{ccc}\n",
    "A_{11}&A_{12}&A_{13}\\\\\n",
    "A_{21}&A_{22}&A_{23}\\\\\n",
    "A_{31}&A_{32}&A_{33}\n",
    "\\end{array}\\right)\n",
    "\\left(\\begin{array}{c}\n",
    "b_1\\\\b_2\\\\b_3\n",
    "\\end{array}\\right)\n",
    "=\\left(\n",
    "\\begin{array}{c}\n",
    "b_1 A_{11} + b_2 A_{12} + b_3 A_{13}\\\\\n",
    "b_1 A_{21} + b_2 A_{22} + b_3 A_{23}\\\\\n",
    "b_1 A_{31} + b_2 A_{32} + b_3 A_{33}\\\\\n",
    "\\end{array}\n",
    "\\right)$$\n",
    "\n",
    "\n",
    "Next we have a look how matrix-vector multiplications are done with Python:  "
   ]
  },
  {
   "cell_type": "code",
   "execution_count": 18,
   "metadata": {
    "collapsed": false
   },
   "outputs": [
    {
     "name": "stdout",
     "output_type": "stream",
     "text": [
      "a is a row vector,\n",
      " a = [[1 2 3]]\n",
      "b is a column vector,\n",
      " b = [[1]\n",
      " [2]\n",
      " [3]]\n",
      "a A = [[4 9 2]]\n",
      "A b = [[14]\n",
      " [10]\n",
      " [-2]]\n",
      "However if we take the transpose of the matrix and the transpose of the expression\n",
      "((A)T b)T = [[4 9 2]]\n",
      "then we obtain the identical result.\n"
     ]
    }
   ],
   "source": [
    "a=np.matrix(\"[1 2 3]\") #row vector\n",
    "print\"a is a row vector,\\n a = {0}\".format(a)\n",
    "b=a.T                      #row vector by transposing a\n",
    "print\"b is a column vector,\\n b = {0}\".format(b)\n",
    "print \"a A = {0}\".format(a*A) #row vector times a matrix\n",
    "print \"A b = {0}\".format(A*b) #matrix times a column vector\n",
    "print \"However if we take the transpose of the matrix and the transpose of the expression\"\n",
    "print \"((A)T b)T = {0}\".format((A.T*b).T) \n",
    "print \"then we obtain the identical result.\""
   ]
  },
  {
   "cell_type": "markdown",
   "metadata": {},
   "source": [
    "<div class=\"YourWork\"> Homework:<p>\n",
    "1. Write the multiplication $\\vb{a} \\tb{A}$ and $\\tb{A} \\vb{b}$ using Einstein summation convention. Hint: Write it first as a sum using the $\\sum$-symbol.<p>\n",
    "2. What happens in Python when you multiply a column vector to the left side of a 3x3 matrix?\n",
    "</div>"
   ]
  },
  {
   "cell_type": "code",
   "execution_count": 19,
   "metadata": {
    "collapsed": false
   },
   "outputs": [
    {
     "data": {
      "text/html": [
       "<link href='http://fonts.googleapis.com/css?family=Fenix' rel='stylesheet' type='text/css'>\n",
       "<link href='http://fonts.googleapis.com/css?family=Alegreya+Sans:100,300,400,500,700,800,900,100italic,300italic,400italic,500italic,700italic,800italic,900italic' rel='stylesheet' type='text/css'>\n",
       "<link href='http://fonts.googleapis.com/css?family=Source+Code+Pro:300,400' rel='stylesheet' type='text/css'>\n",
       "<style>\n",
       "@font-face {\n",
       "font-family: \"Computer Modern\";\n",
       "src: url('http://mirrors.ctan.org/fonts/cm-unicode/fonts/otf/cmunss.otf');\n",
       "}\n",
       "div.cell{\n",
       "\twidth:800px;\n",
       "\tmargin-left:5% !important;\n",
       "\tmargin-right:auto;\n",
       "}\n",
       "div.YourWork{\n",
       "\tbackground-color: #FFCC66;\t\n",
       "}\n",
       "h1 {\n",
       "font-family: 'Alegreya Sans', sans-serif;\n",
       "}\n",
       "h2 {\n",
       "font-family: 'Fenix', serif;\n",
       "}\n",
       "h3{\n",
       "font-family: 'Fenix', serif;\n",
       "margin-top:12px;\n",
       "margin-bottom: 3px;\n",
       "}\n",
       "h4{\n",
       "font-family: 'Fenix', serif;\n",
       "}\n",
       "h5 {\n",
       "font-family: 'Alegreya Sans', sans-serif;\n",
       "}\n",
       "div.text_cell_render{\n",
       "font-family: 'Alegreya Sans',Computer Modern, \"Helvetica Neue\", Arial, Helvetica, Geneva, sans-serif;\n",
       "line-height: 135%;\n",
       "font-size: 120%;\n",
       "width:600px;\n",
       "margin-left:auto;\n",
       "margin-right:auto;\n",
       "}\n",
       ".CodeMirror{\n",
       "font-family: \"Source Code Pro\";\n",
       "font-size: 90%;\n",
       "}\n",
       ".rendered_html code{\n",
       "\tbackground-color: transparent;\t\n",
       "}\n",
       "/* .prompt{\n",
       "display: None;\n",
       "}*/\n",
       ".text_cell_render h1 {\n",
       "font-weight: 200;\n",
       "font-size: 50pt;\n",
       "line-height: 100%;\n",
       "color:#CD2305;\n",
       "margin-bottom: 0.5em;\n",
       "margin-top: 0.5em;\n",
       "display: block;\n",
       "}\n",
       ".text_cell_render h5 {\n",
       "font-weight: 300;\n",
       "font-size: 12pt;\n",
       "margin-bottom: 0.5em;\n",
       "margin-top: 0.5em;\n",
       "display: block;\n",
       "border-style: double;\n",
       "border-width: medium;\n",
       "border-color: black;\n",
       "background-color: #F0F0F0;\n",
       "text-align: center;\n",
       "}\n",
       ".warning{\n",
       "color: rgb( 240, 20, 20 )\n",
       "}\n",
       "</style>\n",
       "<script>\n",
       "MathJax.Hub.Config({\n",
       "TeX: {\n",
       "extensions: [\"AMSmath.js\"]\n",
       "},\n",
       "tex2jax: {\n",
       "inlineMath: [ ['$','$'], [\"\\\\(\",\"\\\\)\"] ],\n",
       "displayMath: [ ['$$','$$'], [\"\\\\[\",\"\\\\]\"] ]\n",
       "},\n",
       "displayAlign: 'center', // Change this to 'center' to center equations.\n",
       "\"HTML-CSS\": {\n",
       "styles: {'.MathJax_Display': {\"margin\": 4}}\n",
       "}\n",
       "});\n",
       "</script>"
      ],
      "text/plain": [
       "<IPython.core.display.HTML at 0x1098fc310>"
      ]
     },
     "execution_count": 19,
     "metadata": {},
     "output_type": "execute_result"
    }
   ],
   "source": [
    "from IPython.core.display import HTML\n",
    "def css_styling():\n",
    "    styles = open(\"styles/custom.css\", \"r\").read()\n",
    "    return HTML(styles)\n",
    "css_styling()"
   ]
  },
  {
   "cell_type": "code",
   "execution_count": 19,
   "metadata": {
    "collapsed": false
   },
   "outputs": [],
   "source": []
  }
 ],
 "metadata": {
  "kernelspec": {
   "display_name": "Python 2",
   "language": "python",
   "name": "python2"
  },
  "language_info": {
   "codemirror_mode": {
    "name": "ipython",
    "version": 2
   },
   "file_extension": ".py",
   "mimetype": "text/x-python",
   "name": "python",
   "nbconvert_exporter": "python",
   "pygments_lexer": "ipython2",
   "version": "2.7.11"
  }
 },
 "nbformat": 4,
 "nbformat_minor": 0
}
