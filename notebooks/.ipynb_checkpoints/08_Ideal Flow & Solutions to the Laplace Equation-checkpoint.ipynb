{
 "cells": [
  {
   "cell_type": "markdown",
   "metadata": {},
   "source": [
    "$$\n",
    "\\newcommand{\\fudm}[2]{\\frac{\\mathrm{D} #1}{\\mathrm{D} #2}}\n",
    "\\newcommand{\\pad}[2]{\\frac{\\partial #1}{\\partial #2}}\n",
    "\\newcommand{\\ppad}[2]{\\frac{\\partial^2 #1}{\\partial #2^2}}\n",
    "\\newcommand{\\ppadd}[3]{\\frac{\\partial^2 #1}{\\partial #2 \\partial #3}}\n",
    "\\newcommand{\\nnabla}{\\nabla^2}\n",
    "\\newcommand{\\eps}{\\epsilon}\n",
    "\\newcommand{\\vdetail}[1]{\\vb{#1}=\\begin{pmatrix}#1_1\\\\#1_2\\\\#1_3\\end{pmatrix}}\n",
    "\\newcommand{\\vb}[1]{\\mathbf{#1}}\n",
    "\\newcommand{\\va}[1]{\\vec{#1}}\n",
    "\\newcommand{\\vc}[1]{\\begin{pmatrix}#1_1\\\\#1_2\\end{pmatrix}}\n",
    "\\newcommand{\\vd}[1]{\\begin{pmatrix}#1_1\\\\#1_2\\\\#1_3\\end{pmatrix}}\n",
    "\\newcommand{\\tb}[1]{\\underline{\\underline{\\mathbf{#1}}}}\n",
    "\\newcommand{\\fud}[2]{\\frac{\\mathrm{d} #1}{\\mathrm{d} #2}}\n",
    "\\newcommand{\\dd}{\\mathrm{d}}\n",
    "$$"
   ]
  },
  {
   "cell_type": "markdown",
   "metadata": {},
   "source": [
    "#Ideal Flow & Solutions to the Laplace Equation \n",
    "The Laplace equation for the velocity potential is only valid for incompressible and irrotational flows. In mathemtatical language we can write:\n",
    "\n",
    "1. We assume an irrotational velocity field\n",
    "$$\\nabla \\times \\vb{u}=0\\quad.$$\n",
    "This is a good approximation if the flow field is far from boundaries and for not too high Reynolds numbers (not turbulent). <p>\n",
    "\n",
    "2. Because the velocity field is irrotational we can derive the velocity field from a gradient of a scalar field $\\phi$. This is named the velocity potential\n",
    "$$\\vb{u}=\\nabla \\phi\\quad .$$ <p>\n",
    "\n",
    "3. The flow field is solenoid-divergent free-incompressible-source and sink free. All these qualities are synonymous to \n",
    "$$\\nabla \\cdot \\vb{u}=0\\quad .$$<p>\n",
    "\n",
    "Then and only then we can apply the Laplace equation \n",
    "\n",
    "$$\\nabla^2 \\phi=0$$ for the velocity potential.\n",
    "\n",
    "This is a big improvement, first the equation is rather simple, the solution to the whole domain is give by the boundary conditions only, it is linear, and there are lots of possibilities to find analytical solutions besides the numerical solution shown in the last notebook.\n",
    "\n",
    "##Linearity\n",
    "A linear superposition of solutions is the weighted sum of their individual solutions, i.e. for $\\phi_1$ and $\\phi_2$ the linear superposition is\n",
    "\n",
    "$$\\phi_3=a \\phi_1 + b \\phi_2\\quad.$$\n",
    "\n",
    "Because the Laplace Equation is linear in $\\phi$ also the superposition of solutions is a solution to the Laplace equation. Thus if $\\phi_1$ and $\\phi_2$ are solutions, also $\\phi_3$ is a solution. This is a very important statement. It allows to compose a solutions from fundamental solutions by just adding them. This is what we are going to do next.\n",
    "\n",
    "##Laplace Equation in polar coordinates\n",
    "Sometimes it is convenient to use a polar coordinate system rather than the cartesian, and sometimes we need to switch between them. Herve are the equations for the \n",
    "Velocity potential\n",
    "\n",
    "\\begin{eqnarray*}\n",
    "u_r&=&\\pad{\\phi}{r}\\\\\n",
    "u_\\theta&=&\\frac{1}{r}\\pad{\\phi}{\\theta}\n",
    "\\end{eqnarray*}\n",
    "\n",
    "and the Laplace equation\n",
    "\n",
    "$$\\nabla^2\\phi=\\frac{1}{r}\\pad{}{r}\\left(r\\pad{\\phi}{r}\\right) + \\frac{1}{r^2}\\ppad{\\phi}{\\theta}\\quad .$$\n",
    "\n",
    "\n",
    "##Fundamental solutions\n",
    "We will find fundamental solutions to the Laplace equations and the combine them to describe more complex flows. \n",
    "\n",
    "###Uniform Flow\n",
    "The velocity potential $\\phi=x_1 U$ leads to the velocity field \n",
    "\n",
    "$$\\vb{u}=\\nabla \\phi=U \\begin{pmatrix}1\\\\0\\end{pmatrix}\\quad .$$\n",
    "\n",
    "This is a uniform flow in the $x_1$-direction. It can be generalized to \n",
    "\n",
    "$$\\phi=x_1 U \\, t_1 + x_2 U \\, t_2$$\n",
    "\n",
    "where $\\vb{t}=\\vc{t}$ is the unit vector of the tangential direction of the flow and $U$ the magnitude.\n",
    "\n"
   ]
  },
  {
   "cell_type": "code",
   "execution_count": null,
   "metadata": {
    "collapsed": true
   },
   "outputs": [],
   "source": []
  },
  {
   "cell_type": "code",
   "execution_count": null,
   "metadata": {
    "collapsed": true
   },
   "outputs": [],
   "source": []
  }
 ],
 "metadata": {
  "kernelspec": {
   "display_name": "Python 2",
   "language": "python",
   "name": "python2"
  },
  "language_info": {
   "codemirror_mode": {
    "name": "ipython",
    "version": 2
   },
   "file_extension": ".py",
   "mimetype": "text/x-python",
   "name": "python",
   "nbconvert_exporter": "python",
   "pygments_lexer": "ipython2",
   "version": "2.7.10"
  }
 },
 "nbformat": 4,
 "nbformat_minor": 0
}
