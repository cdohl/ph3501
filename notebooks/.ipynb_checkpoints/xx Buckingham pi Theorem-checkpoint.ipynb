{
 "cells": [
  {
   "cell_type": "markdown",
   "metadata": {},
   "source": [
    "## Dimensional Analysis and the $\\pi$-Theorem\n",
    "\n",
    "We'll introduce a formal tool to extract the important parameter characterizing the flow. The physics of the problem resides in the units. We make use of the *units*!\n",
    "\n",
    "The basic units we need in fluid mechanics are \n",
    "\n",
    "| Unit   | Abbreviation | SI unit\n",
    "|--------|--------------|----\n",
    "| Length | L| m\n",
    "| Time   | T| s\n",
    "| Mass   | M| kg\n",
    "\n",
    "which allows to write the derived quantities as  \n",
    "\n",
    "|derived quantity| units\n",
    "|----------------|------\n",
    "| area | L$^2$\n",
    "| volume | L$^3$\n",
    "| velocity| L T$^{-1}$\n",
    "|acceleration | L T$^{-2}$\n",
    "|pressure | M L$^{-1}$T$^{-2}$\n",
    "|energy | M L$^2$T$^{-2}$\n",
    "|density| M L$^{-3}$\n",
    "|dynamic viscosity| M L$^{-1}$T$^{-1}$\n",
    "|kinematic viscosity| L$^{2}$T$^{-1}$\n",
    "|....| and many more |\n",
    "\n",
    "\n",
    "## Buckingham $\\pi$ Theorem\n",
    "\n",
    "Consider we have a physical equation as\n",
    "\n",
    "$$f(q_1,q_2,...,q_n)=0\\tag{1}$$\n",
    "\n",
    "Where $q_i$ are $n$ physical variables, and they are expressed in $k$ independent physical units. Then Eq. (1) can be rewritten as\n",
    "\n",
    "$$F(\\pi_1,\\pi_2,...,\\pi_p)=0\\tag{2}$$\n",
    "\n",
    "where $\\pi_i$ are dimensionless parameters constructed from the $q_i$. \n",
    "The number of dimensionless parameters is $q=n-k$. The dimensionless parameters are named $\\pi$-groups and have the form\n",
    "\n",
    "$$\\pi_i=q_1^{a_1}q_2^{a_2}...q_n^{a_n}\\tag{3}\\quad .$$\n",
    "\n",
    "\n",
    "### Dimensional Matrix\n",
    "\n",
    "\n",
    "We can write the dimensional qualities of each variable as\n",
    "\n",
    "   | $q_1$ | $q_2$ | ... | $q_n$\n",
    "---|-------|-------|-----|---- \n",
    "L  |       |       |     | \n",
    "M  |       |       |     | \n",
    "T  |       |       |     |\n",
    "\n",
    "\n",
    "or \n",
    "\n",
    "\n",
    "$$ M=\\left[\\begin{array}{c}\n",
    "a & b & c\\\\\n",
    "a & b & c\n",
    "\\end{array}\\right]$$"
   ]
  },
  {
   "cell_type": "code",
   "execution_count": null,
   "metadata": {
    "collapsed": true
   },
   "outputs": [],
   "source": []
  }
 ],
 "metadata": {
  "kernelspec": {
   "display_name": "Python 2",
   "language": "python",
   "name": "python2"
  },
  "language_info": {
   "codemirror_mode": {
    "name": "ipython",
    "version": 2
   },
   "file_extension": ".py",
   "mimetype": "text/x-python",
   "name": "python",
   "nbconvert_exporter": "python",
   "pygments_lexer": "ipython2",
   "version": "2.7.12"
  }
 },
 "nbformat": 4,
 "nbformat_minor": 0
}
