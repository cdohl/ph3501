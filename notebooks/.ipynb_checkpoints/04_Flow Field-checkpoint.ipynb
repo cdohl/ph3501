{
 "cells": [
  {
   "cell_type": "markdown",
   "metadata": {
    "slideshow": {
     "slide_type": "skip"
    }
   },
   "source": [
    "$$\n",
    "\\newcommand{\\fudm}[2]{\\frac{\\mathrm{D} #1}{\\mathrm{D} #2}}\n",
    "\\newcommand{\\pad}[2]{\\frac{\\partial #1}{\\partial #2}}\n",
    "\\newcommand{\\ppad}[2]{\\frac{\\partial^2 #1}{\\partial #2^2}}\n",
    "\\newcommand{\\ppadd}[3]{\\frac{\\partial^2 #1}{\\partial #2 \\partial #3}}\n",
    "\\newcommand{\\nnabla}{\\nabla^2}\n",
    "\\newcommand{\\eps}{\\epsilon}\n",
    "\\newcommand{\\vdetail}[1]{\\vb{#1}=\\begin{pmatrix}#1_1\\\\#1_2\\\\#1_3\\end{pmatrix}}\n",
    "\\newcommand{\\vb}[1]{\\mathbf{#1}}\n",
    "\\newcommand{\\va}[1]{\\vec{#1}}\n",
    "\\newcommand{\\vc}[1]{\\begin{pmatrix}#1_1\\\\#1_2\\end{pmatrix}}\n",
    "\\newcommand{\\vd}[1]{\\begin{pmatrix}#1_1\\\\#1_2\\\\#1_3\\end{pmatrix}}\n",
    "\\newcommand{\\tb}[1]{\\underline{\\underline{\\mathbf{#1}}}}\n",
    "\\newcommand{\\fud}[2]{\\frac{\\mathrm{d} #1}{\\mathrm{d} #2}}\n",
    "\\newcommand{\\dd}{\\mathrm{d}}\n",
    "$$\n"
   ]
  },
  {
   "cell_type": "markdown",
   "metadata": {
    "slideshow": {
     "slide_type": "slide"
    }
   },
   "source": [
    "# Flow Field Decomposition\n",
    "\n",
    "In kinematics we are presented with a flow field $\\vb{u}=\\vb{u}(x_1,x_2,x_3,t)$ which transports and deforms fluid particles. We now want to understand the basic manipulations of a fluid particle besides a simple transplation. These are:\n",
    "\n",
    "1. straining\n",
    "2. shearing\n",
    "3. rotation\n",
    "\n",
    "To be more precise, not the absolute amount of for example rotation is of interest but how fast the rotation is, i.e. the rate of rotation. Therefore, all fluid manipulations are with respect to time, and we call them the rate of strain, the rate of shear, and the rate of rotation. Thus the units for these three fluid particle manipulations is [1/T].\n",
    "\n",
    "The flow field decomposition can be formalized mathematically, yet keep in mind that it serves a physical purpose, i.e. to understand how the flow field locally deforms a fluid particles.\n",
    "\n",
    "If the flow field is homogeneous, thus the fluid velocity is constant along each direction, fluid particles do not deform, although they get transported. Only a velocity gradient can lead to a deformation. This is quantified with the velocity gradient tensor (please note Einstein summation over repeating indices): \n",
    "\n",
    "$$du_i=\\pad{u_i}{x_j}dx_j=\\pad{u_i}{x_1}dx_1+\\pad{u_i}{x_2}dx_2+\\pad{u_i}{x_3}dx_3 \\quad .$$\n",
    "\n",
    "The index $i$ varies from $1...3$ thus we have actually 9 components of $\\fud{u_i}{x_j}$ and can write it as a matrix\n",
    "\n",
    "$$\\nabla \\vb{u}=\n",
    "\\left( \\begin{array}{ccc}\n",
    "\\pad{u_1}{x_1} & \\pad{u_1}{x_2} & \\pad{u_1}{x_3} \\\\\n",
    "\\pad{u_2}{x_2} & \\pad{u_2}{x_2} & \\pad{u_2}{x_3} \\\\\n",
    "\\pad{u_3}{x_3} & \\pad{u_3}{x_2} & \\pad{u_3}{x_3} \\end{array} \\right)\n",
    "$$\n",
    "\n",
    "Thus above equation can be written with the definition of the velocity gradient tensor as $d\\vb{u}=\\nabla \\vb{u}\\, d\\vb{x}$.\n",
    "\n",
    "But how do connect the velocity gradient tensor with the fluid deformation. To answer this we need first to look at a decompostion (separation) of a matrix into a symmetric and antisymmetric part. Any 3x3 matrix can be decomposed using the following identity:\n",
    "\n",
    "$$B_{ij}=\\frac{1}{2} \\left( B_{ij} +B_{ji}\\right) + \\frac{1}{2} \\left(B_{ij}-B_{ji}\\right)\\quad .$$\n",
    "\n",
    "A symmetric matrix $\\tb{S}$ has the property $\\tb{S}=\\tb{S}^T$ or $S_{ij}=S_{ji}$ while an asymmetric matrix changes sign upon transposing, i.e. $\\tb{A}^T=-\\tb{A}$ or $A_{ij}=-A_{ji}$.\n",
    "\n",
    "Please check this decomposition using this example:"
   ]
  },
  {
   "cell_type": "code",
   "execution_count": 6,
   "metadata": {
    "collapsed": false
   },
   "outputs": [
    {
     "name": "stdout",
     "output_type": "stream",
     "text": [
      "[[-8 -3  4]\n",
      " [ 4  6  7]\n",
      " [ 4 -7  3]]\n",
      "[[-8.   0.5  4. ]\n",
      " [ 0.5  6.   0. ]\n",
      " [ 4.   0.   3. ]]\n",
      "[[ 0.  -3.5  0. ]\n",
      " [ 3.5  0.   7. ]\n",
      " [ 0.  -7.   0. ]]\n"
     ]
    }
   ],
   "source": [
    "import numpy as np  \n",
    "from scipy import math\n",
    "\n",
    "#random 3x3 matrix filled with random integers between -9 and 9\n",
    "B= np.random.randint(-9,high=9,size=(3,3)) \n",
    "\n",
    "#a symmetric matrix\n",
    "S=1./2.*(B+B.T)\n",
    "\n",
    "#an antisymmetric matrix\n",
    "A=1./2.*(B-B.T)\n",
    "\n",
    "#print all them\n",
    "print B\n",
    "print S\n",
    "print A"
   ]
  },
  {
   "cell_type": "markdown",
   "metadata": {},
   "source": [
    "Above example starts with 9 independent components in matrix $\\tb{B}$. How many independent components do we have in $\\tb{S}$ and in $\\tb{A}$?\n",
    "\n",
    "Coming back to the velcoity gradient tensor, we now apply the same decomposition and give names to the two tensors.\n",
    "\n",
    "$$\\nabla \\vb{u}=\\frac{1}{2} \\left( \\pad{u_i}{x_j}+\\pad{u_j}{x_i}\\right) + \\frac{1}{2} \\left( \\pad{u_i}{x_j}-\\pad{u_j}{x_i}\\right)=S_{ij} + \\frac{1}{2} R_{ij}$$\n",
    "\n",
    "where $S_{ij}$ is named the rate of shear tensor and $R_{ij}$ is the rotation tensor. For convenience at some later stage we define the rotation tensor as twice the antisymmetric tensor.\n"
   ]
  },
  {
   "cell_type": "markdown",
   "metadata": {},
   "source": [
    "## Rate of Strain \n",
    "\n",
    "\n",
    "\n",
    "We can define the rate of strain in $x_1$-directoon as the rate of change of an infinitesimal length $\\delta x_1$. In mathematical language this can be written as\n",
    "\n",
    "$$\\fudm{}{t} \\frac{\\overline{A'B'}-\\overline{AB}}{\\overline{AB}}$$\n",
    "\n",
    "where the distance $\\overline{AB}$ is the initial length of the fluid particle and $\\overline{A'B'}$ afterwards. The unit of this quantity is [1/T].\n",
    "\n",
    "Now looking at above figure we can connect express the distances through the flow field variables and the time $dt$.\n",
    "\n",
    "\n",
    "<img src=\"pics/ffd_fig1.png\" width=450> <p>\n",
    "\n",
    "$$\\lim_{dt\\rightarrow 0}\\frac{1}{dt}\\frac{\\delta x_1 +\\left(u_1+\\pad{u_1}{x_1}\\delta x_1\\right) dt - u_1 dt}{\\delta x_1}=\\pad{u_1}{x_1}$$\n",
    "\n",
    "Only the gradient of the velocity component along the velocity direction contributes to the rate of strain of a fluid particle in that direction. Above analysis can be repeated to the strain in the other two directions with similar results. In general, the rates of strain populate the diagonal of the velocity gradient tensor and the rate of shear tensor.\n"
   ]
  },
  {
   "cell_type": "markdown",
   "metadata": {},
   "source": [
    "## Rate of shear\n",
    "\n",
    "Shear is the deformation a deck of cards experiences when you move the uppermost cards horizontally. A square deforms due to shear into a rhombus, right angles become tilted. The rate of shear is the rate at which the average angle of the fluid particle changes.\n",
    "\n",
    "This can be put into a mathematical language as\n",
    "\n",
    "$$\\frac{1}{2}\\fudm{(d\\alpha + d\\beta)}{t}$$\n",
    "\n",
    "<img src=\"pics/ffd_fig2.png\" width=450> <p>\n",
    "\n",
    "Above figure depicts the pure shearing of a square fluid particle, only the angles change, not the length or height. The angles are thus given by the $\\sin d\\alpha\\approx\\tan d\\alpha\\approx d\\alpha$. Please carefully inspect the definition of the angles, one of them is counterclockwise and while the second is clockwise. The reason is that we want to quantify shear. If however we define the angles in the same direction, we would measure rotation (which will be done below).\n",
    "\n",
    "$$\\lim_{dt\\rightarrow 0} \\frac{1}{2 dt}\\left(\\frac{1}{\\delta x_2}\\left(\\pad{u_1}{x_2}\\delta x_2 dt\\right)+\\frac{1}{\\delta x_1}\\left(\\pad{u_2}{x_1}\\delta x_1 dt\\right)\\right)=\\frac{1}{2}\\left(\\pad{u_1}{x_2}+\\pad{u_2}{x_1}\\right)$$\n",
    "\n",
    "You will notice that above expression for the rate of shear is identical to the elements of the rate of shear tensor $S_{12}$. As the rate of shear tensor is symmetrical, it is also identical to $S_{21}$. \n"
   ]
  },
  {
   "cell_type": "markdown",
   "metadata": {},
   "source": [
    "## Fluid Rotation\n",
    "\n",
    "As the last fluid deformation we have a look at the rotation of the fluid element. Instead of analyzing the sum of the two angles of above figure, we now look for the difference. We will be using the mathematical postive sense of rotation (counterclockwise). Then the average rotation of the fluid particle is\n",
    "\n",
    "$$\\frac{1}{2}\\fudm{(-d\\alpha + d\\beta)}{t}$$\n",
    "\n",
    "which can be written analogous to above derivation, but noting the minus sign, i.e. \n",
    "\n",
    "$$\\lim_{dt\\rightarrow 0} \\frac{1}{2 dt}\\left(-\\frac{1}{\\delta x_2}\\left(\\pad{u_1}{x_2}\\delta x_2 dt\\right)+\\frac{1}{\\delta x_1}\\left(\\pad{u_2}{x_1}\\delta x_1 dt\\right)\\right)=\\frac{1}{2}\\left(-\\pad{u_1}{x_2}+\\pad{u_2}{x_1}\\right)$$\n",
    "\n",
    "The last expression can be identified with the element $\\frac{1}{2}R_{21}$ which is equal to $-\\frac{1}{2}R_{12}$ (why?).\n",
    "The 3 independent components of the rotation tensor is thus populated with twice the rotation rate. Why is there a factor or 2?\n",
    "\n",
    "We can use the curl-operator on the velocity field, i.e. \n",
    "\n",
    "$$\\va{\\omega}=\\left(\\omega_1,\\omega_2,\\omega_3\\right)^T=\\nabla \\times \\vb{u}\\quad ,$$\n",
    "\n",
    "where $\\va{\\omega}$ is called the vorticity. By inspection we can identify the elements of the rotation tensor $\\tb{R}$ with the elements of the vorticity vector, e.g.\n",
    "\n",
    "$$\\tb{R}=\\left( \\begin{array}{ccc}\n",
    "0 & -\\omega_3 & \\omega_2\\\\\n",
    "\\omega_3 & 0 & -\\omega_1 \\\\\n",
    "-\\omega_2 & \\omega_1 & 0 \\end{array} \\right)\\quad .$$\n",
    "\n"
   ]
  },
  {
   "cell_type": "markdown",
   "metadata": {},
   "source": [
    "## Principle Direction of Rate of Strain (Eigenvalues and Eigenvectors of a Symmetric Tensor)\n",
    "\n",
    "We want to understand what are the directions in which the rate of strain tensor $S_{ij}$ is deforming a fluid particle. This task can rather easly be accomplished using some of our knowledge from linear algebra which says: Any symmetric tensor (with real elements) can be transformed into a new coordinate system that all elements of the tensors are 0, except for the elements on the diagonal, $S'_{ij}$. The coordinate axis are parallel to the eigenvectors of the symmetric tensor, i.e. the rate of strain tensor. This new (rotated/flipped) coordinate axis are named the principle axis of $S'_{ij}$. In this coordinate system the strain is acting only along these axis. \n",
    "\n",
    "Let's do the mathematics first and then apply in an example.\n",
    "\n",
    "1.) To calculate the eigenvectors of the symmetric tensor we need to obtain the eigenvalues, $\\lambda^k$ with $k=1,2,3$. They are the solution to the equation\n",
    "\n",
    "$$\\det \\left| S_{ij} -\\lambda \\delta_{ij}\\right|=0\\quad.$$\n",
    "\n",
    "2.) The eigenvectors $\\vb{b}$ are the vectors fulfilling the equation\n",
    "\n",
    "$$\\left(\\tb{S}-\\lambda \\tb{\\delta}\\right)\\vb{b}=\\vb{0}\\quad .$$\n",
    "\n",
    "3.) In the coordinate system where the unit vectors coincide with the eigenvectors the tensor has only diagonal elements, thus:\n",
    "\n",
    "$$\\tb{S'}=\\left( \\begin{array}{ccc}\n",
    "\\lambda^1 & 0 & 0\\\\\n",
    "0 & \\lambda^2 & 0 \\\\\n",
    "0 & 0 & \\lambda^3 \\end{array} \\right)\\quad .$$\n",
    "\n",
    "In summary, we need to find the eigenvalues, can write $\\tb{S'}$, and need the eigenvectors a new coordinate system. Let's do an example.\n",
    "\n",
    "## Example\n",
    "\n",
    "Let's consider a two-dimensional parallel flow in the $x_1$-direction. This could be a boundary layer flow as sketched:\n",
    "\n",
    "<img src=\"pics/ffd_fig3.png\" width=350>\n",
    "\n",
    "The velocity field then is \n",
    "\n",
    "$$\\vb{u}=\\left( \\begin{array}{c}\n",
    "u_1(x_2) \\\\\n",
    " 0  \\end{array} \\right)\\quad .$$\n",
    "\n",
    "Although not immediately obvious this flow is named a shear flow, i.e. it shears a fluid particle. We now want to understand in which direction of the flow the shear is vanishing and only a straining flow is observed. If you don't understand the last sentence please continue, it will become clear shortly.\n",
    "\n",
    "The rate of strain tensor \n",
    "\n",
    "$$S_{ij}=\\frac{1}{2} \\left( \\pad{u_i}{x_j}+\\pad{u_j}{x_i}\\right)$$ \n",
    "\n",
    "becomes \n",
    "\n",
    "$$\\tb{S}=\\left( \\begin{array}{cc}\n",
    "0 & \\Gamma \\\\\n",
    "\\Gamma & 0 \\end{array} \\right)\\quad ,$$\n",
    "\n",
    "with $\\Gamma=\\frac{1}{2}\\pad{u_1}{x_2}$.\n",
    "\n",
    "Now we need to find the eigenvalues, which are determined from \n",
    "\n",
    "$$\\det \\left| S_{ij}-\\lambda\\delta_{ij}\\right|= \\det \\left|\n",
    "\\begin{array}{cc}\n",
    "-\\lambda & \\Gamma \\\\\n",
    "\\Gamma & -\\lambda \\end{array}\\right|=0\\quad .$$"
   ]
  },
  {
   "cell_type": "code",
   "execution_count": 1,
   "metadata": {
    "collapsed": false
   },
   "outputs": [
    {
     "data": {
      "text/plain": [
       "⎛⎡0  Γ⎤, {-Γ: 1, Γ: 1}⎞\n",
       "⎜⎢    ⎥               ⎟\n",
       "⎝⎣Γ  0⎦               ⎠"
      ]
     },
     "execution_count": 1,
     "metadata": {},
     "output_type": "execute_result"
    }
   ],
   "source": [
    "from sympy import * #tools for doing sympbolic algebra\n",
    "\n",
    "init_printing(use_latex='matplotlib') #nice output\n",
    "\n",
    "x = Symbol('Gamma') #define our symbolic variable\n",
    "\n",
    "M = Matrix([[0,'Gamma'],['Gamma',0]]) #this is a symbolic matrix\n",
    "\n",
    "M,M.eigenvals() #prints the matrix, and the eigenvalues and their multiplicity "
   ]
  },
  {
   "cell_type": "markdown",
   "metadata": {},
   "source": [
    "Thus there two unique eigenvalues, $\\lambda^1=-\\Gamma$ and $\\lambda^2=\\Gamma$.\n",
    "\n",
    "The eigenvectors are vectors which do not change under multiplication with the matrix $\\tb{S}$. Let's name the first eigenvector $\\vb{b}^1$ and is the solution to this vector equation:\n",
    "\n",
    "$$\\left( \\begin{array}{cc}\n",
    "0 & \\Gamma \\\\\n",
    "\\Gamma & 0 \\end{array} \\right) \n",
    "\\left( \\begin{array}{c}\n",
    "b^1_1 \\\\\n",
    "b^1_2 \\end{array} \\right)=\n",
    "\\lambda^1\n",
    "\\left( \\begin{array}{c}\n",
    "b^1_1 \\\\\n",
    "b^1_2 \\end{array} \\right)\\quad .\n",
    "$$\n",
    "\n",
    "This results into two equations with two unknowns. We can use python to solve this, actually it is just a single line:"
   ]
  },
  {
   "cell_type": "code",
   "execution_count": 9,
   "metadata": {
    "collapsed": false
   },
   "outputs": [
    {
     "data": {
      "text/plain": [
       "⎛-Γ, 1, ⎡⎡-1⎤⎤⎞\n",
       "⎜       ⎢⎢  ⎥⎥⎟\n",
       "⎝       ⎣⎣1 ⎦⎦⎠"
      ]
     },
     "execution_count": 9,
     "metadata": {},
     "output_type": "execute_result"
    }
   ],
   "source": [
    "M.eigenvects()[0] #prints the first eigenvalue, multiplicity and eigenvector"
   ]
  },
  {
   "cell_type": "markdown",
   "metadata": {},
   "source": [
    "The second eigenvector can be obtained in the same way, either you doing the math or ask python."
   ]
  },
  {
   "cell_type": "code",
   "execution_count": 4,
   "metadata": {
    "collapsed": false
   },
   "outputs": [
    {
     "data": {
      "text/plain": [
       "⎛Γ, 1, ⎡⎡1⎤⎤⎞\n",
       "⎜      ⎢⎢ ⎥⎥⎟\n",
       "⎝      ⎣⎣1⎦⎦⎠"
      ]
     },
     "execution_count": 4,
     "metadata": {},
     "output_type": "execute_result"
    }
   ],
   "source": [
    "M.eigenvects()[1] #Here we use 1 for the second eigenvector, note that python starts always with 0"
   ]
  },
  {
   "cell_type": "markdown",
   "metadata": {},
   "source": [
    "Thus the unit vectors of $\\tb{S}$ are "
   ]
  },
  {
   "cell_type": "code",
   "execution_count": 5,
   "metadata": {
    "collapsed": false
   },
   "outputs": [
    {
     "data": {
      "text/plain": [
       "⎛⎡   ___ ⎤  ⎡  ___⎤⎞\n",
       "⎜⎢-╲╱ 2  ⎥  ⎢╲╱ 2 ⎥⎟\n",
       "⎜⎢───────⎥, ⎢─────⎥⎟\n",
       "⎜⎢   2   ⎥  ⎢  2  ⎥⎟\n",
       "⎜⎢       ⎥  ⎢     ⎥⎟\n",
       "⎜⎢   ___ ⎥  ⎢  ___⎥⎟\n",
       "⎜⎢ ╲╱ 2  ⎥  ⎢╲╱ 2 ⎥⎟\n",
       "⎜⎢ ───── ⎥  ⎢─────⎥⎟\n",
       "⎝⎣   2   ⎦  ⎣  2  ⎦⎠"
      ]
     },
     "execution_count": 5,
     "metadata": {},
     "output_type": "execute_result"
    }
   ],
   "source": [
    "M.eigenvects()[0][2][0]/M.eigenvects()[0][2][0].norm(),\\\n",
    "M.eigenvects()[1][2][0]/M.eigenvects()[1][2][0].norm()"
   ]
  },
  {
   "cell_type": "markdown",
   "metadata": {},
   "source": [
    "In a coordinate system spun by these two unit vectors $\\vb{e'}_1$ and $\\vb{e'}_2$.\n",
    "\n",
    "<img src=\"pics/ffd_fig4.png\" width=350>\n",
    "\n",
    "the rate of strain tensor $\\vb{S}$ transforms into\n",
    "\n",
    "$$\\tb{S'}=\\left( \\begin{array}{cc}\n",
    "-\\Gamma & 0\\\\\n",
    "0 & \\Gamma \\end{array} \\right)\\quad .$$\n",
    "\n",
    "Your work:\n",
    "\n",
    "Show that the shearing of a square fluid particle is indeed transformed into a compression/expansion along the new coordinate axis $(e'_1,e'_2)$.\n",
    "\n"
   ]
  },
  {
   "cell_type": "code",
   "execution_count": 1,
   "metadata": {
    "collapsed": false,
    "hide_input": true
   },
   "outputs": [
    {
     "data": {
      "text/html": [
       "<link href='http://fonts.googleapis.com/css?family=Fenix' rel='stylesheet' type='text/css'>\n",
       "<link href='http://fonts.googleapis.com/css?family=Alegreya+Sans:100,300,400,500,700,800,900,100italic,300italic,400italic,500italic,700italic,800italic,900italic' rel='stylesheet' type='text/css'>\n",
       "<link href='http://fonts.googleapis.com/css?family=Source+Code+Pro:300,400' rel='stylesheet' type='text/css'>\n",
       "<style>\n",
       "@font-face {\n",
       "font-family: \"Computer Modern\";\n",
       "src: url('http://mirrors.ctan.org/fonts/cm-unicode/fonts/otf/cmunss.otf');\n",
       "}\n",
       "div.cell{\n",
       "\twidth:800px;\n",
       "\tmargin-left:5% !important;\n",
       "\tmargin-right:auto;\n",
       "}\n",
       "div.YourWork{\n",
       "\tbackground-color: #FFCC66;\n",
       "}\n",
       "div.Detail{\n",
       "\tbackground-color: #DDEEDD;\n",
       "\tfont-size: 80%;\n",
       "\tborder: 1px solid black;\n",
       "\tpadding: 10px;\t\t\n",
       "}\n",
       "div.Figure{\n",
       "\tborder: 1px solid black;\n",
       "\tpadding: 10px;\n",
       "\ttext-align: center;\n",
       "\tmargin: 30px;\n",
       "}\n",
       "h1 {\n",
       "font-family: 'Alegreya Sans', sans-serif;\n",
       "}\n",
       "h2 {\n",
       "font-family: 'Fenix', serif;\n",
       "}\n",
       "h3{\n",
       "font-family: 'Fenix', serif;\n",
       "margin-top:12px;\n",
       "margin-bottom: 3px;\n",
       "}\n",
       "h4{\n",
       "font-family: 'Fenix', serif;\n",
       "}\n",
       "h5 {\n",
       "font-family: 'Alegreya Sans', sans-serif;\n",
       "}\n",
       "div.text_cell_render{\n",
       "font-family: 'Alegreya Sans',Computer Modern, \"Helvetica Neue\", Arial, Helvetica, Geneva, sans-serif;\n",
       "line-height: 135%;\n",
       "font-size: 120%;\n",
       "width:600px;\n",
       "margin-left:auto;\n",
       "margin-right:auto;\n",
       "}\n",
       ".CodeMirror{\n",
       "font-family: \"Source Code Pro\";\n",
       "font-size: 90%;\n",
       "}\n",
       ".rendered_html code{\n",
       "\tbackground-color: transparent;\t\n",
       "}\n",
       "/* .prompt{\n",
       "display: None;\n",
       "}*/\n",
       ".text_cell_render h1 {\n",
       "font-weight: 120;\n",
       "font-size: 30pt;\n",
       "line-height: 100%;\n",
       "color:#CD2305;\n",
       "margin-bottom: 0.5em;\n",
       "margin-top: 0.5em;\n",
       "display: block;\n",
       "}\n",
       ".text_cell_render h5 {\n",
       "font-weight: 300;\n",
       "font-size: 12pt;\n",
       "margin-bottom: 0.5em;\n",
       "margin-top: 0.5em;\n",
       "display: block;\n",
       "border-style: double;\n",
       "border-width: medium;\n",
       "border-color: black;\n",
       "background-color: #F0F0F0;\n",
       "text-align: center;\n",
       "}\n",
       ".warning{\n",
       "color: rgb( 240, 20, 20 )\n",
       "}\n",
       "</style>\n",
       "<script>\n",
       "MathJax.Hub.Config({\n",
       "TeX: {\n",
       "extensions: [\"AMSmath.js\"]\n",
       "},\n",
       "tex2jax: {\n",
       "inlineMath: [ ['$','$'], [\"\\\\(\",\"\\\\)\"] ],\n",
       "displayMath: [ ['$$','$$'], [\"\\\\[\",\"\\\\]\"] ]\n",
       "},\n",
       "displayAlign: 'center', // Change this to 'center' to center equations.\n",
       "\"HTML-CSS\": {\n",
       "styles: {'.MathJax_Display': {\"margin\": 4}}\n",
       "}\n",
       "});\n",
       "</script>"
      ],
      "text/plain": [
       "<IPython.core.display.HTML object>"
      ]
     },
     "execution_count": 1,
     "metadata": {},
     "output_type": "execute_result"
    }
   ],
   "source": [
    "from IPython.core.display import HTML\n",
    "def css_styling():\n",
    "    styles = open(\"styles/custom2.css\", \"r\").read()\n",
    "    return HTML(styles)\n",
    "css_styling()\n"
   ]
  }
 ],
 "metadata": {
  "kernelspec": {
   "display_name": "Python 2",
   "language": "python",
   "name": "python2"
  },
  "language_info": {
   "codemirror_mode": {
    "name": "ipython",
    "version": 2
   },
   "file_extension": ".py",
   "mimetype": "text/x-python",
   "name": "python",
   "nbconvert_exporter": "python",
   "pygments_lexer": "ipython2",
   "version": "2.7.12"
  }
 },
 "nbformat": 4,
 "nbformat_minor": 0
}
