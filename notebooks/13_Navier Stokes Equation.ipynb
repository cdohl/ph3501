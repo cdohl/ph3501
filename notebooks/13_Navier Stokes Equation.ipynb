{
 "cells": [
  {
   "cell_type": "markdown",
   "metadata": {},
   "source": [
    "$$\n",
    "\\newcommand{\\fudm}[2]{\\frac{\\mathrm{D} #1}{\\mathrm{D} #2}}\n",
    "\\newcommand{\\pad}[2]{\\frac{\\partial #1}{\\partial #2}}\n",
    "\\newcommand{\\ppad}[2]{\\frac{\\partial^2 #1}{\\partial #2^2}}\n",
    "\\newcommand{\\ppadd}[3]{\\frac{\\partial^2 #1}{\\partial #2 \\partial #3}}\n",
    "\\newcommand{\\nnabla}{\\nabla^2}\n",
    "\\newcommand{\\eps}{\\epsilon}\n",
    "\\newcommand{\\vdetail}[1]{\\vb{#1}=\\begin{pmatrix}#1_1\\\\#1_2\\\\#1_3\\end{pmatrix}}\n",
    "\\newcommand{\\vb}[1]{\\mathbf{#1}}\n",
    "\\newcommand{\\va}[1]{\\vec{#1}}\n",
    "\\newcommand{\\vc}[1]{\\begin{pmatrix}#1_1\\\\#1_2\\end{pmatrix}}\n",
    "\\newcommand{\\vd}[1]{\\begin{pmatrix}#1_1\\\\#1_2\\\\#1_3\\end{pmatrix}}\n",
    "\\newcommand{\\tb}[1]{\\underline{\\underline{\\mathbf{#1}}}}\n",
    "\\newcommand{\\fud}[2]{\\frac{\\mathrm{d} #1}{\\mathrm{d} #2}}\n",
    "\\newcommand{\\dd}{\\mathrm{d}}\n",
    "$$"
   ]
  },
  {
   "cell_type": "markdown",
   "metadata": {},
   "source": [
    "#Navier Stokes Equation\n",
    "\n",
    "The *Cauchy Equation of Motion* has been derived in [Notebook 10](10_Cauchy's Equation of Motion.ipynb). It states a general dependency of the fluid particle acceleration with the body and surface forces:\n",
    "\n",
    "$$\\fudm{u_j}{t}=\\rho\\,g_j+\\pad{}{x_i}\\tau_{ij}\\tag{1}$$\n",
    "\n",
    "We now want to add some more physics to the shear stress tensor to include the flowing fluid. The stress tensor for a homogeneous liquid is symmeteric, therefore 6 distinct elements have to be obtained. In fluid statics the stresses only act in normal direction and must be equal, i.e. $\\tau_{ij}=-p\\delta_{ij}$. In fluid dynamics the stress tensor deviates from the static stress tensor and it is generally introduced as\n",
    "\n",
    "$$\\tau_{ij}=-p\\delta_{ij}+\\sigma_{ij}\\quad , \\tag{2}$$\n",
    "\n",
    "where the tensor $\\sigma_{ij}$ is called the deviatoric stress tensor. [Galilean invariance](https://en.wikipedia.org/wiki/Galilean_invariance) demands that $\\sigma_{ij}\\ne\\sigma_{ij}(u_j)$. The most simple approach is to assume a linear dependency of the deviatoric stress tensor and the velocity gradient tensor:\n",
    "\n",
    "$$\\sigma_{ij}=f\\left(\\pad{u_i}{x_j}\\right)\\tag{3}$$\n",
    "\n",
    "The velocity gradient tensor can be decomosed into a shearing and a roatation component, see [Notebook 4](04_Flow Field.ipynb):\n",
    "\n",
    "$$\\pad{u_i}{x_j}=S_{ij}+\\frac{1}{2}R_{ij}\\tag{4}$$\n",
    "with\n",
    "$$S_{ij}=\\frac{1}{2}\\left(\\pad{u_i}{x_j}+\\pad{u_j}{x_i}\\right)\\tag{5}$$\n",
    "and\n",
    "$$R_{ij}=\\left(\\pad{u_i}{x_j}-\\pad{u_j}{x_i}\\right)\\tag{6}$$\n",
    "\n",
    "We account only to components of the velocity gradient tensor which lead to shearing, and ignore rotation where the fluid particle does not deform.\n",
    "\n",
    "Thus the most general linear product of a tensor of 2nd order is\n",
    "\n",
    "$$\\sigma_{ij}=K_{ijmn}\\,S_{mn}\\quad . \\tag{7}$$\n",
    "\n",
    "The tensor $K_{ijmn}$ has 81 components, out of which most are $0$ due to symmetry. The final result is\n",
    "\n",
    "$$\\sigma_{ij}=2\\,\\mu\\,S_{ij}+\\lambda \\, S_{mm} \\delta_{ij}\\tag{8}$$\n",
    "\n",
    "For incompressibe fluid $\\nabla\\cdot\\vb{u}=0$, thus the second term in Eq. (8) can be ignored and the total stress tensor is\n",
    "\n",
    "$$\\tau_{ij}=-p\\delta_{ij} + 2 \\mu S_{ij}\\quad .\\tag{9}$$\n",
    "\n",
    "Then we can write Cauchy's Equation of Motion with this stress tensor and obtain:\n",
    "\n",
    "$$\\rho \\fudm{u_j}{t} = \\rho g_j + \\pad{}{x_i}\\left[ -p \\delta_{ij} + \\mu \\left( \\pad{u_i}{x_j} + \\pad{u_j}{x_i}\\right) \\right]\\tag{10}$$\n",
    "\n",
    "which simplifies to the incompressible Navier Stokes equation\n",
    "\n",
    "$$\\rho \\fudm{u_j}{t} = -\\pad{p}{x_i} + \\rho g_j + \\mu \\ppad{u_j}{x_i}\\tag{11}$$\n",
    "\n",
    "or in vector format \n",
    "\n",
    "$$\\rho \\fudm{\\vb{u}}{t} = -\\nabla p + \\rho \\vb{g} + \\mu \\nabla^2 \\vb{u}\\quad .\\tag{12}$$\n"
   ]
  },
  {
   "cell_type": "code",
   "execution_count": null,
   "metadata": {
    "collapsed": true
   },
   "outputs": [],
   "source": []
  }
 ],
 "metadata": {
  "kernelspec": {
   "display_name": "Python 2",
   "language": "python",
   "name": "python2"
  },
  "language_info": {
   "codemirror_mode": {
    "name": "ipython",
    "version": 2
   },
   "file_extension": ".py",
   "mimetype": "text/x-python",
   "name": "python",
   "nbconvert_exporter": "python",
   "pygments_lexer": "ipython2",
   "version": "2.7.10"
  }
 },
 "nbformat": 4,
 "nbformat_minor": 0
}
