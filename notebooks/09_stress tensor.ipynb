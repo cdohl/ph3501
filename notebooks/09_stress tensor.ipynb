{
 "cells": [
  {
   "cell_type": "markdown",
   "metadata": {},
   "source": [
    "$$\n",
    "\\newcommand{\\fudm}[2]{\\frac{\\mathrm{D} #1}{\\mathrm{D} #2}}\n",
    "\\newcommand{\\pad}[2]{\\frac{\\partial #1}{\\partial #2}}\n",
    "\\newcommand{\\ppad}[2]{\\frac{\\partial^2 #1}{\\partial #2^2}}\n",
    "\\newcommand{\\ppadd}[3]{\\frac{\\partial^2 #1}{\\partial #2 \\partial #3}}\n",
    "\\newcommand{\\nnabla}{\\nabla^2}\n",
    "\\newcommand{\\eps}{\\epsilon}\n",
    "\\newcommand{\\vdetail}[1]{\\vb{#1}=\\begin{pmatrix}#1_1\\\\#1_2\\\\#1_3\\end{pmatrix}}\n",
    "\\newcommand{\\vb}[1]{\\mathbf{#1}}\n",
    "\\newcommand{\\va}[1]{\\vec{#1}}\n",
    "\\newcommand{\\vc}[1]{\\begin{pmatrix}#1_1\\\\#1_2\\end{pmatrix}}\n",
    "\\newcommand{\\vd}[1]{\\begin{pmatrix}#1_1\\\\#1_2\\\\#1_3\\end{pmatrix}}\n",
    "\\newcommand{\\tb}[1]{\\underline{\\underline{\\mathbf{#1}}}}\n",
    "\\newcommand{\\fud}[2]{\\frac{\\mathrm{d} #1}{\\mathrm{d} #2}}\n",
    "\\newcommand{\\dd}{\\mathrm{d}}\n",
    "$$\n"
   ]
  },
  {
   "cell_type": "markdown",
   "metadata": {},
   "source": [
    "# Stress Tensor\n",
    "\n",
    "Before we discuss the stress tensor we need to derive a handy relationship needed below.\n",
    "\n",
    "For an thetahedron oriented with 3 faces along the planes $x=0$, $y=0$, and $z=0$ we can relate the areas of the surfaces $dA_1$, $dA_2$, and $dA_3$ with the remaining surface $dA$ and its normal vector:\n",
    "\n",
    "Let $K$ be an arbitrary *constant* vector, then Gauss theorem allows to write\n",
    "\n",
    "$$\\int_V \\nabla \\cdot \\vb{K} dV=\\oint_{A'} \\vb{K}\\cdot\\vb{n'}\\,dA'$$\n",
    "\n",
    "where $V$ is the volume of the tethahedron and $A'$ its total surface area. $\\vb{n'}$ is the normal vector of all the four surfaces. $dA$ stands for the 4th face with normal vector $\\vb{n}$. As $\\vb{K}$ is constant $\\nabla\\cdot\\vb{K}=0$.\n",
    "\n",
    "$$0=\\vb{K}\\left(\\vb{n}{dA}-\\vb{e_1}dA_1-\\vb{e_2}dA_2-\\vb{e_2}dA_2\\right)$$\n",
    "Above relationship leads to the 3 equations\n",
    "\n",
    "$$\n",
    "\\begin{eqnarray*}\n",
    "\\vb{n_1}\\cdot\\vb{e_1}\\,dA=n_1 dA=dA_1\\\\\n",
    "\\vb{n_2}\\cdot\\vb{e_2}\\,dA=n_2 dA=dA_2\\\\\n",
    "\\vb{n_3}\\cdot\\vb{e_3}\\,dA=n_3 dA=dA_3\n",
    "\\end{eqnarray*}\n",
    "$$\n",
    "\n",
    "or in short form\n",
    "\n",
    "$$dA_i=n_i\\,dA$$ with $i=1,2,3$.\n",
    "\n",
    "Now we introduce the stress tensor:\n",
    "\n",
    "The stress tensor $\\tb{\\tau}$ has the folling components\n",
    "\n",
    "$$\\tb{\\tau}=\n",
    "\\left(\\begin{matrix}\n",
    "\\tau_{11} & \\tau_{12} & \\tau_{13}\\\\\n",
    "\\tau_{21} & \\tau_{22} & \\tau_{23}\\\\\n",
    "\\tau_{31} & \\tau_{32} & \\tau_{33}\n",
    "\\end{matrix}\\right)\n",
    "$$\n",
    "\n",
    "The force on the side $dA$ is the sum of the forces on all sides $dA_1$, $dA_2$, and $dA_3$.\n",
    "This can be formally written as for the first component\n",
    "\n",
    "$$f_1\\,dA=\\tau_{11}\\,dA_1+\\tau_{21}\\,dA_2+\\tau_{31}\\,dA_3$$\n",
    "\n",
    "Now we use the above equation relating the surface areas $dA_i$ with with the normal vector of surface $dA$, e.g. $dA_1=n_1\\,dA$. Therefore we can write\n",
    "\n",
    "$$f_1\\,dA=dA(\\tau_{11}\\,n_1 + \\tau_{21}\\,n_2 +\\tau_{31}\\,n_3)$$\n",
    "\n",
    "Dividing both sides by $dA$ we obtain\n",
    "\n",
    "$$f_i=\\tau_{ji}\\,n_j=n_j\\,\\tau_ji$$\n",
    "\n",
    "In vector notation this is \n",
    "\n",
    "$$\\vb{f}=\\tb{\\tau}^T\\cdot\\vb{n}=\\vb{n}\\cdot\\tb{\\tau}$$\n",
    "\n",
    "An example:\n"
   ]
  },
  {
   "cell_type": "code",
   "execution_count": 1,
   "metadata": {
    "collapsed": false
   },
   "outputs": [],
   "source": [
    "import numpy as np\n",
    "a=np.matrix([[-5., 3., -1.],[3., -4., 4.], [-1., 4., -2.]])\n",
    "n=np.matrix([1./2,1./np.sqrt(2.),-1./2.])"
   ]
  },
  {
   "cell_type": "code",
   "execution_count": 6,
   "metadata": {
    "collapsed": false
   },
   "outputs": [
    {
     "name": "stdout",
     "output_type": "stream",
     "text": [
      "[[ 0.12132034 -3.32842712  3.32842712]]\n"
     ]
    }
   ],
   "source": [
    "print n*a"
   ]
  },
  {
   "cell_type": "code",
   "execution_count": null,
   "metadata": {
    "collapsed": true
   },
   "outputs": [],
   "source": []
  }
 ],
 "metadata": {
  "kernelspec": {
   "display_name": "Python 2",
   "language": "python",
   "name": "python2"
  },
  "language_info": {
   "codemirror_mode": {
    "name": "ipython",
    "version": 2
   },
   "file_extension": ".py",
   "mimetype": "text/x-python",
   "name": "python",
   "nbconvert_exporter": "python",
   "pygments_lexer": "ipython2",
   "version": "2.7.10"
  }
 },
 "nbformat": 4,
 "nbformat_minor": 0
}
