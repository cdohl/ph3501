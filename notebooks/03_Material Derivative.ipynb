{
 "cells": [
  {
   "cell_type": "markdown",
   "metadata": {
    "slideshow": {
     "slide_type": "skip"
    }
   },
   "source": [
    "$$\n",
    "\\newcommand{\\fudm}[2]{\\frac{\\mathrm{D} #1}{\\mathrm{D} #2}}\n",
    "\\newcommand{\\pad}[2]{\\frac{\\partial #1}{\\partial #2}}\n",
    "\\newcommand{\\ppad}[2]{\\frac{\\partial^2 #1}{\\partial #2^2}}\n",
    "\\newcommand{\\ppadd}[3]{\\frac{\\partial^2 #1}{\\partial #2 \\partial #3}}\n",
    "\\newcommand{\\nnabla}{\\nabla^2}\n",
    "\\newcommand{\\eps}{\\epsilon}\n",
    "\\newcommand{\\vdetail}[1]{\\vb{#1}=\\begin{pmatrix}#1_1\\\\#1_2\\\\#1_3\\end{pmatrix}}\n",
    "\\newcommand{\\vb}[1]{\\mathbf{#1}}\n",
    "\\newcommand{\\va}[1]{\\vec{#1}}\n",
    "\\newcommand{\\vc}[1]{\\begin{pmatrix}#1_1\\\\#1_2\\end{pmatrix}}\n",
    "\\newcommand{\\vd}[1]{\\begin{pmatrix}#1_1\\\\#1_2\\\\#1_3\\end{pmatrix}}\n",
    "\\newcommand{\\tb}[1]{\\underline{\\underline{\\mathbf{#1}}}}\n",
    "\\newcommand{\\fud}[2]{\\frac{\\mathrm{d} #1}{\\mathrm{d} #2}}\n",
    "\\newcommand{\\dd}{\\mathrm{d}}\n",
    "$$\n"
   ]
  },
  {
   "cell_type": "markdown",
   "metadata": {
    "slideshow": {
     "slide_type": "slide"
    }
   },
   "source": [
    "# Material Derivative\n",
    "\n",
    "\n",
    "The material derivative is the derivative with respect of time of a physical quantity of a fluid particle described by field variables which are fixed in space.\n",
    "\n",
    "This sounds rather complicated, but isn't. Consider you want to measure the velocity field of a fluid. Most conveniently you fix the coordinate system with the lab and measure at fixed points in this coordinate system the velocity field. You thus do not measure the velocity of single fluid particle moving through the particle but the velocity at specific points. How to we relate this measurement for example to the acceleration a fluid particle undergoes. If the flow is unsteady, i.e. the fluid velocity is time dependent, then you may want to define an acceleration of the fluid particle at postion $\\vb{x}$ with $$\\vb{a}=\\pad{\\vb{u}(\\vb{x},t)}{t}$$.\n",
    "\n",
    "Is that all of the acceleration a fluid particle will experience?\n",
    "Before you answer this question let's have a look at the following steady (time independent) flow.\n",
    "\n",
    "<img src=\"files/pics/md_fig1.png\" width=300> <p> \n",
    "This is a called a fluid constriction. The fluid enters with a constant velocity from the left and exits on the right. Assume the fluid is incompressible, then the flow rate is fixed over the whole configuration; as the crossectional area changes so does the fluid velocity. The fluid on the left side has smaller velocity than on the right. Therefore, after a fluid particle enters it will be accelerated while moving through the constriction. The fluid velocity however is not a function of time, thus our acceleration as defined above would give us 0. Definitely above definition of acceleration is wrong.\n",
    "\n",
    "To do it right, we need to calculate the acceleration of a fluid particle differently, not only account for the change in time but also in space. For above fluid constriction, the geometry leads to an acceleration.\n",
    "\n",
    "Now we derive formally the time derivative of a fluid particle by using only quantities which can be obtained from a fixed lab based coordinate system. Describing a flow with a lab based coordinate systems is termed Eulerian description. In contrast if we fix the fluid particle and describe its change in time we use the technical term Lagrangian description.\n",
    "\n",
    "We start with a scalar field variable, say the density $\\rho(\\vb{x},t)$. Consider we have measured the density of the fluid at every point in the flow using a lab based coordinate system.\n",
    "We want to know the change of the density of a fluid particle. We first have to define this fluid particle... that is easy, it is the fluid particle being at time $t=t_0$ at position $\\vb{x}=\\vb{x_0}=(x_{10},x_{20},x_{30})^T$. \n",
    "\n",
    "<div class=\"YourWork\">*Why is this unique?*</div>\n",
    "\n",
    "Then the change of the fluid particles density is formally written as such:\n",
    "\n",
    "$$\\left.\\fudm{\\rho(\\vb{x},t)}{t}\\right|_{\\vb{x_0},t_0}\\quad .$$\n",
    "\n",
    "This is called the material derivative. The capital D is used to emphasize that this derivative is taken for a moving fluid particle. A formal way to define the material derivative is using the limit of the difference quotient, i.e. \n",
    "\n",
    "$$\\left.\\fudm{\\rho(\\vb{x},t)}{t}\\right|_{\\vb{x_0},t_0}=\n",
    "\\lim_{(t-t_0)\\rightarrow 0}\n",
    "\\frac{\\rho(\\vb{x},t)-\\rho(\\vb{x_0},t_0)}{t-t_0}$$\n",
    "\n",
    "We know $\\rho(\\vb{x_0},t_0)$, we would only need to obtain $\\rho(\\vb{x},t)$ to calculate this limit.\n",
    "This can be obtained using a Taylor expansion of the flow field around $\\vb{x_0}$. The next step is to conduct this Taylor approximation to linear order and the inserting it into above equation. \n",
    "\n",
    "$$\n",
    "\\begin{eqnarray}\n",
    "\\rho(\\vb{x},t)\\approx \\rho(\\vb{x_0},t_0) &+& (t-t_0) \\left.\\left(\\pad{\\rho}{t} \\right)\\right|_{\\vb{x_0},t_0}+(x_1-x_{10}) \\left.\\left(\\pad{\\rho}{x_1} \\right)\\right|_{\\vb{x_0},t_0}\\\\\n",
    "&+& (x_2-x_{20}) \\left.\\left(\\pad{\\rho}{x_2} \\right)\\right|_{\\vb{x_0},t_0} +\n",
    "(x_3-x_{30}) \\left.\\left(\\pad{\\rho}{x_3} \\right)\\right|_{\\vb{x_0},t_0}\n",
    "\\end{eqnarray}\n",
    "$$\n",
    "\n",
    "By moving $\\rho(\\vb{x_0},t_0)$ to the L.H.S and dividing both sides by $t-t_0$ we obtain:\n",
    "\n",
    "$$\n",
    "\\begin{eqnarray}\n",
    "\\frac{\\rho(\\vb{x},t)-\\rho(\\vb{x_0},t_0)}{t-t_0} &\\approx& \\left.\\left(\\pad{\\rho}{t} \\right)\\right|_{\\vb{x_0},t_0}+\\frac{x_1-x_{10}}{t-t_0}\\left.\\left(\\pad{\\rho}{x_1} \\right)\\right|_{\\vb{x_0},t_0}\\\\\n",
    "&+& \\frac{x_2-x_{20}}{t-t_0} \\left.\\left(\\pad{\\rho}{x_2} \\right)\\right|_{\\vb{x_0},t_0} +\n",
    "\\frac{x_3-x_{30}}{t-t_0}\\left.\\left(\\pad{\\rho}{x_3} \\right)\\right|_{\\vb{x_0},t_0}\n",
    "\\end{eqnarray}\n",
    "$$\n",
    "\n",
    "Now we need to take the limit $(t-t_0)\\rightarrow 0$. The ratios on the R.H.S. under this limit become identical to the velocities $u_1$, $u_2$, and $u_3$, respectively.\n",
    "Thus we can write\n",
    "$$\n",
    "\\begin{eqnarray}\n",
    "\\fudm{\\rho(\\vb{x},t)}{t}&=&\\pad{\\rho}{t}+u_1\\pad{\\rho}{x_1}+u_2\\pad{\\rho}{x_2}+u_3\\pad{\\rho}{x_3}\\\\\n",
    "\\fudm{\\rho(\\vb{x},t)}{t}&=&\\pad{\\rho}{t}+\\vb{u}\\cdot \\nabla \\rho\n",
    "\\end{eqnarray}\n",
    "$$\n",
    "\n",
    "Thus the temporal change of the density of a fluid (read Lagrangian) particle $\\fudm{\\rho}{t}$ results from two contributions, the temporal change of density at an Eularian point $\\pad{\\rho}{t}$ and the spatial variation $\\vb{u} \\cdot \\nabla \\rho$.\n",
    "\n",
    "We have now derived the material derivative of scalar quantity, e.g. $\\rho$, but we started on top with our example with the acceleration of the fluid particles, which is a vector quantity.\n",
    "If we would naively insert $\\vb{a}$ in the definition of the material derivative we would have a to deal with the term $\\vb{u} \\cdot \\nabla \\vb{u}$, a gradient of a vector. What is this?\n",
    "\n",
    "Let's go step by step, we use the definition for the individual components of the velocity vector we obtain these three equations:\n",
    "\n",
    "$$\n",
    "\\begin{eqnarray}\n",
    "\\fudm{u_1(\\vb{x},t)}{t}&=&\\pad{u_1}{t}+\\vb{u}\\cdot \\nabla u_1\\\\\n",
    "\\fudm{u_2(\\vb{x},t)}{t}&=&\\pad{u_2}{t}+\\vb{u}\\cdot \\nabla u_2\\\\\n",
    "\\fudm{u_3(\\vb{x},t)}{t}&=&\\pad{u_3}{t}+\\vb{u}\\cdot \\nabla u_3\n",
    "\\end{eqnarray}\n",
    "$$\n",
    "\n",
    "Before we write above in a single equation we'll have a look at the first equation in component form:\n",
    "\n",
    "$$\n",
    "\\fudm{u_1(\\vb{x},t)}{t}=\\pad{u_1}{t}+ u_1\\pad{u_1}{x_1}+u_2\\pad{u_1}{x_2}+u_3\\pad{u_1}{x_3}\n",
    "$$\n",
    "Or using the Einstein notation:\n",
    "$$\\fudm{u_i}{t}=\\pad{u_i}{t}+u_j\\pad{u_i}{x_j}\n",
    "$$\n",
    "\n",
    "The second term on the R.H.S is abbreviated as $\\vb{u}\\cdot\\nabla\\vb{u}$ or $(\\vb{u}\\cdot\\nabla)\\vb{u}$ and is only valid in this form for a cartesian coordinate system. Some call this term \"u grad u\" or \"u del u\". Both is fine, please remember that is stands for this particular operator. \n",
    "The acceleration of a fluid particle in short form is:\n",
    "$$\n",
    "\\fudm{\\vb{u}(\\vb{x},t)}{t}=\\pad{\\vb{u}}{t}+(\\vb{u}\\cdot \\nabla) \\vb{u}\\\\\n",
    "$$"
   ]
  },
  {
   "cell_type": "code",
   "execution_count": null,
   "metadata": {
    "collapsed": false
   },
   "outputs": [],
   "source": [
    "from IPython.core.display import HTML\n",
    "def css_styling():\n",
    "    styles = open(\"styles/custom.css\", \"r\").read()\n",
    "    return HTML(styles)\n",
    "css_styling()"
   ]
  },
  {
   "cell_type": "code",
   "execution_count": null,
   "metadata": {
    "collapsed": false
   },
   "outputs": [],
   "source": []
  }
 ],
 "metadata": {
  "kernelspec": {
   "display_name": "Python 2",
   "language": "python",
   "name": "python2"
  },
  "language_info": {
   "codemirror_mode": {
    "name": "ipython",
    "version": 2
   },
   "file_extension": ".py",
   "mimetype": "text/x-python",
   "name": "python",
   "nbconvert_exporter": "python",
   "pygments_lexer": "ipython2",
   "version": "2.7.12"
  }
 },
 "nbformat": 4,
 "nbformat_minor": 0
}
