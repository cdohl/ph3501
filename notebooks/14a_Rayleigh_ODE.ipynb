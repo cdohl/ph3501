{
 "cells": [
  {
   "cell_type": "markdown",
   "metadata": {},
   "source": [
    "$$\n",
    "\\newcommand{\\fudm}[2]{\\frac{\\mathrm{D} #1}{\\mathrm{D} #2}}\n",
    "\\newcommand{\\pad}[2]{\\frac{\\partial #1}{\\partial #2}}\n",
    "\\newcommand{\\ppad}[2]{\\frac{\\partial^2 #1}{\\partial #2^2}}\n",
    "\\newcommand{\\ppadd}[3]{\\frac{\\partial^2 #1}{\\partial #2 \\partial #3}}\n",
    "\\newcommand{\\nnabla}{\\nabla^2}\n",
    "\\newcommand{\\eps}{\\epsilon}\n",
    "\\newcommand{\\vdetail}[1]{\\vb{#1}=\\begin{pmatrix}#1_1\\\\#1_2\\\\#1_3\\end{pmatrix}}\n",
    "\\newcommand{\\vb}[1]{\\mathbf{#1}}\n",
    "\\newcommand{\\va}[1]{\\vec{#1}}\n",
    "\\newcommand{\\vc}[1]{\\begin{pmatrix}#1_1\\\\#1_2\\end{pmatrix}}\n",
    "\\newcommand{\\vd}[1]{\\begin{pmatrix}#1_1\\\\#1_2\\\\#1_3\\end{pmatrix}}\n",
    "\\newcommand{\\tb}[1]{\\underline{\\underline{\\mathbf{#1}}}}\n",
    "\\newcommand{\\fud}[2]{\\frac{\\mathrm{d} #1}{\\mathrm{d} #2}}\n",
    "\\newcommand{\\dd}{\\,\\mathrm{d}}\n",
    "$$\n"
   ]
  },
  {
   "cell_type": "markdown",
   "metadata": {},
   "source": [
    "# Rayleigh Bubble Void Collapse\n",
    "\n",
    "Consider that within an infinite liquid mass a spherical mass with Radius $R_{max}$ is taken away, i.e. it is replaced with a void (a zero pressure region). Due to the pressure imbalance the liquid will rush into the void and after some finite time fill completely the liquid void. \n",
    "\n",
    "<p>\n",
    "*How long does it take to fill the liquid hole? What is the radius $R(t)$ as a function of time?*\n",
    "<p>\n",
    "\n",
    "The problem was posed by [Beassant](???) and was solved later by Lord Rayleigh. The question had practical interest when the steam and diesel powered boats crossed the Atlantic ozean (more info in the class).\n",
    "\n",
    "## Problem formulation using Bernoulli equation\n",
    "\n",
    "The flow is unsteady, thus the Bernoulli constant is a function of time and we need to take into account the $\\pad{\\phi}{t}$-term, i.e. we have to solve\n",
    "\n",
    "$$\\pad{\\phi}{t}+\n",
    "\\frac{1}{2}u^2+ \\frac{p}{\\rho} + gz = B(t) \\tag{1}\\quad .$$\n",
    "\n",
    "The function $B(t)$ can be omitted if we identfy two points in the flow domain and apply for each of the two points with $\\phi_{1/2}$, $u_{1/2}$, and $z_{1/2}$ the L.H.S. of Eq. (1):\n",
    "\n",
    "$$\n",
    "\\pad{\\phi_1}{t}+\\frac{1}{2}u_1^2+ \\frac{p_1}{\\rho} + g z_1 = B(t) =\n",
    "\\pad{\\phi_2}{t}+\\frac{1}{2}u_2^2+ \\frac{p_2}{\\rho} + g z_2$$\n",
    "\n",
    "thus\n",
    "\n",
    "$$\n",
    "\\pad{\\phi_1}{t}+\\frac{1}{2}u_1^2+ \\frac{p_1}{\\rho} + g z_1 = \n",
    "\\pad{\\phi_2}{t}+\\frac{1}{2}u_2^2+ \\frac{p_2}{\\rho} + g z_2 \\tag{2} \\quad .$$\n",
    "\n",
    "<div class=\"Figure\">\n",
    "<img src=\"pics/rayleigh_sketch.png\" width=400px>\n",
    "**Figure 1:** Sketch of the void collapse geometry with the positions 1 and 2 identified.\n",
    "</div>\n",
    "\n",
    "Figure 1 depicts the geometry with point (1) in the liquid at the bubble-void interface and point (2) far from the bubble (we'll see soon what far means in this context).\n",
    "\n",
    "Let us assume that the void pressure does not change, it remains at $p_1=0$. That means we also ignore the pressure jump due to surface tension. Also we ignore the effect of hydrostatic pressure, thus Eq. (2) becomes\n",
    "\n",
    "$$\n",
    "\\pad{\\phi_1}{t}+\\frac{1}{2}u_1^2= \n",
    "\\pad{\\phi_2}{t}+\\frac{1}{2}u_2^2+ \\frac{p_2}{\\rho} \\tag{3} \\quad .$$\n",
    "\n",
    "We see that the problem is spherical symmetric and the liquid velocity $u(\\vb{x})=u_r(r) \\,\\vb{e}_r$ is only a function of the distance from the center of the bubble. What remains is to find a velocity potential $\\phi(r,t)$ for the spherical symmetric problem. This can be achieved from the continuity equation for a constant density flow in spherical symmetry (see for example Kundu & Cohen, Appendix B6):\n",
    "\n",
    "$$\\pad{}{r}\\left( r^2 u_r \\right)=0$$\n",
    "\n",
    "which can be integrated to \n",
    "\n",
    "$$r^2 u_r=\\mbox{const.}=R^2 U\\tag{4}\\quad ,$$\n",
    "\n",
    "where $R=R(t)$ is the radius of the bubble, and $U=U(t)$ is the velocity of the bubble surface. Thus the velocity $u_r(r)$ can be related to the motion of the bubble surface:\n",
    "\n",
    "$$u_r(r,t)=\\frac{R(t)^2}{r^2}U(t)\\tag{5}\\quad .$$\n",
    "\n",
    "Because the velocity potential is, $\\nabla \\phi=\\pad{\\phi}{r}\\vb{e}_r=\\vb{u}$, we can integrate Eq. (5) once with respect to $r$ and obtain\n",
    "\n",
    "$$\\phi(r,t)=-\\frac{R(t)^2}{r} U(t) +\\mbox{const.}\\tag{6}$$\n",
    "\n",
    "Please note that the velocity of the bubble surface is $U=\\fud{R}{t}=\\dot{R}$.\n",
    "\n",
    "Equation (6) states the velocity potential for a void/bubble with radius $R$ and surface velocity $\\dot{R}$. We can insert the expressio of the velocity potential into Eq. (3) to write the Bernoulli Equation as a function of $R$ and $\\dot{R}$ only.\n",
    "\n",
    "\n",
    "$$\\pad{\\phi}{t}=-\\frac{1}{r}\\left( 2 R \\dot{R}^2 +R^2 \\ddot{R}\\right)\\tag{7}$$\n",
    "\n",
    "The two positions (1) and (2) are taken at $r=R$ and $r\\rightarrow \\infty$ respectively. We therefore obtain for $\\phi$:\n",
    "\n",
    "\\begin{eqnarray}\n",
    "\\left.\\pad{\\phi}{t}\\right|_{r=R}&=&-2\\dot{R}^2-R\\ddot{R}\\tag{8a}\\\\\n",
    "\\left.\\pad{\\phi}{t}\\right|_{r\\rightarrow \\infty}&=&0\\tag{8b}\n",
    "\\end{eqnarray}\n",
    "\n",
    "We can now rewrite Eq. (3) as a function of the $R$ and $\\dot{R}$ while identifying that the velocity $u_{r\\rightarrow\\infty}=0$ and $p_{r\\rightarrow\\infty}=p_{atm}$:\n",
    "\n",
    "$$\n",
    "-2\\dot{R}^2-R\\ddot{R}+\\frac{1}{2}\\dot{R}^2=\\frac{p_{atm}}{\\rho}\\tag{9}$$\n",
    "\n",
    "Equation (8) can be simplified to the Rayleigh equation for the collapse of an empty void/bubble:\n",
    "\n",
    "$$\n",
    "\\frac{3}{2} \\dot{R}^2 + R\\ddot{R} = -\\frac{p_{atm}}{\\rho}\\tag{10}  \\quad .\n",
    "$$\n"
   ]
  },
  {
   "cell_type": "markdown",
   "metadata": {},
   "source": [
    "## Solving the Rayleigh Equation\n",
    "\n",
    "Using Bernoulli Equation we have derived the dynamics of an empty spherical empty cavity in a large liquid pool, the so-called Rayleigh Equation (10)\n",
    "\n",
    "We can solve this nonlinear ODE with the built in solver in python. Therefore, we have to rephrase the 2nd Order ODE into two first order ODEs by variable substitution:\n",
    "\n",
    "$$y_0=R$$ $$y_1=\\dot{R}$$\n",
    "\n",
    "thus \n",
    "\n",
    "$$\\dot{R}=\\frac{\\dd y_0}{\\dd t}=y_1$$\n",
    "\n",
    "and using the Rayleigh Equation we obtain:\n",
    "\n",
    "$$\\ddot{R}=\\frac{\\dd y_1}{\\dd t}=-\\frac{1}{y_0}\\left(\\frac{p_0}{\\rho}+\\frac{3}{2}y_1^2\\right)$$\n",
    "\n",
    "These two first order ODEs are written as the function `rp(t,y)`"
   ]
  },
  {
   "cell_type": "code",
   "execution_count": 2,
   "metadata": {
    "collapsed": false
   },
   "outputs": [],
   "source": [
    "import numpy as np #work with arrays\n",
    "dydt=np.zeros(2) #global array variable\n",
    "\n",
    "def rp(y,t):\n",
    "    dydt[0]= y[1]\n",
    "    dydt[1]= (-p0/rho-3./2.*y[1]*y[1])/y[0]\n",
    "    return dydt"
   ]
  },
  {
   "cell_type": "markdown",
   "metadata": {},
   "source": [
    "We define the constants (density $\\rho$, the pressure far from the bubble $p_0$, and the maximum bubble radius $R_\\mbox{max}$) and the integration parameters."
   ]
  },
  {
   "cell_type": "markdown",
   "metadata": {},
   "source": [
    "The collapse time, $T_c$ which is the time from maximum bubble radius to $0$ can be calculated [analytically](http://arxiv.org/abs/physics/0702147)\n",
    " and is \n",
    " \n",
    " $$T_c\\approx0.91 R_\\mbox{max}\\sqrt{\\frac{\\rho}{p_0}}\\quad .$$\n",
    " \n",
    "We use this here as the final time, ``t_final``.\n",
    "\n",
    "The integration is done with the function ``odeint()`` which receives the intial conditions and the timesteps ``t`` as arguments."
   ]
  },
  {
   "cell_type": "code",
   "execution_count": 11,
   "metadata": {
    "collapsed": false
   },
   "outputs": [
    {
     "data": {
      "image/png": "[encoded data removed]",
      "text/plain": [
       "<matplotlib.figure.Figure at 0x10e710f90>"
      ]
     },
     "metadata": {},
     "output_type": "display_data"
    }
   ],
   "source": [
    "%matplotlib inline \n",
    "import matplotlib.pyplot as plt\n",
    "from scipy.integrate import odeint\n",
    "from math import *\n",
    "\n",
    "p0=1e5            # ambient pressure\n",
    "rho=1e3           # density of the liquid\n",
    "Rmax=1e-3         # maximum radius\n",
    "t_final = 0.914*Rmax*sqrt(rho/p0) #estimated from the Rayleigh collapse time\n",
    "\n",
    "# Initial condition\n",
    "y0=[Rmax,0]\n",
    "# Times for the solution\n",
    "t = np.linspace(0, t_final, 100)\n",
    "# Integrate\n",
    "sol=odeint(rp, y0, t)\n",
    "R=sol[:, 0]\n",
    "\n",
    "plt.figure(figsize=(7,7),dpi=100)\n",
    "ax1=plt.gca()\n",
    "ax1.plot(t/t_final,R/Rmax)\n",
    "ax1.set_xlabel(r'$t/T_C$',size=25);ax1.set_ylabel(r'$R/R_{max}$', size=25)\n",
    "ax1.tick_params(labelsize=20);"
   ]
  },
  {
   "cell_type": "code",
   "execution_count": 9,
   "metadata": {
    "collapsed": false,
    "hide_input": false
   },
   "outputs": [
    {
     "data": {
      "text/html": [
       "<link href='http://fonts.googleapis.com/css?family=Fenix' rel='stylesheet' type='text/css'>\n",
       "<link href='http://fonts.googleapis.com/css?family=Alegreya+Sans:100,300,400,500,700,800,900,100italic,300italic,400italic,500italic,700italic,800italic,900italic' rel='stylesheet' type='text/css'>\n",
       "<link href='http://fonts.googleapis.com/css?family=Source+Code+Pro:300,400' rel='stylesheet' type='text/css'>\n",
       "<style>\n",
       "@font-face {\n",
       "font-family: \"Computer Modern\";\n",
       "src: url('http://mirrors.ctan.org/fonts/cm-unicode/fonts/otf/cmunss.otf');\n",
       "}\n",
       "div.cell{\n",
       "\twidth:800px;\n",
       "\tmargin-left:5% !important;\n",
       "\tmargin-right:auto;\n",
       "}\n",
       "div.YourWork{\n",
       "\tbackground-color: #FFCC66;\n",
       "}\n",
       "div.Detail{\n",
       "\tbackground-color: #DDEEDD;\n",
       "\tfont-size: 80%;\n",
       "\tborder: 1px solid black;\n",
       "\tpadding: 10px;\t\t\n",
       "}\n",
       "div.Figure{\n",
       "\tborder: 1px solid black;\n",
       "\tpadding: 10px;\n",
       "\ttext-align: center;\n",
       "\tmargin: 30px;\n",
       "}\n",
       "h1 {\n",
       "font-family: 'Alegreya Sans', sans-serif;\n",
       "}\n",
       "h2 {\n",
       "font-family: 'Fenix', serif;\n",
       "}\n",
       "h3{\n",
       "font-family: 'Fenix', serif;\n",
       "margin-top:12px;\n",
       "margin-bottom: 3px;\n",
       "}\n",
       "h4{\n",
       "font-family: 'Fenix', serif;\n",
       "}\n",
       "h5 {\n",
       "font-family: 'Alegreya Sans', sans-serif;\n",
       "}\n",
       "div.text_cell_render{\n",
       "font-family: 'Alegreya Sans',Computer Modern, \"Helvetica Neue\", Arial, Helvetica, Geneva, sans-serif;\n",
       "line-height: 135%;\n",
       "font-size: 120%;\n",
       "width:600px;\n",
       "margin-left:auto;\n",
       "margin-right:auto;\n",
       "}\n",
       ".CodeMirror{\n",
       "font-family: \"Source Code Pro\";\n",
       "font-size: 90%;\n",
       "}\n",
       ".rendered_html code{\n",
       "\tbackground-color: transparent;\t\n",
       "}\n",
       "/* .prompt{\n",
       "display: None;\n",
       "}*/\n",
       ".text_cell_render h1 {\n",
       "font-weight: 120;\n",
       "font-size: 30pt;\n",
       "line-height: 100%;\n",
       "color:#CD2305;\n",
       "margin-bottom: 0.5em;\n",
       "margin-top: 0.5em;\n",
       "display: block;\n",
       "}\n",
       ".text_cell_render h5 {\n",
       "font-weight: 300;\n",
       "font-size: 12pt;\n",
       "margin-bottom: 0.5em;\n",
       "margin-top: 0.5em;\n",
       "display: block;\n",
       "border-style: double;\n",
       "border-width: medium;\n",
       "border-color: black;\n",
       "background-color: #F0F0F0;\n",
       "text-align: center;\n",
       "}\n",
       ".warning{\n",
       "color: rgb( 240, 20, 20 )\n",
       "}\n",
       "</style>\n",
       "<script>\n",
       "MathJax.Hub.Config({\n",
       "TeX: {\n",
       "extensions: [\"AMSmath.js\"]\n",
       "},\n",
       "tex2jax: {\n",
       "inlineMath: [ ['$','$'], [\"\\\\(\",\"\\\\)\"] ],\n",
       "displayMath: [ ['$$','$$'], [\"\\\\[\",\"\\\\]\"] ]\n",
       "},\n",
       "displayAlign: 'center', // Change this to 'center' to center equations.\n",
       "\"HTML-CSS\": {\n",
       "styles: {'.MathJax_Display': {\"margin\": 4}}\n",
       "}\n",
       "});\n",
       "</script>"
      ],
      "text/plain": [
       "<IPython.core.display.HTML object>"
      ]
     },
     "execution_count": 9,
     "metadata": {},
     "output_type": "execute_result"
    }
   ],
   "source": [
    "from IPython.core.display import HTML\n",
    "def css_styling():\n",
    "    styles = open(\"styles/custom2.css\", \"r\").read()\n",
    "    return HTML(styles)\n",
    "css_styling()"
   ]
  },
  {
   "cell_type": "code",
   "execution_count": 9,
   "metadata": {
    "collapsed": false
   },
   "outputs": [
    {
     "data": {
      "text/plain": [
       "0.91468135650196214"
      ]
     },
     "execution_count": 9,
     "metadata": {},
     "output_type": "execute_result"
    }
   ],
   "source": [
    "sqrt(3.*math.pi/2.)*math.gamma(5./6.)/math.gamma(1./3.)"
   ]
  },
  {
   "cell_type": "code",
   "execution_count": 16,
   "metadata": {
    "collapsed": false
   },
   "outputs": [
    {
     "data": {
      "text/plain": [
       "array([ 0.,  0.])"
      ]
     },
     "execution_count": 16,
     "metadata": {},
     "output_type": "execute_result"
    }
   ],
   "source": [
    "np.zeros(2)"
   ]
  },
  {
   "cell_type": "code",
   "execution_count": null,
   "metadata": {
    "collapsed": true
   },
   "outputs": [],
   "source": []
  }
 ],
 "metadata": {
  "kernelspec": {
   "display_name": "Python 2",
   "language": "python",
   "name": "python2"
  },
  "language_info": {
   "codemirror_mode": {
    "name": "ipython",
    "version": 2
   },
   "file_extension": ".py",
   "mimetype": "text/x-python",
   "name": "python",
   "nbconvert_exporter": "python",
   "pygments_lexer": "ipython2",
   "version": "2.7.12"
  }
 },
 "nbformat": 4,
 "nbformat_minor": 0
}
