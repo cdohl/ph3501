{
 "cells": [
  {
   "cell_type": "code",
   "execution_count": 32,
   "metadata": {
    "collapsed": false
   },
   "outputs": [
    {
     "name": "stdout",
     "output_type": "stream",
     "text": [
      "02a\\ Euler\\ Method\n"
     ]
    }
   ],
   "source": [
    "import subprocess\n",
    "fdir='../'\n",
    "fnames=['01\\ Math\\ Refresher\\ and\\ Python\\ Introduction','02\\ Streamlines,\\ Pathlines,\\ Streaklines']\n",
    "fnames=['02a\\ Euler\\ Method']\n",
    "try:\n",
    "    a4=subprocess.check_output('mkdir pdfs',shell=True)\n",
    "except: \n",
    "    pass   \n",
    "\n",
    "for f in fnames:\n",
    "    \n",
    "    print f\n",
    "    \n",
    "    a1=subprocess.check_output(\n",
    "        'jupyter nbconvert --to latex --template lecture_article '+fdir+f+'.ipynb', shell=True)\n",
    "    a1a=subprocess.check_output('mv '+fdir+f+'.tex .', shell=True)\n",
    "    \n",
    "    try:\n",
    "        a1b=subprocess.check_output('mv '+fdir+f+'_files .', shell=True)\n",
    "    except: \n",
    "        pass\n",
    "    \n",
    "    #run it twice to get the references to equations right\n",
    "    a2=subprocess.check_output('pdflatex '+f+'.tex', shell=True)\n",
    "    a2=subprocess.check_output('pdflatex '+f+'.tex', shell=True)\n",
    "    #clean up\n",
    "    a3=subprocess.check_output('rm '+f+'.out '+f+'.log '+f+'.aux '+f+'.tex', shell=True)\n",
    "    try:\n",
    "        a3a=subprocess.check_output('rm -r ' + f +'_files', shell=True)\n",
    "    except: \n",
    "        pass\n",
    "    #move\n",
    "    a4=subprocess.check_output('mv '+f+'.pdf pdfs\\\\', shell=True)\n",
    "    \n"
   ]
  },
  {
   "cell_type": "code",
   "execution_count": null,
   "metadata": {
    "collapsed": true
   },
   "outputs": [],
   "source": []
  },
  {
   "cell_type": "code",
   "execution_count": null,
   "metadata": {
    "collapsed": true
   },
   "outputs": [],
   "source": []
  }
 ],
 "metadata": {
  "kernelspec": {
   "display_name": "Python 2",
   "language": "python",
   "name": "python2"
  },
  "language_info": {
   "codemirror_mode": {
    "name": "ipython",
    "version": 2
   },
   "file_extension": ".py",
   "mimetype": "text/x-python",
   "name": "python",
   "nbconvert_exporter": "python",
   "pygments_lexer": "ipython2",
   "version": "2.7.12"
  }
 },
 "nbformat": 4,
 "nbformat_minor": 0
}
