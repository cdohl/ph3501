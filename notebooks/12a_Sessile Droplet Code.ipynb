{
 "cells": [
  {
   "cell_type": "code",
   "execution_count": 5,
   "metadata": {
    "collapsed": false
   },
   "outputs": [
    {
     "data": {
      "image/png": "[encoded data removed]",
      "text/plain": [
       "<matplotlib.figure.Figure at 0x1053524d0>"
      ]
     },
     "metadata": {},
     "output_type": "display_data"
    }
   ],
   "source": [
    "#Boilerplates\n",
    "%matplotlib inline\n",
    "import matplotlib.pylab as plt #plotting\n",
    "import numpy as np #linspace and array\n",
    "from scipy.integrate import odeint #ODE integration\n",
    "from scipy.optimize import fmin #find minimum of a function using clever algorithms\n",
    "from math import * #mathematical functions\n",
    "\n",
    "rho=3e3    #density difference droplet and surrounding liquid\n",
    "gamma=0.07  #surface tension coefficient\n",
    "g=20.      #gravitational acceleration\n",
    "l=sqrt(gamma/g/rho) #capillary number\n",
    "\n",
    "AD=pi*(1e-3)**2/2. #area of the droplet\n",
    "alpha=.8*pi #contact angle\n",
    "#Psi we want to calculate\n",
    "psis = np.linspace(0., alpha, 100.) #List of psi's\n",
    "\n",
    "#estimate for intital curvature B based on a circle and account for the contact angle\n",
    "r=sqrt(AD/(alpha-0.5*sin(2*alpha))) #radius of a cut circle with contact angle alpha\n",
    "initialB=B=1/r #and set as initial B as an approximation of Eq. (3)\n",
    "\n",
    "#Initial value for X and Y\n",
    "yinit=np.array([0,0])\n",
    "\n",
    "#ODE to integrate the droplet surface in X and Y direction as a function of psi\n",
    "def droplet_ode(y,psi):\n",
    "    Q=y[0]/(l**2)-B\n",
    "    dxdpsi=sin(psi)/Q\n",
    "    dydpsi=-cos(psi)/Q\n",
    "    return np.array([dxdpsi,dydpsi])\n",
    "\n",
    "#return value is the error between given and the calculated area\n",
    "def findB(b):\n",
    "    global B #Python assumes without global derective that B would be a local variable\n",
    "    B=b[0] #b is an array of size 1, but B a float\n",
    "    yy=odeint(droplet_ode,yinit,psis) #solve the ODE with initial values and for the psis\n",
    "    droparea=2*np.trapz(np.fabs(yy[:,1]),x=np.fabs(yy[:,0]))\n",
    "    return fabs(AD-droparea)\n",
    "\n",
    "newB = fmin(func=findB, x0=initialB,disp=0)\n",
    "B=newB[0]\n",
    "#Calculate final shape with correct B\n",
    "yy=odeint(droplet_ode,yinit,psis)\n",
    "#Plotting\n",
    "x=yy[:,0]\n",
    "y=yy[:,1]\n",
    "plt.plot(y,x-x[-1],'k',-y,x-x[-1],'k');\n",
    "plt.axis('equal');"
   ]
  },
  {
   "cell_type": "code",
   "execution_count": null,
   "metadata": {
    "collapsed": true
   },
   "outputs": [],
   "source": []
  }
 ],
 "metadata": {
  "kernelspec": {
   "display_name": "Python 2",
   "language": "python",
   "name": "python2"
  },
  "language_info": {
   "codemirror_mode": {
    "name": "ipython",
    "version": 2
   },
   "file_extension": ".py",
   "mimetype": "text/x-python",
   "name": "python",
   "nbconvert_exporter": "python",
   "pygments_lexer": "ipython2",
   "version": "2.7.11"
  }
 },
 "nbformat": 4,
 "nbformat_minor": 0
}
