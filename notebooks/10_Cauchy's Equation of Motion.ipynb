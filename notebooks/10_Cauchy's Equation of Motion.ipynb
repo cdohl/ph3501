{
 "cells": [
  {
   "cell_type": "markdown",
   "metadata": {},
   "source": [
    "$$\n",
    "\\newcommand{\\fudm}[2]{\\frac{\\mathrm{D} #1}{\\mathrm{D} #2}}\n",
    "\\newcommand{\\pad}[2]{\\frac{\\partial #1}{\\partial #2}}\n",
    "\\newcommand{\\ppad}[2]{\\frac{\\partial^2 #1}{\\partial #2^2}}\n",
    "\\newcommand{\\ppadd}[3]{\\frac{\\partial^2 #1}{\\partial #2 \\partial #3}}\n",
    "\\newcommand{\\nnabla}{\\nabla^2}\n",
    "\\newcommand{\\eps}{\\epsilon}\n",
    "\\newcommand{\\vdetail}[1]{\\vb{#1}=\\begin{pmatrix}#1_1\\\\#1_2\\\\#1_3\\end{pmatrix}}\n",
    "\\newcommand{\\vb}[1]{\\mathbf{#1}}\n",
    "\\newcommand{\\va}[1]{\\vec{#1}}\n",
    "\\newcommand{\\vc}[1]{\\begin{pmatrix}#1_1\\\\#1_2\\end{pmatrix}}\n",
    "\\newcommand{\\vd}[1]{\\begin{pmatrix}#1_1\\\\#1_2\\\\#1_3\\end{pmatrix}}\n",
    "\\newcommand{\\tb}[1]{\\underline{\\underline{\\mathbf{#1}}}}\n",
    "\\newcommand{\\fud}[2]{\\frac{\\mathrm{d} #1}{\\mathrm{d} #2}}\n",
    "\\newcommand{\\dd}{\\mathrm{d}}\n",
    "$$\n"
   ]
  },
  {
   "cell_type": "markdown",
   "metadata": {},
   "source": [
    "#Cauchy's Equation of Motion\n",
    "\n",
    "We now derive a general equation for any liquid taking into account body and surface forces.\n",
    "\n",
    "The derivation is trivial, yet we need to use a bit of vector algebra. It all starts with Newton's 2nd Law, namely the sum over all forces leads to change of momentum, i.e.:\n",
    "\n",
    "$$\n",
    "\\sum \\vb{F}=\\fud{\\vb{p}}{t}=\\fud{}{t}\\left( m \\vb{u}\\right)\\tag{1}$$\n",
    "In contrast to Physics 101, we now need to integrate over the volume of the fluid; the momentum of the fluid particle is\n",
    "\n",
    "$$\\vb{p}=\\int_{V(t)} \\rho(\\vb{x},t)\\,\\vb{u}\\,dV\\quad .\\tag{2}$$\n",
    "\n",
    "The change of momentum $d\\vb{p}/dt$ leads to the expression:\n",
    "\n",
    "$$\\fud{}{t}\\int_{V(t)} \\rho(\\vb{x},t)\\,\\vb{u}\\,dV\\quad .\\tag{3}$$\n",
    "\n",
    "How do we differentiate this integral? The volume of the fluid particle moves in space and time, in other words the limits of the integral $V(t)$ is a function of time. Reynold's Transport Theorem allows us to differentiate the integral using only Eulerian (lab) coordinates. Reynold's transport theorem states:\n",
    "\n",
    "$$\\fud{}{t}\\int_{V^*(t)}F(\\vb{x},t)\\,dV=\\int_{V^*(t)} \\pad{F(\\vb{x},t)}{t}\\,dV+\\int_{A^*(t)} F(\\vb{x},t)\\,\\vb{b}\\cdot\\vb{n}\\,dA\\tag{4}\\quad ,$$\n",
    "where the vector $\\vb{b}$ in the second kernel at the R.H.S. of Eq. (4) is the velocity of of the particle at its surface.\n",
    "\n",
    "<img src=\"files/pics/ReynoldsTransport.png\" width=300> <p> \n"
   ]
  },
  {
   "cell_type": "code",
   "execution_count": null,
   "metadata": {
    "collapsed": true
   },
   "outputs": [],
   "source": []
  }
 ],
 "metadata": {
  "kernelspec": {
   "display_name": "Python 2",
   "language": "python",
   "name": "python2"
  },
  "language_info": {
   "codemirror_mode": {
    "name": "ipython",
    "version": 2
   },
   "file_extension": ".py",
   "mimetype": "text/x-python",
   "name": "python",
   "nbconvert_exporter": "python",
   "pygments_lexer": "ipython2",
   "version": "2.7.10"
  }
 },
 "nbformat": 4,
 "nbformat_minor": 0
}
