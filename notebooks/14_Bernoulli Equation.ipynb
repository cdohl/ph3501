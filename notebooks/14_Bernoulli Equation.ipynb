{
 "cells": [
  {
   "cell_type": "markdown",
   "metadata": {},
   "source": [
    "$$\n",
    "\\newcommand{\\fudm}[2]{\\frac{\\mathrm{D} #1}{\\mathrm{D} #2}}\n",
    "\\newcommand{\\pad}[2]{\\frac{\\partial #1}{\\partial #2}}\n",
    "\\newcommand{\\ppad}[2]{\\frac{\\partial^2 #1}{\\partial #2^2}}\n",
    "\\newcommand{\\ppadd}[3]{\\frac{\\partial^2 #1}{\\partial #2 \\partial #3}}\n",
    "\\newcommand{\\nnabla}{\\nabla^2}\n",
    "\\newcommand{\\eps}{\\epsilon}\n",
    "\\newcommand{\\vdetail}[1]{\\vb{#1}=\\begin{pmatrix}#1_1\\\\#1_2\\\\#1_3\\end{pmatrix}}\n",
    "\\newcommand{\\vb}[1]{\\mathbf{#1}}\n",
    "\\newcommand{\\va}[1]{\\vec{#1}}\n",
    "\\newcommand{\\vc}[1]{\\begin{pmatrix}#1_1\\\\#1_2\\end{pmatrix}}\n",
    "\\newcommand{\\vd}[1]{\\begin{pmatrix}#1_1\\\\#1_2\\\\#1_3\\end{pmatrix}}\n",
    "\\newcommand{\\tb}[1]{\\underline{\\underline{\\mathbf{#1}}}}\n",
    "\\newcommand{\\fud}[2]{\\frac{\\mathrm{d} #1}{\\mathrm{d} #2}}\n",
    "\\newcommand{\\dd}{\\mathrm{d}}\n",
    "$$\n"
   ]
  },
  {
   "cell_type": "markdown",
   "metadata": {},
   "source": [
    "#Bernoulli Equation\n",
    "\n",
    "If the viscosity of the fluid can be ignored the Navier Stokes Equation simplifies to \n",
    "the Euler equation:\n",
    "\n",
    "$$\\rho \\fudm{\\vb{u}}{t} = - \\nabla p + \\rho \\vb{g}\\quad .\\tag{1}$$\n",
    "\n",
    "Starting from the Euler equation a conserved quantity can be obtained which is related to the pressure and velocity. This very handy Bernoulli equations allows to calculate the pressure or velocity using the known values at some other location in the flow.\n",
    "\n",
    "This works also for compressible flows where the density of the fluid is only a function of the pressure (barotropic flows), i.e. $\\rho=\\rho(p)$. Then we can write\n",
    "\n",
    "$$\\frac{1}{\\rho}\\nabla p=\\nabla \\int_{p_0}^p \\frac{1}{\\rho(p')}\\,dp'\\quad .\\tag{2}$$\n",
    "\n",
    "Equation (2) can be obtained using the Leibnitz rule (see lecture slides). We'll keep the R.H.R expression for the pressure gradient to obtain the more general Bernoulli Equation for compressible flow. However, we'll only study incompressible flows and therefore could have sticked to the L.H.S. of Eq. (2).\n",
    "\n",
    "Then Eq. (1) becomes understanding that the body force $\\rho \\vb{g}$ can be written as a gradient $-\\nabla \\Phi$ with $\\Phi=g\\,z$ where $g$ is a positive constant and $z$ is height in opposite direction of the gravity vector $\\vb{g}$:\n",
    "\n",
    "$$\\fudm{\\vb{u}}{t}=-\\nabla \\left[ \\int_{p_0}^p \\frac{1}{\\rho(p')}\\,dp' + \\Phi \\right]\\tag{3}$$ \n",
    "\n",
    "We rewrite the advection term of the R.H.S. of Eq. (3)  using the identity $\\vb{u}\\cdot\\nabla\\vb{u}=\\frac{1}{2}(\\vb{u}\\cdot\\vb{u}) - [\\vb{u}\\times(\\nabla\\times\\vb{u})]$ and obtain\n",
    "\n",
    "$$\\pad{\\vb{u}}{t}+\\nabla \\left[ \\frac{1}{2}(\\vb{u}\\cdot\\vb{u})+ \\int_{p_0}^p \\frac{1}{\\rho(p')}\\,dp' + \\Phi \\right]=\\vb{u}\\times\\va{\\omega}\\tag{4}$$\n",
    "\n",
    "\n",
    "\n",
    "\n",
    "\n"
   ]
  },
  {
   "cell_type": "code",
   "execution_count": null,
   "metadata": {
    "collapsed": true
   },
   "outputs": [],
   "source": []
  }
 ],
 "metadata": {
  "kernelspec": {
   "display_name": "Python 2",
   "language": "python",
   "name": "python2"
  },
  "language_info": {
   "codemirror_mode": {
    "name": "ipython",
    "version": 2
   },
   "file_extension": ".py",
   "mimetype": "text/x-python",
   "name": "python",
   "nbconvert_exporter": "python",
   "pygments_lexer": "ipython2",
   "version": "2.7.12"
  }
 },
 "nbformat": 4,
 "nbformat_minor": 0
}
