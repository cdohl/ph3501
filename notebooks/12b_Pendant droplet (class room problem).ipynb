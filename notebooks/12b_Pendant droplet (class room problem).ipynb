{
 "cells": [
  {
   "cell_type": "markdown",
   "metadata": {},
   "source": [
    "$$\n",
    "\\newcommand{\\fudm}[2]{\\frac{\\mathrm{D} #1}{\\mathrm{D} #2}}\n",
    "\\newcommand{\\pad}[2]{\\frac{\\partial #1}{\\partial #2}}\n",
    "\\newcommand{\\ppad}[2]{\\frac{\\partial^2 #1}{\\partial #2^2}}\n",
    "\\newcommand{\\ppadd}[3]{\\frac{\\partial^2 #1}{\\partial #2 \\partial #3}}\n",
    "\\newcommand{\\nnabla}{\\nabla^2}\n",
    "\\newcommand{\\eps}{\\epsilon}\n",
    "\\newcommand{\\vdetail}[1]{\\vb{#1}=\\begin{pmatrix}#1_1\\\\#1_2\\\\#1_3\\end{pmatrix}}\n",
    "\\newcommand{\\vb}[1]{\\mathbf{#1}}\n",
    "\\newcommand{\\va}[1]{\\vec{#1}}\n",
    "\\newcommand{\\tb}[1]{\\underline{\\underline{\\mathbf{#1}}}}\n",
    "\\newcommand{\\fud}[2]{\\frac{\\mathrm{d} #1}{\\mathrm{d} #2}}\n",
    "$$"
   ]
  },
  {
   "cell_type": "markdown",
   "metadata": {},
   "source": [
    "#Pendant Droplet\n",
    "\n",
    "We want to compute the shape of a drop pendant from a plate. \n",
    "\n",
    "<a name=\"fig1\"></a><img src=\"pics/pendant drop.png\" width=250> <p>\n",
    "<center> Figure 1 </center>\n",
    "\n",
    "We can use the very same approach with a coordinate system positioned at the drop's apex.  \n",
    "\n",
    "The Laplace Young now needs to account for the direction of x-axis. It is in vector notation\n",
    "\n",
    "$$\\kappa=\\frac{\\vb{g} \\cdot \\vb{x}}{l^2}\\quad.\\tag{1}$$\n",
    "\n",
    "\n",
    "where $l$ is the capillary length, $\\vb{g}$ the gravitational vector, and $\\vb{x}$ the coordinate on the interface. \n",
    "\n",
    "Please change below sessile droplet program to calculate the pendant droplet."
   ]
  },
  {
   "cell_type": "code",
   "execution_count": 12,
   "metadata": {
    "collapsed": false
   },
   "outputs": [
    {
     "data": {
      "image/png": "[encoded data removed]",
      "text/plain": [
       "<matplotlib.figure.Figure at 0x7fe0d004d950>"
      ]
     },
     "metadata": {},
     "output_type": "display_data"
    }
   ],
   "source": [
    "#Boilerplates\n",
    "%matplotlib inline\n",
    "import matplotlib.pylab as plt #plotting\n",
    "import numpy as np #linspace and array\n",
    "from scipy.integrate import odeint #ODE integration\n",
    "from scipy.optimize import fmin #find minimum of a function using clever algorithms\n",
    "from math import * #mathematical functions\n",
    "\n",
    "rho=3e3    #density difference droplet and surrounding liquid\n",
    "gamma=0.07  #surface tension coefficient\n",
    "g=10.      #gravitational acceleration\n",
    "l=sqrt(gamma/g/rho) #capillary number\n",
    "\n",
    "\n",
    "AD=pi*(1e-3)**2/2. #area of the droplet\n",
    "alpha=.8*pi #contact angle\n",
    "#Psi we want to calculate\n",
    "psis = np.linspace(0., alpha, 100.) #List of psi's\n",
    "\n",
    "#estimate for intital curvature B based on a circle and account for the contact angle\n",
    "r=sqrt(AD/(alpha-0.5*sin(2*alpha))) #radius of a cut circle with contact angle alpha\n",
    "initialB=B=1/r #and set as initial B as an approximation of Eq. (3)\n",
    "\n",
    "#Initial value for X and Y\n",
    "yinit=np.array([0,0])\n",
    "\n",
    "#ODE to integrate the droplet surface in X and Y direction as a function of psi\n",
    "def droplet_ode(y,psi):\n",
    "    Q=y[0]/(l**2)-B\n",
    "    dxdpsi=sin(psi)/Q\n",
    "    dydpsi=-cos(psi)/Q\n",
    "    return np.array([dxdpsi,dydpsi])\n",
    "\n",
    "#return value is the error between given and the calculated area\n",
    "def findB(b):\n",
    "    global B #Python assumes without global derective that B would be a local variable\n",
    "    B=b[0] #b is an array of size 1, but B a float\n",
    "    yy=odeint(droplet_ode,yinit,psis) #solve the ODE with initial values and for the psis\n",
    "    droparea=2*np.trapz(np.fabs(yy[:,1]),x=np.fabs(yy[:,0]))\n",
    "    return fabs(AD-droparea)\n",
    "\n",
    "newB = fmin(func=findB, x0=initialB,disp=0)\n",
    "B=newB[0]\n",
    "#Calculate final shape with correct B\n",
    "yy=odeint(droplet_ode,yinit,psis)\n",
    "#Plotting\n",
    "x=yy[:,0]\n",
    "y=yy[:,1]\n",
    "plt.plot(y,x-x[-1],'k',-y,x-x[-1],'k');\n",
    "plt.axis('equal');"
   ]
  }
 ],
 "metadata": {
  "kernelspec": {
   "display_name": "Python 2",
   "language": "python",
   "name": "python2"
  },
  "language_info": {
   "codemirror_mode": {
    "name": "ipython",
    "version": 2
   },
   "file_extension": ".py",
   "mimetype": "text/x-python",
   "name": "python",
   "nbconvert_exporter": "python",
   "pygments_lexer": "ipython2",
   "version": "2.7.10"
  }
 },
 "nbformat": 4,
 "nbformat_minor": 0
}
