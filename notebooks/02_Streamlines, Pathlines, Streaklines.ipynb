{
 "metadata": {
  "name": ""
 },
 "nbformat": 3,
 "nbformat_minor": 0,
 "worksheets": [
  {
   "cells": [
    {
     "cell_type": "markdown",
     "metadata": {},
     "source": [
      "$$\n",
      "\\newcommand{\\fudm}[2]{\\frac{\\mathrm{D} #1}{\\mathrm{D} #2}}\n",
      "\\newcommand{\\pad}[2]{\\frac{\\partial #1}{\\partial #2}}\n",
      "\\newcommand{\\ppad}[2]{\\frac{\\partial^2 #1}{\\partial #2^2}}\n",
      "\\newcommand{\\ppadd}[3]{\\frac{\\partial^2 #1}{\\partial #2 \\partial #3}}\n",
      "\\newcommand{\\nnabla}{\\nabla^2}\n",
      "\\newcommand{\\eps}{\\epsilon}\n",
      "\\newcommand{\\vdetail}[1]{\\vb{#1}=\\begin{pmatrix}#1_1\\\\#1_2\\\\#1_3\\end{pmatrix}}\n",
      "\\newcommand{\\vb}[1]{\\mathbf{#1}}\n",
      "\\newcommand{\\va}[1]{\\vec{#1}}\n",
      "\\newcommand{\\tb}[1]{\\underline{\\underline{\\mathbf{#1}}}}\n",
      "\\newcommand{\\fud}[2]{\\frac{\\mathrm{d} #1}{\\mathrm{d} #2}}\n",
      "$$"
     ]
    },
    {
     "cell_type": "markdown",
     "metadata": {},
     "source": [
      "# Streamlines, Pathlines, Streaklines\n",
      "\n",
      "In this lecture we discuss three ways to describe and experimentally visualize a flow field, namely the streamline, the pathline, and the streakline. A point in lab space (not moving with the fluid) is called $\\vb{x}$, the velocity field is a function of space and time, i.e. $\\vb{u}=\\vb{u}(\\vb{x},t)$."
     ]
    },
    {
     "cell_type": "markdown",
     "metadata": {},
     "source": [
      "Suppose we inject dye at a point in the flow over a period of time. At any given time (after we start the dye injection), we will see the locus of points in space that are the positions of particles that were at the injection position at previous times. In unsteady flow (flow that is a function of time) these dye streaks are called *streaklines*.\n",
      "In contrast if we mark a single fluid particle, for example we color it and then follow the path of this particle over time we obtain the *pathline* of this fluid particle.\n",
      "The *streamline* is the shape a thin filament would form at some instant of time in the flow, e.g. a wool thread pictured with strobe photography. This filament aligns with flow (we will learn later why) such that it is tangential to the instantenous velocity field. In steady flow, all three kind of lines coincide, while for unsteady flow they are distinct. In this lecture we derive the ordinary differential equations for the three lines and solve them exemplarily using the appropriate initial conditions. Also you will find a simple python script plotting the lines.\n",
      "\n",
      "<div class=\"YourWork\">  *Why?* </div>\n",
      "\n",
      "Above discussion neglects the effect of diffusion or non-neutral buoyancy which would cause particles not to follow the fluid particles. Also, we ignore any inertia of the particle.\n"
     ]
    },
    {
     "cell_type": "markdown",
     "metadata": {},
     "source": [
      "##Streamline:\n",
      "The streamline is a curve tangential to the instantaneous velocity vector; the trajectory of a particle on this \u201cfrozen\u201d velocity field. Let $d\\vb{x}$ be the tangent vector to the streamline of a velocity field $\\vb{u}(\\vb{x};t)$ the velocity field.\n",
      "\n",
      "$$d\\vb{x} \\times \\vb{u} = \\vb{0}$$\n",
      "\n",
      "This equation can be transformed into three separate equations (*Show!*):\n",
      "\n",
      "$$\\frac{dx_1}{u_1}=\\frac{dx_2}{u_2}=\\frac{dx_3}{u_3}\\quad .$$\n",
      "\n",
      "For each of the terms the quotient is the same and has the unit of time; let's name this $d\\tau$. Above we mentioned a streamline is only valid for a fixed time (if the flow field is unsteady), let's call this time $t=t_0$. We can thus rewrite above equation:\n",
      "\n",
      "$$\\frac{dx_1}{u_1(\\vb{x};t=t_0)}=\n",
      "\\frac{dx_2}{u_2(\\vb{x};t=t_0)}=\n",
      "\\frac{dx_3}{u_3(\\vb{x};t=t_0)}=d\\tau$$\n",
      "\n",
      "Which can be written as three separate equations\n",
      "\n",
      "\\begin{eqnarray}\n",
      "\\frac{dx_1}{d\\tau}&=&u_1(\\vb{x};t=t_0)\\\\\n",
      "\\frac{dx_2}{d\\tau}&=&u_2(\\vb{x};t=t_0)\\\\\n",
      "\\frac{dx_3}{d\\tau}&=&u_3(\\vb{x};t=t_0)\n",
      "\\end{eqnarray}\n",
      "\n",
      "with \n",
      "$$\\vb{x}(\\tau=0)=\n",
      "\\left(\\begin{array}{c}\n",
      "x_{10}\\\\\n",
      "x_{20}\\\\\n",
      "x_{30}\n",
      "\\end{array}\\right)$$\n",
      "\n",
      "Then we integrate above equation and if possible  eliminate $\\tau$ by describing it as a function of one of the coordinates $(x_1, x_2, x_3)$. If not, the streamlines remains being parameterized by $\\tau$.\n",
      "\n",
      "###Example\n",
      "\n",
      "Find the streamline which goes through $\\vb{x}=\\left(\\begin{array}{c}1\\\\1\\end{array}\\right)$ at time $t=1$ of the velocity field $\\vb{u}=\\left(\\begin{array}{c}2x_1 + t\\\\x_2 - 2t\\end{array}\\right)$. Please ignore the inconsitency in the units.\n",
      "\n",
      "First we solve for $x_1$:\n",
      "\n",
      "$\\frac{dx_1}{d\\tau}=2x_1+\\left.t\\,\\right|_{t=1}$ with $x_1(\\tau=0)=1$\n",
      "integrate and insert initial condition leads to \n",
      "$x_1 = \\frac{3}{2} e^{2\\tau} - \\frac{1}{2}$.\n",
      "\n",
      "And then we solve for $x_2$:\n",
      "\n",
      "$\\frac{dx_2}{d\\tau}=x_2+\\left.2\\,t\\,\\right|_{t=1}$ with $x_2(\\tau=0)=1$ and again integrate and insert initial conditions gives $x_2=-e^{\\tau}+2$. \n",
      "\n",
      "Above equations are simple enought to eliminate the parameter $\\tau$ by solving for $\\tau$ in the first equation and inserting it into the second, i.e. thus we obtain: \n",
      "\n",
      "$$x_2=2-\\sqrt{\\frac{2}{3}\\left(x_1+\\frac{1}{2}\\right)}$$.\n",
      "\n",
      "\n",
      "\n",
      "\n",
      "\n",
      "\n",
      "\n",
      "\n",
      "\n"
     ]
    },
    {
     "cell_type": "code",
     "collapsed": false,
     "input": [
      "#standard boilerplate for Python\n",
      "%matplotlib inline \n",
      "import numpy as np\n",
      "import matplotlib.pylab as plt\n",
      "import math\n",
      "\n",
      "tau=np.linspace(0.,1.0,100)\n",
      "X1_stream=3./2.*np.exp(2.*tau)-.5\n",
      "X2_stream=-np.exp(tau)+2.\n",
      "plt.plot(X1_stream,X2_stream)\n",
      "plt.legend(\"streamline\")\n",
      "plt.xlabel(\"$x_1$\")\n",
      "plt.ylabel(\"$x_2$\")\n"
     ],
     "language": "python",
     "metadata": {},
     "outputs": [
      {
       "metadata": {},
       "output_type": "pyout",
       "prompt_number": 11,
       "text": [
        "<matplotlib.text.Text at 0x10cc36a50>"
       ]
      },
      {
       "metadata": {},
       "output_type": "display_data",
       "png": "[encoded data removed]",
       "text": [
        "<matplotlib.figure.Figure at 0x10b33c050>"
       ]
      }
     ],
     "prompt_number": 11
    },
    {
     "cell_type": "markdown",
     "metadata": {},
     "source": [
      "We can add a vector field to this plot using the function `quiver()`. This function needs the velocity field which is calculated using two arrays, one for the $x_1$-coordinate and one for the $x_2$-coordinate through the function `mgrid()`.  "
     ]
    },
    {
     "cell_type": "code",
     "collapsed": false,
     "input": [
      "#generate two arrays with 15x15 elements\n",
      "#containing the x1 and x2 coordinates respectively\n",
      "x2,x1 = np.mgrid[-10.:10.:15j, -10.:10.:15j]\n",
      "#Calculate the velocity field for each element of the\n",
      "#arrays x1 and x2\n",
      "u1=2.*x1+1.\n",
      "u2=x2-2.\n",
      "plt.quiver(x1,x2,u1,u2) #plot the velocity field\n",
      "plt.hold(True)\n",
      "#streamline through (1,1) at time t=1\n",
      "plt.plot(X1_stream,X2_stream,'k',linewidth=1.5)\n",
      "plt.plot(1.,1.,'ko')\n",
      "plt.xlabel(\"$x_1$\")\n",
      "plt.ylabel(\"$x_2$\")"
     ],
     "language": "python",
     "metadata": {},
     "outputs": [
      {
       "metadata": {},
       "output_type": "pyout",
       "prompt_number": 2,
       "text": [
        "<matplotlib.text.Text at 0x10c7a43d0>"
       ]
      },
      {
       "metadata": {},
       "output_type": "display_data",
       "png": "[encoded data removed]",
       "text": [
        "<matplotlib.figure.Figure at 0x10c1043d0>"
       ]
      }
     ],
     "prompt_number": 2
    },
    {
     "cell_type": "markdown",
     "metadata": {},
     "source": [
      "You can see that the streamline is following nicely the velocity vectors, i.e. the streamline is tangential to the velocity vector.\n",
      "<p>\n",
      "<div class=\"YourWork\"> *Homework:* <p>\n",
      "Now you add a plot of the streamlines using the python function `streamplot()` and color the lines as a function of the velocity magnitude. </div>"
     ]
    },
    {
     "cell_type": "markdown",
     "metadata": {},
     "source": [
      "You may wonder how the function `streamplot()` calculates the streamlines. It does so by integrating ODEs numerically. We will see in the coming lecture how this can be achieved with an algorithm named \"Euler Method\". "
     ]
    },
    {
     "cell_type": "markdown",
     "metadata": {},
     "source": [
      "##Pathlines\n",
      "The pathline is the trajectory of a specific fluid particle. We specify the fluid particle by choosing its position $\\vb{x}_0$ at a specific time $t_0$.\n",
      "$$\\fud{\\vb{x}}{t}=\\vb{u}(\\vb{x};t)$$ with $\\vb{x}(t=t_0)=\\vb{x}_0$.\n",
      "For most of the cases no analytical solution exists and the a numerical integration is done. The solution is given as a vector function $\\vb{x}=\\vb{x}(\\vb{x}_0;t)$.\n",
      "\n",
      "\n",
      "###Example\n",
      "For above example of the flow field we can calculate analytically the flow field. We first specify the fluid particle $\\vb{x}_0(t=1)=(1,1)^T$.\n",
      "\n",
      "Thus we have to solve\n",
      "\n",
      "$$\\fud{\\vb{x}}{t}=\\left(\\begin{array}\n",
      "2x_1 + 1\\\\\n",
      "2x_2 - 2\n",
      "\\end{array}\\right)$$\n",
      "\n",
      "Both equations are linear ODEs which can be solved with the [integrating factor](http://en.wikipedia.org/wiki/Integrating_factor) and give\n",
      "\n",
      "$$\\vb{x}=\\left(\n",
      "\\begin{array}\n",
      "+\\frac{7}{4} e^{2(t-1)}-\\frac{t}{2}-\\frac{1}{4}\\\\\n",
      "-3e^{t-1}+2t+2\n",
      "\\end{array}\n",
      "\\right)\\quad .$$\n",
      "Here we can't eliminate the parameter $t$, yet for simpler solutions that may be possible and explixite results of the kind $x_2=f(x_1)$ can given.\n",
      "\n",
      "Next we plot the pathline (blue) and compare it with the streamline (green)."
     ]
    },
    {
     "cell_type": "code",
     "collapsed": false,
     "input": [
      "t=np.linspace(1,2,100)\n",
      "X1_path=7./4.*np.exp(2.*(t-1))-t/2.-0.25\n",
      "X2_path=-3.*np.exp(t-1.)+2.*t+2.\n",
      "#one can add multiple lines with a single plot command\n",
      "plt.plot(X1_stream,X2_stream,X1_path,X2_path)\n",
      "#and then add legends to the plot.\n",
      "plt.legend(('stream line','path line'))"
     ],
     "language": "python",
     "metadata": {},
     "outputs": [
      {
       "metadata": {},
       "output_type": "pyout",
       "prompt_number": 3,
       "text": [
        "<matplotlib.legend.Legend at 0x10b33c990>"
       ]
      },
      {
       "metadata": {},
       "output_type": "display_data",
       "png": "[encoded data removed]",
       "text": [
        "<matplotlib.figure.Figure at 0x10b33c910>"
       ]
      }
     ],
     "prompt_number": 3
    },
    {
     "cell_type": "markdown",
     "metadata": {},
     "source": [
      "##Streaklines\n",
      "Streaklines are the locus of points at time $t_0$ which have passed through a particular point $\\vb{x}_0$ at some past time $\\hat{t}\\le t$.\n",
      "\n",
      "The streamlines can be obtained by calculating all pathlines through a point $\\vb{x}_0$ at some time $t=\\hat{t}$, i.e.\n",
      "\n",
      "$$\\fud{\\vb{x}}{t}=\\vb{u}(\\vb{x};t)$$ with $\\vb{x}(t=\\hat{t})=\\vb{x}_0$.\n",
      "\n",
      "We therefore obtain a solution $\\vb{x}(\\vb{x_0};t;\\hat{t})$. Next we specify the time the streakline is observed $t$ and fix $\\vb{x}_0$ to obtain the positions $\\vb{x}(\\hat{t})$ with $\\hat{t}\\le t$.\n",
      "\n",
      "###Example\n",
      "Let's find the streakline at time $t=1$ through the point $x_0=(1,1)^T$. We therefore have to solve the ODEs with the initial condition $\\vb{x}(t=\\hat{t})=1$. This means, that we allow for all pathlines passing through point $\\vb{x}_0$.\n",
      "\n",
      "$$\\fud{\\vb{x}}{t}=\\left(\\begin{array}\n",
      "2x_1 + t\\\\\n",
      "2x_2 - 2t\n",
      "\\end{array}\\right)$$\n",
      "\n",
      "If we then select a specific time, we obtain the locus of all the pathlines for that time, parameterized by $\\hat{t}$.\n",
      "\n",
      "Let's do it, first we find the solution for $\\vb{x}(t=\\hat{t})=1$, which can be again obtained with the integrating factor. The constant of integration now includes $t$ and $\\hat{t}$ and the result is\n",
      "\n",
      "$$\\vb{x}=\\left(\n",
      "\\begin{array}\n",
      "+\\frac{5+2\\hat{t}}{4} e^{2(t-\\hat{t})}-\\frac{t}{2}-\\frac{1}{4}\\\\\n",
      "-(1+2\\hat{t})e^{t-\\hat{t}}+2t+2\n",
      "\\end{array}\n",
      "\\right)\\quad .$$\n",
      "\n",
      "To obtain the streakline at time $t=1$, we just insert this into above parametrization and obtain\n",
      "\n",
      "$$\\vb{x}=\\left(\n",
      "\\begin{array}\n",
      "+\\frac{5+2\\hat{t}}{4} e^{2(1-\\hat{t})}-\\frac{3}{4}\\\\\n",
      "-(1+2\\hat{t})e^{1-\\hat{t}}+4\n",
      "\\end{array}\n",
      "\\right)\\quad .$$\n",
      "Again, the expression is too complicated to obtain an explicit solution of the kind $x_2=f(x_1)$, yet we can plot it using $\\hat{t}$ as parameter, $\\hat{t}<t$ which is $\\hat{t}<1$.\n",
      "\n",
      "\n",
      "\n"
     ]
    },
    {
     "cell_type": "code",
     "collapsed": false,
     "input": [
      "#t_hat goes from 0. to 1. \n",
      "#and shows the locus of all pathlines\n",
      "#going through point (0.,0) at time t=1.\n",
      "th=np.linspace(0.,1.,100)\n",
      "X1_streak=(5.+2.*th)/4.*np.exp(2.*(1-th))-0.75\n",
      "X2_streak=-(1.+2*th)*np.exp(1.-th)+4\n",
      "#Let's plot all three lines together\n",
      "plt.plot(X1_stream,X2_stream,X1_path,X2_path,X1_streak,X2_streak)\n",
      "plt.legend(('stream line','path line','streak line'))\n",
      "plt.xlabel('$x_1$')\n",
      "plt.ylabel('$x_2$')"
     ],
     "language": "python",
     "metadata": {},
     "outputs": [
      {
       "metadata": {},
       "output_type": "pyout",
       "prompt_number": 4,
       "text": [
        "<matplotlib.text.Text at 0x10c7c8190>"
       ]
      },
      {
       "metadata": {},
       "output_type": "display_data",
       "png": "[encoded data removed]",
       "text": [
        "<matplotlib.figure.Figure at 0x10c16f350>"
       ]
      }
     ],
     "prompt_number": 4
    },
    {
     "cell_type": "markdown",
     "metadata": {},
     "source": [
      "Let's have a look at above graph. All graphs go through point $(1,1)^T$. From the velocity field \n",
      "$$\\vb{u}=\\left(\\begin{array}{c}2x_1 + t\\\\x_2 - 2t\\end{array}\\right)$$\n",
      "it is evident that the vertical velocity component $u_2$ becomes more negative with time. Thus the pathline of a particle passing through point $(1,1)^T$ at $t=1$ will be more negative in $x_2$-direction than the streamline through this point and at this time.\n",
      "The streakline is the locus of all pathlines who have passed through $(1,1)^T$ at time $t=1$; then the velocity field in $x_2$-direction was less negative. Therefore, the streakline is above both other lines. \n",
      "<p>\n",
      "<div class=\"YourWork\"> *Homework:* <p>\n",
      "Have a look at the next three videos and explain what is that what you see. Are these streamlines, streaklines, and/or pathlines?</div>"
     ]
    },
    {
     "cell_type": "code",
     "collapsed": false,
     "input": [
      "from IPython.display import YouTubeVideo\n",
      "#VIDEO 1\n",
      "YouTubeVideo('KqqtOb30jWs')"
     ],
     "language": "python",
     "metadata": {},
     "outputs": [
      {
       "html": [
        "\n",
        "        <iframe\n",
        "            width=\"400\"\n",
        "            height=300\"\n",
        "            src=\"http://www.youtube.com/embed/KqqtOb30jWs\"\n",
        "            frameborder=\"0\"\n",
        "            allowfullscreen\n",
        "        ></iframe>\n",
        "        "
       ],
       "metadata": {},
       "output_type": "pyout",
       "prompt_number": 8,
       "text": [
        "<IPython.lib.display.YouTubeVideo at 0x10c7effd0>"
       ]
      }
     ],
     "prompt_number": 8
    },
    {
     "cell_type": "code",
     "collapsed": false,
     "input": [
      "#VIDEO 2\n",
      "YouTubeVideo('NplrDarMDF8')"
     ],
     "language": "python",
     "metadata": {},
     "outputs": [
      {
       "html": [
        "\n",
        "        <iframe\n",
        "            width=\"400\"\n",
        "            height=300\"\n",
        "            src=\"http://www.youtube.com/embed/NplrDarMDF8\"\n",
        "            frameborder=\"0\"\n",
        "            allowfullscreen\n",
        "        ></iframe>\n",
        "        "
       ],
       "metadata": {},
       "output_type": "pyout",
       "prompt_number": 9,
       "text": [
        "<IPython.lib.display.YouTubeVideo at 0x10c7ef850>"
       ]
      }
     ],
     "prompt_number": 9
    },
    {
     "cell_type": "code",
     "collapsed": false,
     "input": [
      "#VIDEO 3#VIDEO 3\n",
      "YouTubeVideo('cUTkqZeiMow')"
     ],
     "language": "python",
     "metadata": {},
     "outputs": [
      {
       "html": [
        "\n",
        "        <iframe\n",
        "            width=\"400\"\n",
        "            height=300\"\n",
        "            src=\"http://www.youtube.com/embed/cUTkqZeiMow\"\n",
        "            frameborder=\"0\"\n",
        "            allowfullscreen\n",
        "        ></iframe>\n",
        "        "
       ],
       "metadata": {},
       "output_type": "pyout",
       "prompt_number": 10,
       "text": [
        "<IPython.lib.display.YouTubeVideo at 0x10c170410>"
       ]
      }
     ],
     "prompt_number": 10
    },
    {
     "cell_type": "code",
     "collapsed": false,
     "input": [
      "from IPython.core.display import HTML\n",
      "def css_styling():\n",
      "    styles = open(\"styles/custom.css\", \"r\").read()\n",
      "    return HTML(styles)\n",
      "css_styling()"
     ],
     "language": "python",
     "metadata": {},
     "outputs": [
      {
       "html": [
        "<link href='http://fonts.googleapis.com/css?family=Fenix' rel='stylesheet' type='text/css'>\n",
        "<link href='http://fonts.googleapis.com/css?family=Alegreya+Sans:100,300,400,500,700,800,900,100italic,300italic,400italic,500italic,700italic,800italic,900italic' rel='stylesheet' type='text/css'>\n",
        "<link href='http://fonts.googleapis.com/css?family=Source+Code+Pro:300,400' rel='stylesheet' type='text/css'>\n",
        "<style>\n",
        "@font-face {\n",
        "font-family: \"Computer Modern\";\n",
        "src: url('http://mirrors.ctan.org/fonts/cm-unicode/fonts/otf/cmunss.otf');\n",
        "}\n",
        "div.cell{\n",
        "\twidth:800px;\n",
        "\tmargin-left:5% !important;\n",
        "\tmargin-right:auto;\n",
        "}\n",
        "div.YourWork{\n",
        "\tbackground-color: #FFCC66;\t\n",
        "}\n",
        "h1 {\n",
        "font-family: 'Alegreya Sans', sans-serif;\n",
        "}\n",
        "h2 {\n",
        "font-family: 'Fenix', serif;\n",
        "}\n",
        "h3{\n",
        "font-family: 'Fenix', serif;\n",
        "margin-top:12px;\n",
        "margin-bottom: 3px;\n",
        "}\n",
        "h4{\n",
        "font-family: 'Fenix', serif;\n",
        "}\n",
        "h5 {\n",
        "font-family: 'Alegreya Sans', sans-serif;\n",
        "}\n",
        "div.text_cell_render{\n",
        "font-family: 'Alegreya Sans',Computer Modern, \"Helvetica Neue\", Arial, Helvetica, Geneva, sans-serif;\n",
        "line-height: 135%;\n",
        "font-size: 120%;\n",
        "width:600px;\n",
        "margin-left:auto;\n",
        "margin-right:auto;\n",
        "}\n",
        ".CodeMirror{\n",
        "font-family: \"Source Code Pro\";\n",
        "font-size: 90%;\n",
        "}\n",
        ".rendered_html code{\n",
        "\tbackground-color: transparent;\t\n",
        "}\n",
        "/* .prompt{\n",
        "display: None;\n",
        "}*/\n",
        ".text_cell_render h1 {\n",
        "font-weight: 200;\n",
        "font-size: 50pt;\n",
        "line-height: 100%;\n",
        "color:#CD2305;\n",
        "margin-bottom: 0.5em;\n",
        "margin-top: 0.5em;\n",
        "display: block;\n",
        "}\n",
        ".text_cell_render h5 {\n",
        "font-weight: 300;\n",
        "font-size: 12pt;\n",
        "margin-bottom: 0.5em;\n",
        "margin-top: 0.5em;\n",
        "display: block;\n",
        "border-style: double;\n",
        "border-width: medium;\n",
        "border-color: black;\n",
        "background-color: #F0F0F0;\n",
        "text-align: center;\n",
        "}\n",
        ".warning{\n",
        "color: rgb( 240, 20, 20 )\n",
        "}\n",
        "</style>\n",
        "<script>\n",
        "MathJax.Hub.Config({\n",
        "TeX: {\n",
        "extensions: [\"AMSmath.js\"]\n",
        "},\n",
        "tex2jax: {\n",
        "inlineMath: [ ['$','$'], [\"\\\\(\",\"\\\\)\"] ],\n",
        "displayMath: [ ['$$','$$'], [\"\\\\[\",\"\\\\]\"] ]\n",
        "},\n",
        "displayAlign: 'center', // Change this to 'center' to center equations.\n",
        "\"HTML-CSS\": {\n",
        "styles: {'.MathJax_Display': {\"margin\": 4}}\n",
        "}\n",
        "});\n",
        "</script>"
       ],
       "metadata": {},
       "output_type": "pyout",
       "prompt_number": 7,
       "text": [
        "<IPython.core.display.HTML at 0x10c7eae90>"
       ]
      }
     ],
     "prompt_number": 7
    },
    {
     "cell_type": "code",
     "collapsed": false,
     "input": [],
     "language": "python",
     "metadata": {},
     "outputs": []
    }
   ],
   "metadata": {}
  }
 ]
}