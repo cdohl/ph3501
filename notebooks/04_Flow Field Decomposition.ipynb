{
 "cells": [
  {
   "cell_type": "markdown",
   "metadata": {
    "slideshow": {
     "slide_type": "skip"
    }
   },
   "source": [
    "$$\n",
    "\\newcommand{\\fudm}[2]{\\frac{\\mathrm{D} #1}{\\mathrm{D} #2}}\n",
    "\\newcommand{\\pad}[2]{\\frac{\\partial #1}{\\partial #2}}\n",
    "\\newcommand{\\ppad}[2]{\\frac{\\partial^2 #1}{\\partial #2^2}}\n",
    "\\newcommand{\\ppadd}[3]{\\frac{\\partial^2 #1}{\\partial #2 \\partial #3}}\n",
    "\\newcommand{\\nnabla}{\\nabla^2}\n",
    "\\newcommand{\\eps}{\\epsilon}\n",
    "\\newcommand{\\vdetail}[1]{\\vb{#1}=\\begin{pmatrix}#1_1\\\\#1_2\\\\#1_3\\end{pmatrix}}\n",
    "\\newcommand{\\vb}[1]{\\mathbf{#1}}\n",
    "\\newcommand{\\va}[1]{\\vec{#1}}\n",
    "\\newcommand{\\vc}[1]{\\begin{pmatrix}#1_1\\\\#1_2\\end{pmatrix}}\n",
    "\\newcommand{\\vd}[1]{\\begin{pmatrix}#1_1\\\\#1_2\\\\#1_3\\end{pmatrix}}\n",
    "\\newcommand{\\tb}[1]{\\underline{\\underline{\\mathbf{#1}}}}\n",
    "\\newcommand{\\fud}[2]{\\frac{\\mathrm{d} #1}{\\mathrm{d} #2}}\n",
    "\\newcommand{\\dd}{\\mathrm{d}}\n",
    "$$\n"
   ]
  },
  {
   "cell_type": "markdown",
   "metadata": {
    "slideshow": {
     "slide_type": "slide"
    }
   },
   "source": [
    "#Flow Field Decomposition\n",
    "\n",
    "In kinematics we are presented with a flow field $\\vb{u}=\\vb{u}(x_1,x_2,x_3,t)$ which transports and deforms fluid particles. We now want to understand the basic manipulations of a fluid particle besides a simple transplation. These are:\n",
    "1. straining\n",
    "2. shearing\n",
    "3. rotation\n",
    "\n",
    "To be more precise, not the absolute amount of for example rotation is of interest but how fast the rotation is, i.e. the rate of rotation. Therefore, all fluid manipulations are with respect to time, and we call them the rate of strain, the rate of shear, and the rate of rotation. Thus the units for these three fluid particle manipulations is [1/T].\n",
    "\n",
    "The flow field decomposition can be formalized mathematically, yet keep in mind that it serves a physical purpose, i.e. to understand how the flow field locally deforms a fluid particles.\n",
    "\n",
    "If the flow field is homogeneous, thus the fluid velocity is constant along each direction, fluid particles do not deform, although they get transported. Only a velocity gradient can lead to a deformation. This is quantified with the velocity gradient tensor (please note Einstein summation over repeating indices): \n",
    "\n",
    "$$du_i=\\pad{u_i}{x_j}dx_j=\\pad{u_i}{x_1}dx_1+\\pad{u_i}{x_2}dx_2+\\pad{u_i}{x_3}dx_3 \\quad .$$\n",
    "\n",
    "The index $i$ varies from $1...3$ thus we have actually 9 components of $\\fud{u_i}{x_j}$ and can write it as a matrix\n",
    "\n",
    "$$\\nabla \\vb{u}=\n",
    "\\left( \\begin{array}{ccc}\n",
    "\\pad{u_1}{x_1} & \\pad{u_1}{x_2} & \\pad{u_1}{x_3} \\\\\n",
    "\\pad{u_2}{x_2} & \\pad{u_2}{x_2} & \\pad{u_2}{x_3} \\\\\n",
    "\\pad{u_3}{x_3} & \\pad{u_3}{x_2} & \\pad{u_3}{x_3} \\end{array} \\right)\n",
    "$$\n",
    "\n",
    "Thus above equation can be written with the definition of the velocity gradient tensor as $d\\vb{u}=\\nabla \\vb{u}\\, d\\vb{x}$.\n",
    "\n",
    "But how do connect the velocity gradient tensor with the fluid deformation. To answer this we need first to look at a decompostion (separation) of a matrix into a symmetric and antisymmetric part. Any 3x3 matrix can be decomposed using the following identity:\n",
    "\n",
    "$$B_{ij}=\\frac{1}{2} \\left( B_{ij} +B_{ji}\\right) + \\frac{1}{2} \\left(B_{ij}-B_{ji}\\right)\\quad .$$\n",
    "\n",
    "A symmetric matrix $\\tb{S}$ has the property $\\tb{S}=\\tb{S}^T$ or $S_{ij}=S_{ji}$ while an asymmetric matrix changes sign upon transposing, i.e. $\\tb{A}^T=-\\tb{A}$ or $A_{ij}=-A_{ji}$.\n",
    "\n",
    "Please check this decomposition using this example:"
   ]
  },
  {
   "cell_type": "code",
   "execution_count": 11,
   "metadata": {
    "collapsed": false
   },
   "outputs": [
    {
     "name": "stdout",
     "output_type": "stream",
     "text": [
      "[[-5 -4  0]\n",
      " [ 5  5  5]\n",
      " [ 9  6  8]]\n",
      "[[-5.   0.5  4.5]\n",
      " [ 0.5  5.   5.5]\n",
      " [ 4.5  5.5  8. ]]\n",
      "[[ 0.  -4.5 -4.5]\n",
      " [ 4.5  0.  -0.5]\n",
      " [ 4.5  0.5  0. ]]\n"
     ]
    }
   ],
   "source": [
    "import numpy as np  \n",
    "from scipy import math\n",
    "\n",
    "#random 3x3 matrix filled with random integers between -9 and 9\n",
    "B= np.random.random_integers(-9,9,(3,3)) \n",
    "#a symmetric matrix\n",
    "S=1./2.*(B+B.T)\n",
    "#an antisymmetric matrix\n",
    "A=1./2.*(B-B.T)\n",
    "#print all them\n",
    "print B\n",
    "print S\n",
    "print A"
   ]
  },
  {
   "cell_type": "markdown",
   "metadata": {},
   "source": [
    "Coming back to the velcoity gradient tensor, we now apply the same decomposition and give names to the two tensors.\n",
    "\n",
    "$$\\nabla \\vb{u}=\\frac{1}{2} \\left( \\pad{u_i}{x_j}+\\pad{u_j}{x_i}\\right) + \\frac{1}{2} \\left( \\pad{u_i}{x_j}-\\pad{u_j}{x_i}\\right)=S_{ij} + \\frac{1}{2} R_{ij}$$\n",
    "\n",
    "where $S_{ij}$ is named the rate of shear tensor and $R_{ij}$ is the rotation tensor. For convenience at some later stage we define the rotation tension as twice the antisymmetric tensor.\n"
   ]
  },
  {
   "cell_type": "markdown",
   "metadata": {},
   "source": [
    "##Rate of Strain \n",
    "\n",
    "\n",
    "\n",
    "We can define the rate of strain in $x_1$-directoon as the rate of change of an infinitesimal length $\\delta x_1$. In mathematical language this can be written as\n",
    "\n",
    "$$\\frac{1}{\\delta x_1}\\fudm{}{t} \\frac{\\overline{A'B'}-\\overline{AB}}{\\overline{AB}}$$\n",
    "\n",
    "where the distance $\\overline{AB}$ is the initial length of the fluid particle and $\\overline{A'B'}$ afterwards. The unit of this quantity is [1/T].\n",
    "\n",
    "Now looking at above figure we can connect express the distances through the flow field variables and the time $dt$.\n",
    "\n",
    "\n",
    "<img src=\"files/pics/ffd_fig1.png\" width=300> <p>\n",
    "\n",
    "$$\\lim_{dt\\rightarrow 0}\\frac{1}{dt}\\frac{\\delta x_1 +\\left(u_1+\\pad{u_1}{x_1}\\delta x_1\\right) dt - u_1 dt}{\\delta x_1}=\\pad{u_1}{x_1}$$\n",
    "\n",
    "Only the gradient of the velocity component along the velocity direction contributes to the rate of strain of a fluid particle in that direction. Above analysis can be repeated to the strain in the other two directions with similar results. "
   ]
  },
  {
   "cell_type": "code",
   "execution_count": 13,
   "metadata": {
    "collapsed": false
   },
   "outputs": [
    {
     "data": {
      "text/html": [
       "<link href='http://fonts.googleapis.com/css?family=Fenix' rel='stylesheet' type='text/css'>\n",
       "<link href='http://fonts.googleapis.com/css?family=Alegreya+Sans:100,300,400,500,700,800,900,100italic,300italic,400italic,500italic,700italic,800italic,900italic' rel='stylesheet' type='text/css'>\n",
       "<link href='http://fonts.googleapis.com/css?family=Source+Code+Pro:300,400' rel='stylesheet' type='text/css'>\n",
       "<style>\n",
       "@font-face {\n",
       "font-family: \"Computer Modern\";\n",
       "src: url('http://mirrors.ctan.org/fonts/cm-unicode/fonts/otf/cmunss.otf');\n",
       "}\n",
       "div.cell{\n",
       "\twidth:800px;\n",
       "\tmargin-left:5% !important;\n",
       "\tmargin-right:auto;\n",
       "}\n",
       "div.YourWork{\n",
       "\tbackground-color: #FFCC66;\t\n",
       "}\n",
       "h1 {\n",
       "font-family: 'Alegreya Sans', sans-serif;\n",
       "}\n",
       "h2 {\n",
       "font-family: 'Fenix', serif;\n",
       "}\n",
       "h3{\n",
       "font-family: 'Fenix', serif;\n",
       "margin-top:12px;\n",
       "margin-bottom: 3px;\n",
       "}\n",
       "h4{\n",
       "font-family: 'Fenix', serif;\n",
       "}\n",
       "h5 {\n",
       "font-family: 'Alegreya Sans', sans-serif;\n",
       "}\n",
       "div.text_cell_render{\n",
       "font-family: 'Alegreya Sans',Computer Modern, \"Helvetica Neue\", Arial, Helvetica, Geneva, sans-serif;\n",
       "line-height: 135%;\n",
       "font-size: 120%;\n",
       "width:600px;\n",
       "margin-left:auto;\n",
       "margin-right:auto;\n",
       "}\n",
       ".CodeMirror{\n",
       "font-family: \"Source Code Pro\";\n",
       "font-size: 90%;\n",
       "}\n",
       ".rendered_html code{\n",
       "\tbackground-color: transparent;\t\n",
       "}\n",
       "/* .prompt{\n",
       "display: None;\n",
       "}*/\n",
       ".text_cell_render h1 {\n",
       "font-weight: 200;\n",
       "font-size: 50pt;\n",
       "line-height: 100%;\n",
       "color:#CD2305;\n",
       "margin-bottom: 0.5em;\n",
       "margin-top: 0.5em;\n",
       "display: block;\n",
       "}\n",
       ".text_cell_render h5 {\n",
       "font-weight: 300;\n",
       "font-size: 12pt;\n",
       "margin-bottom: 0.5em;\n",
       "margin-top: 0.5em;\n",
       "display: block;\n",
       "border-style: double;\n",
       "border-width: medium;\n",
       "border-color: black;\n",
       "background-color: #F0F0F0;\n",
       "text-align: center;\n",
       "}\n",
       ".warning{\n",
       "color: rgb( 240, 20, 20 )\n",
       "}\n",
       "</style>\n",
       "<script>\n",
       "MathJax.Hub.Config({\n",
       "TeX: {\n",
       "extensions: [\"AMSmath.js\"]\n",
       "},\n",
       "tex2jax: {\n",
       "inlineMath: [ ['$','$'], [\"\\\\(\",\"\\\\)\"] ],\n",
       "displayMath: [ ['$$','$$'], [\"\\\\[\",\"\\\\]\"] ]\n",
       "},\n",
       "displayAlign: 'center', // Change this to 'center' to center equations.\n",
       "\"HTML-CSS\": {\n",
       "styles: {'.MathJax_Display': {\"margin\": 4}}\n",
       "}\n",
       "});\n",
       "</script>"
      ],
      "text/plain": [
       "<IPython.core.display.HTML object>"
      ]
     },
     "execution_count": 13,
     "metadata": {},
     "output_type": "execute_result"
    }
   ],
   "source": [
    "from IPython.core.display import HTML\n",
    "def css_styling():\n",
    "    styles = open(\"styles/custom.css\", \"r\").read()\n",
    "    return HTML(styles)\n",
    "css_styling()\n"
   ]
  },
  {
   "cell_type": "code",
   "execution_count": null,
   "metadata": {
    "collapsed": false
   },
   "outputs": [],
   "source": []
  },
  {
   "cell_type": "code",
   "execution_count": null,
   "metadata": {
    "collapsed": true
   },
   "outputs": [],
   "source": []
  }
 ],
 "metadata": {
  "kernelspec": {
   "display_name": "Python 2",
   "language": "python",
   "name": "python2"
  },
  "language_info": {
   "codemirror_mode": {
    "name": "ipython",
    "version": 2
   },
   "file_extension": ".py",
   "mimetype": "text/x-python",
   "name": "python",
   "nbconvert_exporter": "python",
   "pygments_lexer": "ipython2",
   "version": "2.7.10"
  }
 },
 "nbformat": 4,
 "nbformat_minor": 0
}
