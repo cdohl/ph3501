{
 "cells": [
  {
   "cell_type": "markdown",
   "metadata": {},
   "source": [
    "$$\n",
    "\\newcommand{\\fudm}[2]{\\frac{\\mathrm{D} #1}{\\mathrm{D} #2}}\n",
    "\\newcommand{\\pad}[2]{\\frac{\\partial #1}{\\partial #2}}\n",
    "\\newcommand{\\ppad}[2]{\\frac{\\partial^2 #1}{\\partial #2^2}}\n",
    "\\newcommand{\\ppadd}[3]{\\frac{\\partial^2 #1}{\\partial #2 \\partial #3}}\n",
    "\\newcommand{\\nnabla}{\\nabla^2}\n",
    "\\newcommand{\\eps}{\\epsilon}\n",
    "\\newcommand{\\vdetail}[1]{\\vb{#1}=\\begin{pmatrix}#1_1\\\\#1_2\\\\#1_3\\end{pmatrix}}\n",
    "\\newcommand{\\vb}[1]{\\mathbf{#1}}\n",
    "\\newcommand{\\va}[1]{\\vec{#1}}\n",
    "\\newcommand{\\tb}[1]{\\underline{\\underline{\\mathbf{#1}}}}\n",
    "\\newcommand{\\fud}[2]{\\frac{\\mathrm{d} #1}{\\mathrm{d} #2}}\n",
    "$$"
   ]
  },
  {
   "cell_type": "markdown",
   "metadata": {},
   "source": [
    "# Sessile Drop\n",
    "\n",
    "We want to compute the shape of a drop sitting on top of a plate. The problem is 2d. The drop has an area of A_D and a contact angle $\\alpha$.\n",
    "\n",
    "<div class=\"Figure\">\n",
    "<a name=\"fig1\"></a><img src=\"pics/sessile drop.png\" width=250> <p>\n",
    "Figure 1:\n",
    "</div>\n",
    "\n",
    "We parameterize the drop by using the angle to the horizontal $\\Psi$, where $\\Psi=0$ is at the apex of the drop and $\\Psi=\\alpha$ is at its base. Thus the drop shape is given by the two funxtions\n",
    "\n",
    "\\begin{eqnarray}\n",
    "x=X(\\Psi)\\tag{1}\\\\\n",
    "y=Y(\\Psi)\n",
    "\\end{eqnarray}\n",
    "\n",
    "with $0\\le\\Psi\\le \\alpha$. Using the specific coordinate system $(x,y)$ as shown in [Fig.1](#fig1) we can relate angle $\\Psi$ with $X$ and $Y$ as\n",
    "\n",
    "$$\\cot \\Psi=-\\fud{X(\\Psi)}{Y(\\Psi)}\\tag{2}$$\n",
    "\n",
    "The Laplace Young law relates the curvature (which is function of $\\Psi$) with the spatial coordinate in a gravity field.\n",
    "\n",
    "$$\\kappa=-\\frac{X}{l^2} + B\\quad ,\\tag{3}$$\n",
    "\n",
    "where $l$ is the capillary length. To relate Eq. (2) with $\\Psi$ and then eventually with $X$ and $Y$ we need to use the definition of the curvature for function in 2d.\n",
    "\n",
    "$$\\kappa=\\frac{1}{f'}\\left(\\frac{1}{\\sqrt{1+(f')^2}}\\right)'\\quad,\\tag{4}$$\n",
    "\n",
    "where $f'$ stands for $df/dx$ and $'$ for $d/dx$. It is clear that\n",
    "\n",
    "$$f'=\\fud{Y}{X}=-\\cot \\Psi\\tag{5}$$\n",
    "\n",
    "If we insert Eq. (5) into the definition for the curvature, Eq. (4), we obtain \n",
    "\n",
    "$$\\kappa=-\\frac{1}{\\cot \\Psi} \\fud{}{X}\\left( \\frac{1}{\\sqrt{1+\\cot^2\\Psi}}\\right)=\n",
    "-\\frac{1}{\\cot \\Psi} \\fud{}{X} \\left(\\sin\\Psi\\right)=-\\frac{1}{\\cot \\Psi} \\cos \\Psi \\fud{\\Psi}{X}\\tag{6}\\quad.$$\n",
    "\n",
    "Thus \n",
    "\n",
    "$$\\kappa=-\\sin \\Psi \\fud{\\Psi}{X}\\tag{7}$$\n",
    "\n",
    "which we combine with Eq. (3) to obtain \n",
    "\n",
    "$$\\sin \\Psi \\fud{\\Psi}{X}= \\frac{\\kappa}{l^2} - B\\tag{8}$$\n",
    "\n",
    "and solve for \n",
    "\n",
    "$$\\fud{X}{\\Psi}=\\frac{\\sin \\Psi}{Q}\\tag{9}$$ \n",
    "\n",
    "with \n",
    "\n",
    "$$Q=\\frac{X}{l^2}-B\\tag{10}$$\n",
    "\n",
    "Equation (9) is an ordinary differential equation for the x-coordinate of the droplet shape. For the y-coordinate we can formulate a similar equation using Eq. (2) and the chain rule:\n",
    "\n",
    "$$\\cot \\Psi = -\\fud{Y}{X}=-\\fud{Y}{\\Psi}\\,\\fud{\\Psi}{X}\\tag{11}$$\n",
    "\n",
    "which results after inserting $d\\Psi/dX$ from Eq. (9) into Eq. (11) gives\n",
    "\n",
    "$$\\fud{Y}{\\Psi}=-\\frac{\\cos \\Psi}{Q}\\quad.\\tag{12}$$ \n",
    "\n",
    "This is our second ordinary differential equation (ODE). We need therefore 2 initial conditions. These are\n",
    "\n",
    "\\begin{eqnarray}\n",
    "X(0)&=&0\\tag{13a}\\\\\n",
    "Y(0)&=&0\\quad .\\tag{13b}\n",
    "\\end{eqnarray}\n",
    "\n",
    "But that is not enough, as we do not know the constant $B$. How do we obtain this? \n",
    "We still have the droplet area $A_D$ which is a function of $B$. In the program below, the set of two ODE's\n",
    "\n",
    "\\begin{eqnarray}\n",
    "\\fud{Y}{\\Psi}&=&-\\frac{\\cos \\Psi}{Q}\\quad.\\tag{14b}\\\\\n",
    "\\fud{X}{\\Psi}&=&\\frac{\\sin \\Psi}{Q}\\tag{14b}\\\\\n",
    "& & \\mathrm{with}\\quad X(\\Psi=0)=0 \\quad \\mathrm{and}\\quad Y(\\Psi=0)=0 \\quad .\n",
    "\\end{eqnarray}\n",
    "\n",
    "The constrain is\n",
    "\n",
    "$$A_D=\\int_0^d Y\\,dx\\quad.\\tag{15}$$\n",
    "\n",
    "with d being the height of the droplet. The height of the droplet is known as the difference between the maximum and the minimum $Y$ value. The minimum $Y$ value is obtained for $Y(\\Psi=\\alpha)$. Let's have a look at the program to see how the ODE is solved under the constrain Eq. (14).\n"
   ]
  },
  {
   "cell_type": "markdown",
   "metadata": {},
   "source": [
    "## Program to solve sessile droplet problem\n",
    "\n",
    "We start with the boilder plates, a few more as before as we need some utilities to solve the ODE (Eq. 14) and fullfill the contstrain (Eq. 15)."
   ]
  },
  {
   "cell_type": "code",
   "execution_count": 3,
   "metadata": {
    "collapsed": true
   },
   "outputs": [],
   "source": [
    "%matplotlib inline\n",
    "import matplotlib.pylab as plt #plotting\n",
    "import numpy as np #linspace and array\n",
    "from scipy.integrate import odeint #ODE integration\n",
    "from scipy.optimize import fmin #find minimum of a function using clever algorithms\n",
    "from math import * #mathematical functions"
   ]
  },
  {
   "cell_type": "markdown",
   "metadata": {},
   "source": [
    "Then we need to specify our variables:"
   ]
  },
  {
   "cell_type": "code",
   "execution_count": 4,
   "metadata": {
    "collapsed": false
   },
   "outputs": [],
   "source": [
    "rho=3e3    #density difference droplet and surrounding liquid\n",
    "gamma=0.07  #surface tension coefficient\n",
    "g=10.      #gravitational acceleration\n",
    "l=sqrt(gamma/g/rho) #capillary number\n",
    "\n",
    "AD=pi*(1e-3)**2/2. #area of the droplet\n",
    "alpha=.8*pi #contact angle\n",
    "#Psi we want to calculate\n",
    "psis = np.linspace(0., alpha, 100.) #List of psi's"
   ]
  },
  {
   "cell_type": "markdown",
   "metadata": {},
   "source": [
    "We can get obtain a first approximation of $B$ from Eq. (3). But what is the radius of a bubble with area ``AD`` and contact angle $\\alpha$. This is not too hard to calculate yourself, yet you may have a look at this [website](https://en.wikipedia.org/wiki/Circular_segment). The result is the following:"
   ]
  },
  {
   "cell_type": "code",
   "execution_count": 5,
   "metadata": {
    "collapsed": false
   },
   "outputs": [],
   "source": [
    "r=sqrt(AD/(alpha-0.5*sin(2*alpha))) #area of a cut circle with contact angle alpha"
   ]
  },
  {
   "cell_type": "markdown",
   "metadata": {},
   "source": [
    "Then we can set the initial $B$ variable. ``InitialB`` is the first $B$ and ``B`` is a global variable used for the constrain function ``findB()``."
   ]
  },
  {
   "cell_type": "code",
   "execution_count": 6,
   "metadata": {
    "collapsed": true
   },
   "outputs": [],
   "source": [
    "initialB=B=1/r\n",
    "\n",
    "#Initial value for X and Y\n",
    "yinit=np.array([0,0])"
   ]
  },
  {
   "cell_type": "markdown",
   "metadata": {},
   "source": [
    "The variable ``yinit`` is the initial condition for our ODE solver, see Eqs. (13a) and (13b).\n",
    "\n",
    "Next we need to define the ODE function to solve for; actually there are two functions to solve, Eqs. (14a) and (14b).\n",
    "The coding is rather straightforward, we return a ``np.array`` with the 1st element being $dX/d\\Psi$ and the second $dY/d\\Psi$. The function arguments are ``X=y[0]`` and ``Y=y[1]``, and the value of the parameter $\\Psi$."
   ]
  },
  {
   "cell_type": "code",
   "execution_count": 7,
   "metadata": {
    "collapsed": true
   },
   "outputs": [],
   "source": [
    "#ODE to integrate the droplet surface in X and Y direction as a function of psi\n",
    "def droplet_ode(y,psi):\n",
    "    Q=y[0]/(l**2)-B\n",
    "    dxdpsi=sin(psi)/Q\n",
    "    dydpsi=-cos(psi)/Q\n",
    "    return np.array([dxdpsi,dydpsi])"
   ]
  },
  {
   "cell_type": "markdown",
   "metadata": {},
   "source": [
    "Now we need to handle the constrain, namely that we have to find a $B$ values which gives us the correct area of the droplet $A_D$. This is done with a high level function which can find the minimum of a function and the implementation of the function. As we must find a minimum of the functuion we use as a cost function to be minimized the difference between the given area $A_D$ and the calculated area with the guessed $B$. Ok, let's start.\n",
    "The function to be minimized is named ``findB()`` and receives as argument a guess for the value as ``b``."
   ]
  },
  {
   "cell_type": "code",
   "execution_count": 8,
   "metadata": {
    "collapsed": true
   },
   "outputs": [],
   "source": [
    "#return value is the error between given and the calculated area\n",
    "def findB(b):\n",
    "    global B #Python assumes without global derective that B would be a local variable\n",
    "    B=b[0] #b is an array of size 1, but B a float\n",
    "    yy=odeint(droplet_ode,yinit,psis) #solve the ODE with initial values and for the psis\n",
    "    droparea=2*np.trapz(np.fabs(yy[:,1]),x=np.fabs(yy[:,0]))\n",
    "    return fabs(AD-droparea)"
   ]
  },
  {
   "cell_type": "markdown",
   "metadata": {},
   "source": [
    "Let's have a look at ``findB()`` function carefully. The first two lines do some magic (explain below and ignore for now). The the function ``odeint()``integrates the ODE named ``droplet_ode()`` starting with the initial values defined by ``yinit`` for all values of ``psis``. We have developed a simple solver for pathlines usinge the [Euler method](02a_Euler Method.ipynb). ``odeint()`` uses something similar yet more sophisticated (it is the ``LSODA`` solver from the Fortran written [ODEPACK](https://computation.llnl.gov/casc/odepack/) routines). \n",
    "\n",
    "With the solution in the array ``yy`` we calculate the area of the droplet, see Eq. (15). The integration is using the [trapezoidal rule](https://en.wikipedia.org/wiki/Trapezoidal_rule). ``np.fabs`` is needed to get positive areas from negative ``x`` values. \n",
    "\n",
    "The function returns the absolute of the difference between the given area ``AD`` and the calculates area ``droparea``. This approaches a minimum.\n",
    "\n",
    "The function ``findB()`` is called with different values of ``b`` which needs to be used in the ODE. To do so, we need to pass B to the function ``droplet_ode()`` this value. One way to do it (which is done here) is to use a global variable named capital ``B``. Any variable you use in a function is declared as a local variable in python, thus setting ``B=b`` would create a local variable in ``findB()`` but not change the global variable ``B``. To use the global variable we need to tell python to do so with the directive ``global B``. The third line in ``findB()`` passes ``b[0]`` to ``B``. The reason is that the function calling ``findB()`` uses an array for the argument even if the argument is a single float.\n",
    "\n",
    "The remaining part of the program is to call the minimum search function ``fmin()`` and plot the result. First we obtain the optimum ``newB`` by calling ``fmin`` with the function argument ``findB()`` and the guessed valued of $B$ being ``initialB``. Setting ``disp=0`` prevents output from the function during the search (try to switch it to 1 and see some info displayed). As a return value from ``fmin()`` we obtain the float value of the array (see above) and run again the ODE solver to obtain the correct ``x`` and ``y`` values of the droplet shape. "
   ]
  },
  {
   "cell_type": "code",
   "execution_count": 10,
   "metadata": {
    "collapsed": false
   },
   "outputs": [
    {
     "data": {
      "image/png": "[encoded data removed]",
      "text/plain": [
       "<matplotlib.figure.Figure at 0x10da40350>"
      ]
     },
     "metadata": {},
     "output_type": "display_data"
    }
   ],
   "source": [
    "newB = fmin(func=findB, x0=initialB,disp=0)\n",
    "\n",
    "B=newB[0]\n",
    "yy=odeint(droplet_ode,yinit,psis)\n",
    "x=yy[:,0]\n",
    "y=yy[:,1]\n",
    "plt.plot(y,x-x[-1],'k',-y,x-x[-1],'k') #plot left and right side of the droplet\n",
    "plt.axis('equal'); #keep aspect ratio between axis"
   ]
  },
  {
   "cell_type": "markdown",
   "metadata": {},
   "source": [
    "The whole progam in one piece is available [here](12a_Sessile Droplet Code.ipynb)."
   ]
  },
  {
   "cell_type": "code",
   "execution_count": 11,
   "metadata": {
    "collapsed": false
   },
   "outputs": [
    {
     "data": {
      "text/html": [
       "<link href='http://fonts.googleapis.com/css?family=Fenix' rel='stylesheet' type='text/css'>\n",
       "<link href='http://fonts.googleapis.com/css?family=Alegreya+Sans:100,300,400,500,700,800,900,100italic,300italic,400italic,500italic,700italic,800italic,900italic' rel='stylesheet' type='text/css'>\n",
       "<link href='http://fonts.googleapis.com/css?family=Source+Code+Pro:300,400' rel='stylesheet' type='text/css'>\n",
       "<style>\n",
       "@font-face {\n",
       "font-family: \"Computer Modern\";\n",
       "src: url('http://mirrors.ctan.org/fonts/cm-unicode/fonts/otf/cmunss.otf');\n",
       "}\n",
       "div.cell{\n",
       "\twidth:800px;\n",
       "\tmargin-left:5% !important;\n",
       "\tmargin-right:auto;\n",
       "}\n",
       "div.YourWork{\n",
       "\tbackground-color: #FFCC66;\n",
       "}\n",
       "div.Detail{\n",
       "\tbackground-color: #DDEEDD;\n",
       "\tfont-size: 80%;\n",
       "\tborder: 1px solid black;\n",
       "\tpadding: 10px;\t\t\n",
       "}\n",
       "div.Figure{\n",
       "\tborder: 1px solid black;\n",
       "\tpadding: 10px;\n",
       "\ttext-align: center;\n",
       "\tmargin: 30px;\n",
       "}\n",
       "h1 {\n",
       "font-family: 'Alegreya Sans', sans-serif;\n",
       "}\n",
       "h2 {\n",
       "font-family: 'Fenix', serif;\n",
       "}\n",
       "h3{\n",
       "font-family: 'Fenix', serif;\n",
       "margin-top:12px;\n",
       "margin-bottom: 3px;\n",
       "}\n",
       "h4{\n",
       "font-family: 'Fenix', serif;\n",
       "}\n",
       "h5 {\n",
       "font-family: 'Alegreya Sans', sans-serif;\n",
       "}\n",
       "div.text_cell_render{\n",
       "font-family: 'Alegreya Sans',Computer Modern, \"Helvetica Neue\", Arial, Helvetica, Geneva, sans-serif;\n",
       "line-height: 135%;\n",
       "font-size: 120%;\n",
       "width:600px;\n",
       "margin-left:auto;\n",
       "margin-right:auto;\n",
       "}\n",
       ".CodeMirror{\n",
       "font-family: \"Source Code Pro\";\n",
       "font-size: 90%;\n",
       "}\n",
       ".rendered_html code{\n",
       "\tbackground-color: transparent;\t\n",
       "}\n",
       "/* .prompt{\n",
       "display: None;\n",
       "}*/\n",
       ".text_cell_render h1 {\n",
       "font-weight: 120;\n",
       "font-size: 30pt;\n",
       "line-height: 100%;\n",
       "color:#CD2305;\n",
       "margin-bottom: 0.5em;\n",
       "margin-top: 0.5em;\n",
       "display: block;\n",
       "}\n",
       ".text_cell_render h5 {\n",
       "font-weight: 300;\n",
       "font-size: 12pt;\n",
       "margin-bottom: 0.5em;\n",
       "margin-top: 0.5em;\n",
       "display: block;\n",
       "border-style: double;\n",
       "border-width: medium;\n",
       "border-color: black;\n",
       "background-color: #F0F0F0;\n",
       "text-align: center;\n",
       "}\n",
       ".warning{\n",
       "color: rgb( 240, 20, 20 )\n",
       "}\n",
       "</style>\n",
       "<script>\n",
       "MathJax.Hub.Config({\n",
       "TeX: {\n",
       "extensions: [\"AMSmath.js\"]\n",
       "},\n",
       "tex2jax: {\n",
       "inlineMath: [ ['$','$'], [\"\\\\(\",\"\\\\)\"] ],\n",
       "displayMath: [ ['$$','$$'], [\"\\\\[\",\"\\\\]\"] ]\n",
       "},\n",
       "displayAlign: 'center', // Change this to 'center' to center equations.\n",
       "\"HTML-CSS\": {\n",
       "styles: {'.MathJax_Display': {\"margin\": 4}}\n",
       "}\n",
       "});\n",
       "</script>"
      ],
      "text/plain": [
       "<IPython.core.display.HTML object>"
      ]
     },
     "execution_count": 11,
     "metadata": {},
     "output_type": "execute_result"
    }
   ],
   "source": [
    "from IPython.core.display import HTML\n",
    "def css_styling():\n",
    "    styles = open(\"styles/custom2.css\", \"r\").read()\n",
    "    return HTML(styles)\n",
    "css_styling()"
   ]
  },
  {
   "cell_type": "code",
   "execution_count": null,
   "metadata": {
    "collapsed": true
   },
   "outputs": [],
   "source": []
  }
 ],
 "metadata": {
  "kernelspec": {
   "display_name": "Python 2",
   "language": "python",
   "name": "python2"
  },
  "language_info": {
   "codemirror_mode": {
    "name": "ipython",
    "version": 2
   },
   "file_extension": ".py",
   "mimetype": "text/x-python",
   "name": "python",
   "nbconvert_exporter": "python",
   "pygments_lexer": "ipython2",
   "version": "2.7.12"
  }
 },
 "nbformat": 4,
 "nbformat_minor": 0
}
