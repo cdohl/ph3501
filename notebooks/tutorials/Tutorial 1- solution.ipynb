{
 "cells": [
  {
   "cell_type": "markdown",
   "metadata": {},
   "source": [
    "$$\n",
    "\\newcommand{\\fudm}[2]{\\frac{\\mathrm{D} #1}{\\mathrm{D} #2}}\n",
    "\\newcommand{\\pad}[2]{\\frac{\\partial #1}{\\partial #2}}\n",
    "\\newcommand{\\ppad}[2]{\\frac{\\partial^2 #1}{\\partial #2^2}}\n",
    "\\newcommand{\\ppadd}[3]{\\frac{\\partial^2 #1}{\\partial #2 \\partial #3}}\n",
    "\\newcommand{\\nnabla}{\\nabla^2}\n",
    "\\newcommand{\\eps}{\\epsilon}\n",
    "\\newcommand{\\vdetail}[1]{\\vb{#1}=\\begin{pmatrix}#1_1\\\\#1_2\\\\#1_3\\end{pmatrix}}\n",
    "\\newcommand{\\vb}[1]{\\mathbf{#1}}\n",
    "\\newcommand{\\va}[1]{\\vec{#1}}\n",
    "\\newcommand{\\tb}[1]{\\underline{\\underline{\\mathbf{#1}}}}\n",
    "\\newcommand{\\fud}[2]{\\frac{\\mathrm{d} #1}{\\mathrm{d} #2}}\n",
    "$$"
   ]
  },
  {
   "cell_type": "markdown",
   "metadata": {},
   "source": [
    "# Tutorial 1"
   ]
  },
  {
   "cell_type": "markdown",
   "metadata": {},
   "source": [
    "## 1- Molecular dynamics (MD) simulations"
   ]
  },
  {
   "cell_type": "markdown",
   "metadata": {},
   "source": [
    "### A - Gas state \n",
    "\n",
    "- Gases assume the shape and volume of the container\n",
    "- Gases flow easily\n",
    "- Gases are easily compressible\n",
    "\n",
    "#### Real gas state \n",
    "\n",
    "\n",
    "- Particles are well separated with no regular arrangement\n",
    "- Particles vibrate and move freely at high speeds\n",
    "\n",
    "<img src=\"https://entuedu-my.sharepoint.com/personal/julien001_e_ntu_edu_sg/_layouts/15/guestaccess.aspx?guestaccesstoken=H3DdiPU1LggB3X6%2b16vn22%2bp0DHynKT7zzzllh7qWog%3d&docid=0cc6c9e082360496a9ed0d85fad3838e4&rev=1\" width=800> \n",
    " \n",
    "\n",
    "#### Perfect gas state \n",
    "\n",
    "- Particles do not interract with each other\n",
    "\n",
    "\n",
    "<img src=\"https://entuedu-my.sharepoint.com/personal/julien001_e_ntu_edu_sg/_layouts/15/guestaccess.aspx?guestaccesstoken=ODY605whsSiFq5QaQsjj660kvhJmneRlknZwBppVskw%3d&docid=05e46dd4b0f574ad59af53f887c884d89&rev=1\" width=800>  "
   ]
  },
  {
   "cell_type": "markdown",
   "metadata": {
    "collapsed": true
   },
   "source": [
    "### B - Liquid state \n",
    "\n",
    "- Liquids assume the shape of the part of the container which they occupy\n",
    "- Liquids flow easily\n",
    "- Liquids are weakly compressible\n",
    "\n",
    "- Particles are closed together with no regular arrangement, this is a condensed phase\n",
    "- Particles vibrate, move about, and slide past each other\n",
    "\n",
    "<img src=\"https://entuedu-my.sharepoint.com/personal/julien001_e_ntu_edu_sg/_layouts/15/guestaccess.aspx?guestaccesstoken=VuWGicpmhyNeauocw41SFrT8vD7cMlxVw%2bVLQCUddzQ%3d&docid=08520f3c4e62f4972902839567c61d74a&rev=1\" width=800> \n",
    " \n",
    "\n",
    "#### Liquid + gas \n",
    "\n",
    "- Gas particles may be present around the liquid\n",
    "\n",
    "\n",
    "<img src=\"https://entuedu-my.sharepoint.com/personal/julien001_e_ntu_edu_sg/_layouts/15/guestaccess.aspx?guestaccesstoken=G19x5RNnnkG%2ftAycUuNU5JGy3neAHRUQT88YGlMc9ko%3d&docid=026d6df6ff6984ac3bb7accd184ffad64&rev=1\" width=800>  "
   ]
  },
  {
   "cell_type": "markdown",
   "metadata": {},
   "source": [
    "### C - Solid state \n",
    "\n",
    "- Solids have a fixed volume and shape\n",
    "- Solids do not flow easily\n",
    "- Solids are weakly compressible\n",
    "\n",
    "- Particles are tightly packed, often with regular pattern, this is a condensed phase\n",
    "- Particles vibrate, but generally do not move from place to place\n",
    "\n",
    "<img src=\"https://entuedu-my.sharepoint.com/personal/julien001_e_ntu_edu_sg/_layouts/15/guestaccess.aspx?guestaccesstoken=iLwZV76na%2f13IxKAVLyZh2hsC6vqexzUV0DpBA%2f2LO0%3d&docid=0b7832988ff6d450b817a12876c91f843&rev=1\" width=800> \n",
    " \n",
    "\n",
    "#### Solid + gas \n",
    "\n",
    "- Gas particles may be present around the solid\n",
    "\n",
    "\n",
    "<img src=\"https://entuedu-my.sharepoint.com/personal/julien001_e_ntu_edu_sg/_layouts/15/guestaccess.aspx?guestaccesstoken=auLaL%2bylJUgV6pxH6vl5d1dXKbZqOcMHQf%2f4VlCoDzU%3d&docid=06334511c6a134430a21991ac4cd1315d&rev=1\" width=800>  "
   ]
  },
  {
   "cell_type": "markdown",
   "metadata": {},
   "source": [
    "### D - Critical point\n",
    "\n",
    "The 3 states of matter exist together \n",
    "\n",
    "<img src=\"https://entuedu-my.sharepoint.com/personal/julien001_e_ntu_edu_sg/_layouts/15/guestaccess.aspx?guestaccesstoken=tV3v1%2f2XbbMrkMyS%2be%2flFWeoCulKYuqODLN1VaqWENo%3d&docid=006cf5c9fc314491fb872b4c3a8a16a45&rev=1\" width=800> \n"
   ]
  },
  {
   "cell_type": "markdown",
   "metadata": {},
   "source": [
    "## 2- Familiarization with Jupyter"
   ]
  },
  {
   "cell_type": "markdown",
   "metadata": {},
   "source": [
    "### A - Circle of radius 5"
   ]
  },
  {
   "cell_type": "code",
   "execution_count": 4,
   "metadata": {
    "collapsed": false
   },
   "outputs": [
    {
     "data": {
      "image/png": "[encoded data removed]",
      "text/plain": [
       "<matplotlib.figure.Figure at 0x3d24cc0>"
      ]
     },
     "metadata": {},
     "output_type": "display_data"
    }
   ],
   "source": [
    "# These are boilerplate, needed to tell python and Jupyter to do the right things\n",
    "# plot directly into the notebook\n",
    "%matplotlib inline \n",
    "import numpy as np #numerical package which offers matrix style algebra similar to Matlab\n",
    "import matplotlib.pylab as plt #plot library\n",
    "\n",
    "\n",
    "# Plot an circle\n",
    "an = np.linspace(0, 2*np.pi, 100) #an goes from 0 to 2*pi with 100 values\n",
    "plt.plot(5*np.cos(an), 5*np.sin(an)) #first argument of the plot function is x, second y\n",
    "plt.axis('equal') #plot the axis with equal aspect ratio \n",
    "plt.xlabel('x')\n",
    "plt.ylabel('y')\n",
    "plt.title('Circle');"
   ]
  },
  {
   "cell_type": "markdown",
   "metadata": {},
   "source": [
    "### B - Hydrostatic pressure profile\n",
    "\n",
    "Hint: Pressure = (density of liquid) * (acceleration gravity) * (height)\n",
    "\n",
    "$        Pa = (kg.m^{-3}) * (m.s^{-2}) * m = N.m^{-2} $"
   ]
  },
  {
   "cell_type": "code",
   "execution_count": 5,
   "metadata": {
    "collapsed": false
   },
   "outputs": [
    {
     "data": {
      "image/png": "[encoded data removed]",
      "text/plain": [
       "<matplotlib.figure.Figure at 0x80ede10>"
      ]
     },
     "metadata": {},
     "output_type": "display_data"
    }
   ],
   "source": [
    "rho = 1000 # water density\n",
    "g = 9.81 # acceleration of gravity\n",
    "h = np.linspace(0, 10, 100) # depth goes from surface to 10 m with 100 values\n",
    "P = rho * g * h # calculate the pressure\n",
    "\n",
    "plt.figure(figsize=(10,5))# define the size of the figure\n",
    "plt.plot(h, P) #first argument of the plot function is x, second y\n",
    "plt.xlabel('Depth (m)') # xlabel\n",
    "plt.ylabel('Pressure (Pa) ') # ylabel\n",
    "plt.ticklabel_format(style='sci', axis='y', scilimits=(0,0)) # format ylabel \n",
    "plt.title('Hydrostatic Pressure between surface and 10m depth');"
   ]
  },
  {
   "cell_type": "markdown",
   "metadata": {},
   "source": [
    "## 3 - Einstein summation convention"
   ]
  },
  {
   "cell_type": "markdown",
   "metadata": {},
   "source": [
    "$$\\va{a}=\\vb{a}=\\left(\n",
    "\\begin{array}{c}\n",
    "a_1\\\\\n",
    "a_2\\\\\n",
    "a_3\n",
    "\\end{array}\\right)=(a_1,a_2,a_3)^T  \\quad ; \\quad    \n",
    "\\tb{A}=A_{ij}=\\left(\n",
    "\\begin{array}{ccc}\n",
    "A_{11}&A_{12}&A_{13}\\\\\n",
    "A_{21}&A_{22}&A_{23}\\\\\n",
    "A_{31}&A_{32}&A_{33}\n",
    "\\end{array}\\right)$$"
   ]
  },
  {
   "cell_type": "markdown",
   "metadata": {},
   "source": [
    "### Using convention"
   ]
  },
  {
   "cell_type": "markdown",
   "metadata": {},
   "source": [
    "$$\\vb{a}^T \\tb{A} = \\sum_{i=1}^3 a^T_i A_{ij} := a^T_i A_{ij} $$"
   ]
  },
  {
   "cell_type": "markdown",
   "metadata": {},
   "source": [
    "$$ \\tb{A} \\vb{a} = \\sum_{j=1}^3 A_{ij} a_j := A_{ij} a_j $$"
   ]
  },
  {
   "cell_type": "markdown",
   "metadata": {},
   "source": [
    "### Matrix multiplication"
   ]
  },
  {
   "cell_type": "markdown",
   "metadata": {},
   "source": [
    "$$\\vb{a}^T \\tb{A} = \\left(a_1,a_2,a_3\\right)\\,\n",
    "\\left(\\begin{array}{ccc}\n",
    "A_{11}&A_{12}&A_{13}\\\\\n",
    "A_{21}&A_{22}&A_{23}\\\\\n",
    "A_{31}&A_{32}&A_{33}\n",
    "\\end{array}\\right)=\\left(\n",
    "\\begin{array}{c}\n",
    "a_1 A_{11} + a_1 A_{21} + a_1 A_{31}\\\\\n",
    "a_2 A_{12} + a_2 A_{22} + a_2 A_{32}\\\\\n",
    "a_3 A_{13} + a_3 A_{23} + a_3 A_{33}\\\\\n",
    "\\end{array}\n",
    "\\right)^T$$\n",
    "$$\\\\\n",
    "\\\\$$\n",
    "$$ \\tb{A} \\vb{a}= \n",
    "\\left(\\begin{array}{ccc}\n",
    "A_{11}&A_{12}&A_{13}\\\\\n",
    "A_{21}&A_{22}&A_{23}\\\\\n",
    "A_{31}&A_{32}&A_{33}\n",
    "\\end{array}\\right)\n",
    "\\left(\\begin{array}{c}\n",
    "a_1\\\\a_2\\\\a_3\n",
    "\\end{array}\\right)\n",
    "=\\left(\n",
    "\\begin{array}{c}\n",
    "a_1 A_{11} + a_2 A_{12} + a_3 A_{13}\\\\\n",
    "a_1 A_{21} + a_2 A_{22} + a_3 A_{23}\\\\\n",
    "a_1 A_{31} + a_2 A_{32} + a_3 A_{33}\\\\\n",
    "\\end{array}\n",
    "\\right)$$"
   ]
  },
  {
   "cell_type": "markdown",
   "metadata": {},
   "source": [
    "## Flow visualization"
   ]
  },
  {
   "cell_type": "code",
   "execution_count": 6,
   "metadata": {
    "collapsed": false
   },
   "outputs": [
    {
     "data": {
      "image/jpeg": "[encoded data removed]",
      "text/html": [
       "\n",
       "        <iframe\n",
       "            width=\"400\"\n",
       "            height=\"300\"\n",
       "            src=\"https://www.youtube.com/embed/nuQyKGuXJOs\"\n",
       "            frameborder=\"0\"\n",
       "            allowfullscreen\n",
       "        ></iframe>\n",
       "        "
      ],
      "text/plain": [
       "<IPython.lib.display.YouTubeVideo at 0x732d400>"
      ]
     },
     "execution_count": 6,
     "metadata": {},
     "output_type": "execute_result"
    }
   ],
   "source": [
    "from IPython.display import YouTubeVideo\n",
    "YouTubeVideo('nuQyKGuXJOs')\n",
    "\n",
    "#3:15 - 5:25 : pathline, streakline, and timeline\n",
    "\n",
    "#8:34 - 13:15 : comparison of pathline, streakline, and streamline in unsteady flow"
   ]
  },
  {
   "cell_type": "code",
   "execution_count": null,
   "metadata": {
    "collapsed": true
   },
   "outputs": [],
   "source": []
  }
 ],
 "metadata": {
  "anaconda-cloud": {},
  "kernelspec": {
   "display_name": "Python 2",
   "language": "python",
   "name": "python2"
  },
  "language_info": {
   "codemirror_mode": {
    "name": "ipython",
    "version": 2
   },
   "file_extension": ".py",
   "mimetype": "text/x-python",
   "name": "python",
   "nbconvert_exporter": "python",
   "pygments_lexer": "ipython2",
   "version": "2.7.12"
  }
 },
 "nbformat": 4,
 "nbformat_minor": 0
}
