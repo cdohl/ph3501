{
 "cells": [
  {
   "cell_type": "markdown",
   "metadata": {
    "donotlatex": true,
    "hide_input": true
   },
   "source": [
    "$$\n",
    "\\newcommand{\\fudm}[2]{\\frac{\\mathrm{D} #1}{\\mathrm{D} #2}}\n",
    "\\newcommand{\\pad}[2]{\\frac{\\partial #1}{\\partial #2}}\n",
    "\\newcommand{\\ppad}[2]{\\frac{\\partial^2 #1}{\\partial #2^2}}\n",
    "\\newcommand{\\ppadd}[3]{\\frac{\\partial^2 #1}{\\partial #2 \\partial #3}}\n",
    "\\newcommand{\\nnabla}{\\nabla^2}\n",
    "\\newcommand{\\eps}{\\epsilon}\n",
    "\\newcommand{\\vdetail}[1]{\\vb{#1}=\\begin{pmatrix}#1_1\\\\#1_2\\\\#1_3\\end{pmatrix}}\n",
    "\\newcommand{\\vb}[1]{\\mathbf{#1}}\n",
    "\\newcommand{\\va}[1]{\\vec{#1}}\n",
    "\\newcommand{\\tb}[1]{\\underline{\\underline{\\mathbf{#1}}}}\n",
    "\\newcommand{\\fud}[2]{\\frac{\\mathrm{d} #1}{\\mathrm{d} #2}}\n",
    "$$"
   ]
  },
  {
   "cell_type": "markdown",
   "metadata": {},
   "source": [
    "# Euler Method for Pathline Calculations\n",
    "\n",
    "In the previous lecture we showed how to solve analyticaly for the pathline from a given velocity field $\\vb{u}(\\vb{x},t)$. There we have to solve the ordinary differential equation (ODE)\n",
    "\n",
    "$$\\fud{\\vb{X}}{t}=\\vb{u}(\\vb{x},t)\\tag{1}$$.\n",
    "\n",
    "This may be possible for some simple flow fields, for flow fields which are obtained experimentally or which are more complex (speak non-linear) we are left with an approximate solution of the ODE.\n",
    "\n",
    "In this chapter we'll have a look into a numerical method to calculate the pathline using the Euler Method. It is based on the idea that differential can be approximated by a finite difference, i.e.\n",
    "\n",
    "$$\\fud{\\vb{X}}{t}=\\lim_{\\Delta t\\rightarrow 0}\\frac{\\vb{X}(t+\\Delta t)-\\vb{X}(t)}{\\Delta t}\\tag{2}$$.\n",
    "\n",
    "$$\\fud{\\vb{X}}{t}\\simeq\\frac{\\vb{X}(t+\\Delta t)-\\vb{X}(t)}{\\Delta t}=\\fud{\\vb{X}}{t}+O(\\Delta t)\\tag{3}$$\n",
    "\n",
    "The very right hand side of above equation states that we make at maximum an error of order $\\Delta t$ by introducing the finite difference approximation. This fact can be derived using a Taylor series approximation.\n",
    "\n",
    "The Euler method utilizes the observation of Euler that for small enough time steps $\\Delta t$ the differential equation can be approximated by the finite difference. Although we do not obtain the exact solution, we may be sufficiently close to it if the time step is sufficiently small (we keep it here with the vague formulation).\n",
    "\n",
    "We can now write one forward time step in components\n",
    "\n",
    "\\begin{eqnarray}\n",
    "X_1(t+\\Delta t) & =& X_1(t)+\\Delta t \\, u_1(X_1(t),X_2(t),X_3(t),t)\\\\\n",
    "X_2(t+\\Delta t) & =& X_2(t)+\\Delta t \\, u_2(X_1(t),X_2(t),X_3(t),t)\\\\\n",
    "X_3(t+\\Delta t) & =& X_3(t)+\\Delta t \\, u_3(X_1(t),X_2(t),X_3(t),t)\n",
    "\\end{eqnarray}\n",
    "\n"
   ]
  },
  {
   "cell_type": "markdown",
   "metadata": {},
   "source": [
    "Before we start with implementing the Euler method we need to provide a function which returns the velocity at the position $\\vb{x}$. We define this function <code>velocity(x1,x2,t)</code> below.\n",
    "\n",
    "The velocity field we want to plot is\n",
    "\n",
    "\\begin{eqnarray}\n",
    "u_1 & = & g x_1 - \\omega x_2 \\\\\n",
    "u_2 & = & -g x_1 + \\omega x_2 \n",
    "\\end{eqnarray}\n",
    "\n",
    "where $g$ and $\\omega$ are constants. "
   ]
  },
  {
   "cell_type": "code",
   "execution_count": 1,
   "metadata": {
    "collapsed": false
   },
   "outputs": [],
   "source": [
    "#standard boilerplate for Python\n",
    "%matplotlib inline \n",
    "import numpy as np\n",
    "import matplotlib.pylab as plt\n",
    "import math\n",
    "\n",
    "#This is our velocity function\n",
    "def velocity(x1, x2, t):\n",
    "    omega = 1\n",
    "    g = 0.5\n",
    "    u1 = g*x1-omega*x2\n",
    "    u2 = -g*x2+omega*x1\n",
    "\n",
    "    return u1, u2"
   ]
  },
  {
   "cell_type": "markdown",
   "metadata": {},
   "source": [
    "Now we put the Euler Method to work:"
   ]
  },
  {
   "cell_type": "code",
   "execution_count": 8,
   "metadata": {
    "collapsed": false
   },
   "outputs": [
    {
     "data": {
      "image/png": "[encoded data removed]",
      "text/plain": [
       "<matplotlib.figure.Figure at 0x10d6e4950>"
      ]
     },
     "metadata": {},
     "output_type": "display_data"
    }
   ],
   "source": [
    "nt = 1000 #number of steps\n",
    "deltat = 0.02 #step size\n",
    "\n",
    "x10 = 0.1 #initial position \n",
    "x20 = 0.1\n",
    "x1 = np.zeros(nt) #thats where we store the result\n",
    "x2 = np.zeros(nt)\n",
    "x1[0] = x10  #insert the initial conditions\n",
    "x2[0] = x20\n",
    "\n",
    "for n in range(nt-1):\n",
    "    t = deltat*n\n",
    "    u1, u2 = velocity(x1[n],x2[n],t) #get velocity at that position \n",
    "\n",
    "    #This is the Euler step\n",
    "    x1[n+1] = x1[n]+deltat*u1 #update the position\n",
    "    x2[n+1] = x2[n]+deltat*u2\n",
    "\n",
    "plt.plot(x1,x2);\n",
    "plt.xlabel('$x_1$'),plt.ylabel('$x_2$');\n"
   ]
  },
  {
   "cell_type": "markdown",
   "metadata": {},
   "source": [
    "The flow field should return closed pathlines, you can check by reducing the time steps that better approximations are achieved."
   ]
  },
  {
   "cell_type": "markdown",
   "metadata": {},
   "source": [
    "The Euler method assumes that the velocity is not changing during the step, yet the velocity is a continous function of space and time. Therefore the step size needs to be small, to keep also the these changes in the velocity field small. We can now improve the Euler method, by using not the velocity of the initial point in space $\\vb{x}(t)$, but by using the average of the velocity at point $\\vb{x}(t+\\Delta t)$. Thus we make a step with \n",
    "\n",
    "$$\\vb{x}(t+\\Delta t)=\\vb{x}(t)+\\Delta t\\,\\vb{u}_{avg}\\tag{9}$$\n",
    "\n",
    "where the average velocity is\n",
    "\n",
    "$$\\vb{u}_{avg}=\\frac{1}{2}\\left(\\vb{u}(\\vb{x},t)+\\vb{u}(\\vb{x},t+\\Delta t)\\right).\\tag{10}$$\n"
   ]
  },
  {
   "cell_type": "code",
   "execution_count": 3,
   "metadata": {
    "collapsed": false
   },
   "outputs": [
    {
     "data": {
      "image/png": "[encoded data removed]",
      "text/plain": [
       "<matplotlib.figure.Figure at 0x10ce05dd0>"
      ]
     },
     "metadata": {},
     "output_type": "display_data"
    }
   ],
   "source": [
    "nt=1000 #number of steps\n",
    "deltat=0.02 #step size\n",
    "\n",
    "x10=0.1 #initial position \n",
    "x20=0.1\n",
    "x1=np.zeros(nt) #thats where we store the result\n",
    "x2=np.zeros(nt)\n",
    "x1[0]=x10  #instert the initial conditions\n",
    "x2[0]=x20\n",
    "\n",
    "for n in range(nt-1):\n",
    "    t=deltat*n\n",
    "    u1,u2=velocity(x1[n],x2[n],t) #get velocity at that position\n",
    "    \n",
    "    #what would be the velocity at the new position\n",
    "    x1_pred=x1[n]+deltat*u1 \n",
    "    x2_pred=x2[n]+deltat*u2\n",
    "    u1_pred,u2_pred=velocity(x1_pred,x2_pred,t) \n",
    "    \n",
    "    #a better approximation is the averaged velocity\n",
    "    u1_avg=.5*(u1+u1_pred)\n",
    "    u2_avg=.5*(u2+u2_pred)\n",
    "    \n",
    "    #Do the Euler step with the averaged velocity\n",
    "    x1[n+1]=x1[n]+deltat*u1_avg\n",
    "    x2[n+1]=x2[n]+deltat*u2_avg\n",
    "    \n",
    "    \n",
    "plt.plot(x1,x2);\n",
    "plt.xlabel('$x_1$'),plt.ylabel('$x_2$');\n"
   ]
  },
  {
   "cell_type": "markdown",
   "metadata": {},
   "source": [
    "Now we achieve closed path lines with the same time stepping but at the costs of one more Euler step per time step."
   ]
  },
  {
   "cell_type": "code",
   "execution_count": 4,
   "metadata": {
    "collapsed": false,
    "donotlatex": true,
    "hide_input": true
   },
   "outputs": [
    {
     "data": {
      "text/html": [
       "<link href='http://fonts.googleapis.com/css?family=Fenix' rel='stylesheet' type='text/css'>\n",
       "<link href='http://fonts.googleapis.com/css?family=Alegreya+Sans:100,300,400,500,700,800,900,100italic,300italic,400italic,500italic,700italic,800italic,900italic' rel='stylesheet' type='text/css'>\n",
       "<link href='http://fonts.googleapis.com/css?family=Source+Code+Pro:300,400' rel='stylesheet' type='text/css'>\n",
       "<style>\n",
       "@font-face {\n",
       "font-family: \"Computer Modern\";\n",
       "src: url('http://mirrors.ctan.org/fonts/cm-unicode/fonts/otf/cmunss.otf');\n",
       "}\n",
       "div.cell{\n",
       "\twidth:800px;\n",
       "\tmargin-left:5% !important;\n",
       "\tmargin-right:auto;\n",
       "}\n",
       "div.YourWork{\n",
       "\tbackground-color: #FFCC66;\n",
       "}\n",
       "div.Detail{\n",
       "\tbackground-color: #DDEEDD;\n",
       "\tfont-size: 80%;\n",
       "\tborder: 1px solid black;\n",
       "\tpadding: 10px;\t\t\n",
       "}\n",
       "div.Figure{\n",
       "\tborder: 1px solid black;\n",
       "\tpadding: 10px;\n",
       "\ttext-align: center;\n",
       "\tmargin: 30px;\n",
       "}\n",
       "h1 {\n",
       "font-family: 'Alegreya Sans', sans-serif;\n",
       "}\n",
       "h2 {\n",
       "font-family: 'Fenix', serif;\n",
       "}\n",
       "h3{\n",
       "font-family: 'Fenix', serif;\n",
       "margin-top:12px;\n",
       "margin-bottom: 3px;\n",
       "}\n",
       "h4{\n",
       "font-family: 'Fenix', serif;\n",
       "}\n",
       "h5 {\n",
       "font-family: 'Alegreya Sans', sans-serif;\n",
       "}\n",
       "div.text_cell_render{\n",
       "font-family: 'Alegreya Sans',Computer Modern, \"Helvetica Neue\", Arial, Helvetica, Geneva, sans-serif;\n",
       "line-height: 135%;\n",
       "font-size: 120%;\n",
       "width:600px;\n",
       "margin-left:auto;\n",
       "margin-right:auto;\n",
       "}\n",
       ".CodeMirror{\n",
       "font-family: \"Source Code Pro\";\n",
       "font-size: 90%;\n",
       "}\n",
       ".rendered_html code{\n",
       "\tbackground-color: transparent;\t\n",
       "}\n",
       "/* .prompt{\n",
       "display: None;\n",
       "}*/\n",
       ".text_cell_render h1 {\n",
       "font-weight: 120;\n",
       "font-size: 30pt;\n",
       "line-height: 100%;\n",
       "color:#CD2305;\n",
       "margin-bottom: 0.5em;\n",
       "margin-top: 0.5em;\n",
       "display: block;\n",
       "}\n",
       ".text_cell_render h5 {\n",
       "font-weight: 300;\n",
       "font-size: 12pt;\n",
       "margin-bottom: 0.5em;\n",
       "margin-top: 0.5em;\n",
       "display: block;\n",
       "border-style: double;\n",
       "border-width: medium;\n",
       "border-color: black;\n",
       "background-color: #F0F0F0;\n",
       "text-align: center;\n",
       "}\n",
       ".warning{\n",
       "color: rgb( 240, 20, 20 )\n",
       "}\n",
       "</style>\n",
       "<script>\n",
       "MathJax.Hub.Config({\n",
       "TeX: {\n",
       "extensions: [\"AMSmath.js\"]\n",
       "},\n",
       "tex2jax: {\n",
       "inlineMath: [ ['$','$'], [\"\\\\(\",\"\\\\)\"] ],\n",
       "displayMath: [ ['$$','$$'], [\"\\\\[\",\"\\\\]\"] ]\n",
       "},\n",
       "displayAlign: 'center', // Change this to 'center' to center equations.\n",
       "\"HTML-CSS\": {\n",
       "styles: {'.MathJax_Display': {\"margin\": 4}}\n",
       "}\n",
       "});\n",
       "</script>"
      ],
      "text/plain": [
       "<IPython.core.display.HTML object>"
      ]
     },
     "execution_count": 4,
     "metadata": {},
     "output_type": "execute_result"
    }
   ],
   "source": [
    "from IPython.core.display import HTML\n",
    "def css_styling():\n",
    "    styles = open(\"styles/custom2.css\", \"r\").read()\n",
    "    return HTML(styles)\n",
    "css_styling()"
   ]
  }
 ],
 "metadata": {
  "celltoolbar": "Edit Metadata",
  "kernelspec": {
   "display_name": "Python 2",
   "language": "python",
   "name": "python2"
  },
  "language_info": {
   "codemirror_mode": {
    "name": "ipython",
    "version": 2
   },
   "file_extension": ".py",
   "mimetype": "text/x-python",
   "name": "python",
   "nbconvert_exporter": "python",
   "pygments_lexer": "ipython2",
   "version": "2.7.12"
  },
  "latex_metadata": {
   "affiliation": "SPMS/PAP, NTU, Singapore",
   "author": "Claus-Dieter Ohl",
   "title": "PH3501 - 2a Euler Method"
  }
 },
 "nbformat": 4,
 "nbformat_minor": 0
}
