{
 "cells": [
  {
   "cell_type": "code",
   "execution_count": 1,
   "metadata": {
    "collapsed": true
   },
   "outputs": [],
   "source": [
    "from IPython.display import YouTubeVideo"
   ]
  },
  {
   "cell_type": "markdown",
   "metadata": {},
   "source": [
    "$$\n",
    "\\newcommand{\\fudm}[2]{\\frac{\\mathrm{D} #1}{\\mathrm{D} #2}}\n",
    "\\newcommand{\\pad}[2]{\\frac{\\partial #1}{\\partial #2}}\n",
    "\\newcommand{\\ppad}[2]{\\frac{\\partial^2 #1}{\\partial #2^2}}\n",
    "\\newcommand{\\ppadd}[3]{\\frac{\\partial^2 #1}{\\partial #2 \\partial #3}}\n",
    "\\newcommand{\\nnabla}{\\nabla^2}\n",
    "\\newcommand{\\eps}{\\epsilon}\n",
    "\\newcommand{\\vdetail}[1]{\\vb{#1}=\\begin{pmatrix}#1_1\\\\#1_2\\\\#1_3\\end{pmatrix}}\n",
    "\\newcommand{\\vb}[1]{\\mathbf{#1}}\n",
    "\\newcommand{\\va}[1]{\\vec{#1}}\n",
    "\\newcommand{\\vc}[1]{\\begin{pmatrix}#1_1\\\\#1_2\\end{pmatrix}}\n",
    "\\newcommand{\\vd}[1]{\\begin{pmatrix}#1_1\\\\#1_2\\\\#1_3\\end{pmatrix}}\n",
    "\\newcommand{\\tb}[1]{\\underline{\\underline{\\mathbf{#1}}}}\n",
    "\\newcommand{\\fud}[2]{\\frac{\\mathrm{d} #1}{\\mathrm{d} #2}}\n",
    "\\newcommand{\\dd}{\\mathrm{d}}\n",
    "$$\n",
    "#Solid Body Rotation & Irrotational Vortex"
   ]
  },
  {
   "cell_type": "markdown",
   "metadata": {},
   "source": [
    "We discuss now two rotational flows which are good idealizations of real flows, the solid body rotation and the irrotational vortex.\n",
    "##Solid Body Rotation\n",
    "\n",
    "\n",
    "<img src=\"files/pics/solid_body1.png\" width=300> <p> \n",
    "\n",
    "\n",
    "As the names already explains this flow is that of a rigid solid body rotating; a solid with a angular velocity of $\\Omega_0$. If we use the plane polar coordinates $(r,\\theta)$ then we can describe the flow as \n",
    "\\begin{eqnarray}\n",
    "u_r&=&0\\\\\n",
    "u_\\theta&=&\\Omega_0\n",
    "\\end{eqnarray}\n",
    "A solid body has a constant angular velocity $\\Omega_0$ and therefore the tangential velocity $u_\\theta$ increases linearily with radius. \n",
    "Note: Please think of the distance as $\\fud{s}{t}=r \\fud{\\theta}{t}=r \\Omega_0$, where $\\theta$ is the angle. \n",
    "\n",
    "The name solid body rotation comes from the fact the motion is the same as for a solid body. Fluid particle under solid body rotation rotate the same way as if you would rotate a solid object. \n",
    "\n",
    "Next I would like to calculate to vorticity of this flow field. Above we used the planar polar coordinates for the first time in this course. We have to be careful when using any of the differential vector operations, as the unit vectors are not constants anymore. For simplicty you may refer to tables where the differential operators are listed. The Kundu & Cohen book has an Appendix B where these operators are given for Curvilinear Coordinates, Plane Polar Coordinates, and in Spherical Polar Coordinates. There you find the voriticity for plane polar coordinates as \n",
    "\n",
    "$$\\omega_z=\\frac{1}{r}\\pad{r u_\\theta}{r}-\\frac{1}{r}\\pad{u_\\theta}{\\theta}$$\n",
    "\n",
    "Inserting above flow field we find\n",
    "\n",
    "$$\\omega_z=2\\Omega_0$$\n",
    "\n",
    "Also there you find the elements of the rate of strain tensor $\\vb{S}=\\frac{1}{2}($ (listed as $e_{ij}$ with $i,j=r,\\theta$).\n",
    "\n",
    "Your work: Please show that the rate of strain tensor is indeed $\\tb{S}=\\tb{0}$. All the elements you find listed in Kundo & Cohen as $e_{ij}$.\n",
    "\n",
    "A second interesting property of a rotating flow is a the circulation. This is defined as the line integral over the velocity field on a closed curve/loop, i.e.:\n",
    "\n",
    "$$\\Gamma=\\oint_C \\vb{u}\\cdot d\\vb{s}$$\n",
    "\n",
    "Inserting our solid body rotation velocity field we obtain\n",
    "\n",
    "$$\\Gamma=\\int^{2\\pi}_0 u_\\theta\\,r\\, d\\theta=2\\pi r u_\\theta=\\pi r^2 \\times \\omega_z$$.\n",
    "\n",
    "Here we obtain that the circulation is the area $\\pi r^2$ times the vorticity. This is the result from Stokes Theorem which says\n",
    "\n",
    "$$\\oint_C \\vb{F} \\cdot d\\vb{s}=\\iint_A \\nabla\\times\\vb{F}\\cdot\\vb{n} \\,dA\\quad .$$\n",
    "\n",
    "Thus the second integral is the vorticity of the vector field which is constant over the area, thus the circulation $\\Gamma$ is simply the area times the vorticity.\n",
    "\n",
    "##Irrotational Vortex\n",
    "\n",
    "<img src=\"files/pics/irrotational_vortex.png\" width=300> <p> \n",
    "\n",
    "The second important circular flow is the irrotational vortex. In planar geometry this is:\n",
    "\n",
    "\\begin{eqnarray}\n",
    "u_r&=&0\\\\\n",
    "u_\\theta&=& B \\frac{1}{r}\n",
    "\\end{eqnarray}\n",
    "\n",
    "One can easily show that the vorticity is identical to zero in this flow expect at the origin. Thus if $\\omega_z=0$ one would expect the the circulation is 0, too. Yet this is not the case, as can be easilty shown:\n",
    "\n",
    "$$\\Gamma=\\int_0^{2\\pi} u_\\theta\\,r\\,d\\theta = 2\\pi r u_\\theta = 2 \\pi \\quad .$$\n",
    "\n",
    "Thus the singularity at $r=0$ generates the finite circulation. The irrotational vortex is sometimes combined with the solid body rotation to describe a tornado. The inner flow or core of the tornado is modeled with a solid body rotation, while for the outer flow a irrotational vortex is assumed.\n",
    "\n",
    "Your work: \n",
    "What is the total circulation of this kind of combined circular flow?\n",
    "\n",
    "Vortices of different kinds can be generated by accelerating one liquid into another, by a moving bounary, or in decellarting boundary layers, i.e. whne the fluid comes to a stop. \n",
    "\n",
    "In three dimensions vorticity can be arranged along a line, or the line can be clossed then forming a vortex ring. The core of the vortex is a low pressure region (we'll learn about that later, for know it is due to the high velocity). A bubble will therefore expand in this vortex core and make it visible.\n",
    "\n",
    "Below you find a video of Dolphin generating and playing with vortex rings."
   ]
  },
  {
   "cell_type": "code",
   "execution_count": 2,
   "metadata": {
    "collapsed": false
   },
   "outputs": [
    {
     "data": {
      "text/html": [
       "\n",
       "        <iframe\n",
       "            width=\"400\"\n",
       "            height=\"300\"\n",
       "            src=\"https://www.youtube.com/embed/ks3aQhEohTE\"\n",
       "            frameborder=\"0\"\n",
       "            allowfullscreen\n",
       "        ></iframe>\n",
       "        "
      ],
      "text/plain": [
       "<IPython.lib.display.YouTubeVideo at 0x7f66cc94b898>"
      ]
     },
     "execution_count": 2,
     "metadata": {},
     "output_type": "execute_result"
    }
   ],
   "source": [
    "YouTubeVideo(\"ks3aQhEohTE\")"
   ]
  },
  {
   "cell_type": "code",
   "execution_count": 3,
   "metadata": {
    "collapsed": false,
    "slideshow": {
     "slide_type": "-"
    }
   },
   "outputs": [
    {
     "data": {
      "text/html": [
       "<link href='http://fonts.googleapis.com/css?family=Fenix' rel='stylesheet' type='text/css'>\n",
       "<link href='http://fonts.googleapis.com/css?family=Alegreya+Sans:100,300,400,500,700,800,900,100italic,300italic,400italic,500italic,700italic,800italic,900italic' rel='stylesheet' type='text/css'>\n",
       "<link href='http://fonts.googleapis.com/css?family=Source+Code+Pro:300,400' rel='stylesheet' type='text/css'>\n",
       "<style>\n",
       "@font-face {\n",
       "font-family: \"Computer Modern\";\n",
       "src: url('http://mirrors.ctan.org/fonts/cm-unicode/fonts/otf/cmunss.otf');\n",
       "}\n",
       "div.cell{\n",
       "\twidth:800px;\n",
       "\tmargin-left:5% !important;\n",
       "\tmargin-right:auto;\n",
       "}\n",
       "div.YourWork{\n",
       "\tbackground-color: #FFCC66;\t\n",
       "}\n",
       "h1 {\n",
       "font-family: 'Alegreya Sans', sans-serif;\n",
       "}\n",
       "h2 {\n",
       "font-family: 'Fenix', serif;\n",
       "}\n",
       "h3{\n",
       "font-family: 'Fenix', serif;\n",
       "margin-top:12px;\n",
       "margin-bottom: 3px;\n",
       "}\n",
       "h4{\n",
       "font-family: 'Fenix', serif;\n",
       "}\n",
       "h5 {\n",
       "font-family: 'Alegreya Sans', sans-serif;\n",
       "}\n",
       "div.text_cell_render{\n",
       "font-family: 'Alegreya Sans',Computer Modern, \"Helvetica Neue\", Arial, Helvetica, Geneva, sans-serif;\n",
       "line-height: 135%;\n",
       "font-size: 120%;\n",
       "width:600px;\n",
       "margin-left:auto;\n",
       "margin-right:auto;\n",
       "}\n",
       ".CodeMirror{\n",
       "font-family: \"Source Code Pro\";\n",
       "font-size: 90%;\n",
       "}\n",
       ".rendered_html code{\n",
       "\tbackground-color: transparent;\t\n",
       "}\n",
       "/* .prompt{\n",
       "display: None;\n",
       "}*/\n",
       ".text_cell_render h1 {\n",
       "font-weight: 200;\n",
       "font-size: 50pt;\n",
       "line-height: 100%;\n",
       "color:#CD2305;\n",
       "margin-bottom: 0.5em;\n",
       "margin-top: 0.5em;\n",
       "display: block;\n",
       "}\n",
       ".text_cell_render h5 {\n",
       "font-weight: 300;\n",
       "font-size: 12pt;\n",
       "margin-bottom: 0.5em;\n",
       "margin-top: 0.5em;\n",
       "display: block;\n",
       "border-style: double;\n",
       "border-width: medium;\n",
       "border-color: black;\n",
       "background-color: #F0F0F0;\n",
       "text-align: center;\n",
       "}\n",
       ".warning{\n",
       "color: rgb( 240, 20, 20 )\n",
       "}\n",
       "</style>\n",
       "<script>\n",
       "MathJax.Hub.Config({\n",
       "TeX: {\n",
       "extensions: [\"AMSmath.js\"]\n",
       "},\n",
       "tex2jax: {\n",
       "inlineMath: [ ['$','$'], [\"\\\\(\",\"\\\\)\"] ],\n",
       "displayMath: [ ['$$','$$'], [\"\\\\[\",\"\\\\]\"] ]\n",
       "},\n",
       "displayAlign: 'center', // Change this to 'center' to center equations.\n",
       "\"HTML-CSS\": {\n",
       "styles: {'.MathJax_Display': {\"margin\": 4}}\n",
       "}\n",
       "});\n",
       "</script>"
      ],
      "text/plain": [
       "<IPython.core.display.HTML at 0x1098e8250>"
      ]
     },
     "execution_count": 3,
     "metadata": {},
     "output_type": "execute_result"
    }
   ],
   "source": [
    "from IPython.core.display import HTML\n",
    "def css_styling():\n",
    "    styles = open(\"styles/custom.css\", \"r\").read()\n",
    "    return HTML(styles)\n",
    "css_styling()"
   ]
  },
  {
   "cell_type": "code",
   "execution_count": 10,
   "metadata": {
    "collapsed": false
   },
   "outputs": [
    {
     "data": {
      "text/plain": [
       "<matplotlib.quiver.Quiver at 0x7f66b2279780>"
      ]
     },
     "execution_count": 10,
     "metadata": {},
     "output_type": "execute_result"
    },
    {
     "data": {
      "image/png": "[encoded data removed]",
      "text/plain": [
       "<matplotlib.figure.Figure at 0x7f66cc9728d0>"
      ]
     },
     "metadata": {},
     "output_type": "display_data"
    }
   ],
   "source": [
    "%matplotlib inline \n",
    "import math\n",
    "import numpy as np\n",
    "import matplotlib.pylab as plt\n",
    "\n",
    "x2,x1 = np.mgrid[-10:10:14j, -10:10:14j]\n",
    "r2=x1**2+x2**2\n",
    "u1=-x2/r2\n",
    "u2=x1/r2\n",
    "plt.quiver(x1,x2,u1,u2)"
   ]
  },
  {
   "cell_type": "code",
   "execution_count": null,
   "metadata": {
    "collapsed": true
   },
   "outputs": [],
   "source": []
  }
 ],
 "metadata": {
  "kernelspec": {
   "display_name": "Python 3",
   "language": "python",
   "name": "python3"
  },
  "language_info": {
   "codemirror_mode": {
    "name": "ipython",
    "version": 3
   },
   "file_extension": ".py",
   "mimetype": "text/x-python",
   "name": "python",
   "nbconvert_exporter": "python",
   "pygments_lexer": "ipython3",
   "version": "3.4.3"
  }
 },
 "nbformat": 4,
 "nbformat_minor": 0
}
