{
 "cells": [
  {
   "cell_type": "code",
   "execution_count": 1,
   "metadata": {
    "collapsed": false
   },
   "outputs": [
    {
     "data": {
      "image/png": "[encoded data removed]",
      "text/plain": [
       "<matplotlib.figure.Figure at 0x10b4b3590>"
      ]
     },
     "metadata": {},
     "output_type": "display_data"
    }
   ],
   "source": [
    "#Boilerplates\n",
    "%matplotlib inline\n",
    "from ipywidgets import widgets\n",
    "from IPython import display\n",
    "import matplotlib.pylab as plt #plotting\n",
    "import numpy as np #linspace and array\n",
    "from scipy.integrate import odeint #ODE integration\n",
    "from scipy.optimize import fmin #find minimum of a function using clever algorithms\n",
    "from math import * #mathematical functions\n",
    "\n",
    "#ODE to integrate the droplet surface in X and Y direction as a function of psi\n",
    "def droplet_ode(y,psi):\n",
    "    global B, l\n",
    "    Q=y[0]/(l**2)-B\n",
    "    dxdpsi=sin(psi)/Q\n",
    "    dydpsi=-cos(psi)/Q\n",
    "    return np.array([dxdpsi,dydpsi])\n",
    "\n",
    "#return value is the error between given and the calculated area\n",
    "def findB(b):\n",
    "    global B, AD, yinit, psis #Python assumes without global derective that B would be a local variable\n",
    "    B=b[0] #b is an array of size 1, but B a float\n",
    "    yy=odeint(droplet_ode,yinit,psis) #solve the ODE with initial values and for the psis\n",
    "    droparea=2*np.trapz(np.fabs(yy[:,1]),x=np.fabs(yy[:,0]))\n",
    "    return fabs(AD-droparea)\n",
    "\n",
    "#initialize and plot the curv\n",
    "def plotall(newvalue):\n",
    "    global B, AD, yinit, psis, l\n",
    "\n",
    "    g=w_g.value #gravity\n",
    "    alpha=w_alpha.value/180.*pi #contact angle\n",
    "    gamma=w_gamma.value #surface tension coefficient\n",
    "    rho=w_rho.value #density difference droplet and surrounding liquid\n",
    "    \n",
    "    l=sqrt(gamma/g/rho) #capillary number\n",
    "\n",
    "    AD=pi*(3e-3)**2/2. #area of the droplet\n",
    "    \n",
    "    #Psi we want to calculate\n",
    "    psis = np.linspace(0., alpha, 100.) #List of psi's\n",
    "\n",
    "    #estimate for intital curvature B based on a circle and account for the contact angle\n",
    "    r=sqrt(AD/(alpha-0.5*sin(2*alpha))) #radius of a cut circle with contact angle alpha\n",
    "    initialB=1/r #and set as initial B as an approximation of Eq. (3)\n",
    "\n",
    "    #Initial value for X and Y\n",
    "    yinit=np.array([0,0])\n",
    "    \n",
    "    newB = fmin(func=findB, x0=initialB,disp=0)\n",
    "    B=newB[0]\n",
    "    \n",
    "    #Calculate final shape with correct B\n",
    "    yy=odeint(droplet_ode,yinit,psis)\n",
    "    \n",
    "    #Plotting\n",
    "    x=yy[:,0]*1e3\n",
    "    x=x-x[-1]\n",
    "    y=yy[:,1]*1e3\n",
    "    if (x.min() <0.):\n",
    "        x=-x\n",
    "    plt.figure(1, figsize=(16, 6), dpi=200)\n",
    "    plt.clf()\n",
    "    y=np.append(np.flipud(-y),y)\n",
    "    x=np.append(np.flipud(x),x)\n",
    "    plt.plot(y,x,'k')\n",
    "    \n",
    "    plt.gca().fill_between(y, 0, x, facecolor='blue', alpha=0.5)\n",
    "    \n",
    "    plt.xlim(-8, 8)\n",
    "    plt.ylim(0, 4)\n",
    "    plt.gca().set_aspect('equal', adjustable='box')\n",
    "    plt.xticks((-6, -4, -2, 0 , 2, 4, 6), color='k', size=20)\n",
    "    plt.yticks((0, 2, 4), color='k', size=20)\n",
    "    plt.xlabel('(mm)',fontsize=20)\n",
    "    plt.ylabel('(mm)',fontsize=20)\n",
    "    plt.gca().grid(True)\n",
    "   \n",
    "    display.clear_output(wait=True)\n",
    "\n",
    "def select_fluid(newvalue):\n",
    "    if (w_select.value=='mercury'):\n",
    "        w_rho.value=5430.\n",
    "        w_alpha.value=140.\n",
    "        w_gamma.value=0.5\n",
    "    if (w_select.value=='water'):\n",
    "        w_rho.value=1000.\n",
    "        w_alpha.value=30.\n",
    "        w_gamma.value=0.072\n",
    "    if (w_select.value=='oil'):\n",
    "        w_rho.value=790.\n",
    "        w_alpha.value=90.\n",
    "        w_gamma.value=0.02        \n",
    "    plotall(1)\n",
    "\n",
    "#Main program starts which builds the GUI    \n",
    "w_g=widgets.FloatSlider(min=.25,max=20.,step=.25,\\\n",
    "                        value=10,description='gravity constant (m/s^2):')\n",
    "w_alpha=widgets.FloatSlider(min=20,max=160.,step=5,\\\n",
    "                        value=30,description='contact angle (degree)..:')\n",
    "w_rho=widgets.FloatSlider(min=500.,max=6000.,step=250,\\\n",
    "                        value=1000,description='density (kg/m^3)...........:')\n",
    "w_gamma=widgets.FloatSlider(min=0.02,max=0.5,step=0.01,\\\n",
    "                        value=0.07,description='surface tension (N/m)...:')\n",
    "w_select=widgets.ToggleButtons(description='Liquid on glass:',\\\n",
    "                               options=['water', 'oil', 'mercury'])\n",
    "w_top=widgets.HTML(value=\"\"\"\n",
    "            <h2> Droplet on a surface</h2>\n",
    "            <p>This program calculates the shape of a droplet in\n",
    "            a gravitational field balancing surface energy and potential energy.</p>\n",
    "            <p>Change the constants or select a liquid.\n",
    "            </p><hr>\n",
    "            \"\"\")\n",
    "w_g.observe(plotall, names='value')\n",
    "w_alpha.observe(plotall, names='value')\n",
    "w_rho.observe(plotall, names='value')\n",
    "w_gamma.observe(plotall, names='value')\n",
    "w_select.observe(select_fluid, names='value')\n",
    "display.display(w_top,w_select,w_g,w_alpha,w_rho,w_gamma,);\n",
    "plotall(1) #and plot"
   ]
  },
  {
   "cell_type": "code",
   "execution_count": null,
   "metadata": {
    "collapsed": true
   },
   "outputs": [],
   "source": []
  }
 ],
 "metadata": {
  "kernelspec": {
   "display_name": "Python 2",
   "language": "python",
   "name": "python2"
  },
  "language_info": {
   "codemirror_mode": {
    "name": "ipython",
    "version": 2
   },
   "file_extension": ".py",
   "mimetype": "text/x-python",
   "name": "python",
   "nbconvert_exporter": "python",
   "pygments_lexer": "ipython2",
   "version": "2.7.12"
  },
  "widgets": {
   "state": {
    "48422d450e5a4774beed8dd6a60a4c30": {
     "views": [
      {
       "cell_index": 0
      }
     ]
    },
    "4aacb446ae384ec08a8b3586e943ce29": {
     "views": [
      {
       "cell_index": 0
      }
     ]
    },
    "b9438c784fc84c5dbeddf0dfc60b9793": {
     "views": [
      {
       "cell_index": 0
      }
     ]
    },
    "baeefd27accd47afa9d7c9ea7eff0ba0": {
     "views": [
      {
       "cell_index": 0
      }
     ]
    },
    "d37091c263b249dc91bb273ccd36b6ea": {
     "views": [
      {
       "cell_index": 0
      }
     ]
    },
    "d581c1e6ea464cf289cd20e02eb6c921": {
     "views": [
      {
       "cell_index": 0
      }
     ]
    }
   },
   "version": "1.2.0"
  }
 },
 "nbformat": 4,
 "nbformat_minor": 0
}
