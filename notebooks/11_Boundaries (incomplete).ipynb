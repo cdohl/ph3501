{
 "cells": [
  {
   "cell_type": "markdown",
   "metadata": {},
   "source": [
    "$$\n",
    "\\newcommand{\\fudm}[2]{\\frac{\\mathrm{D} #1}{\\mathrm{D} #2}}\n",
    "\\newcommand{\\pad}[2]{\\frac{\\partial #1}{\\partial #2}}\n",
    "\\newcommand{\\ppad}[2]{\\frac{\\partial^2 #1}{\\partial #2^2}}\n",
    "\\newcommand{\\ppadd}[3]{\\frac{\\partial^2 #1}{\\partial #2 \\partial #3}}\n",
    "\\newcommand{\\nnabla}{\\nabla^2}\n",
    "\\newcommand{\\eps}{\\epsilon}\n",
    "\\newcommand{\\vdetail}[1]{\\vb{#1}=\\begin{pmatrix}#1_1\\\\#1_2\\\\#1_3\\end{pmatrix}}\n",
    "\\newcommand{\\vb}[1]{\\mathbf{#1}}\n",
    "\\newcommand{\\va}[1]{\\vec{#1}}\n",
    "\\newcommand{\\vc}[1]{\\begin{pmatrix}#1_1\\\\#1_2\\end{pmatrix}}\n",
    "\\newcommand{\\vd}[1]{\\begin{pmatrix}#1_1\\\\#1_2\\\\#1_3\\end{pmatrix}}\n",
    "\\newcommand{\\tb}[1]{\\underline{\\underline{\\mathbf{#1}}}}\n",
    "\\newcommand{\\fud}[2]{\\frac{\\mathrm{d} #1}{\\mathrm{d} #2}}\n",
    "\\newcommand{\\dd}{\\mathrm{d}}\n",
    "$$\n"
   ]
  },
  {
   "cell_type": "markdown",
   "metadata": {},
   "source": [
    "#Fluid Stresses at a Rigid Boundary\n",
    "\n",
    "Newton's 3rd law states that the action of every force comes with a force acting in the opposite direction and equal magnitude. The fish swimming through water uses it fins to accelerate the fluid in the opposite direction from its motion. Consider now a rigid boundary where a fluid acts upon, thus Newton's 3rd law states that the force of the liquid on the boundary is the same as the boundary on the fluid, but in opposite direction. Have a look at Fig. 1.\n",
    "\n",
    "<img src=\"files/pics/boundary.png\" width=300> \n",
    "Figure 1.<p>\n",
    "\n",
    "The liquid stress onto the boundary is equal and opposite to the stress exerted by the boundary on the fluid. Written in a vector formula we have:\n",
    "\n",
    "$$\\vb{f}^B+\\vb{f}^F=0\\,\\quad\\tag{1}$$\n",
    "\n",
    "where $\\vb{f}^F$ is the stress excerted by the fluid and $\\vb{f}^B$ the stress caused by the boundary. \n",
    "\n",
    "We know the magnitude and direction of $\\vb{f}$, from Chapter 9, thus we can write\n",
    "\n",
    "$$\\vb{f}^F=\\vb{n}^{outward}\\cdot\\tb{\\tau}\\quad .\\tag{2}$$\n",
    "\n",
    "The normal vector of the rigid boundary is in opposite direction to $\\vb{n}^{outward}$, thus we can solve for the stress the boundary is inducing on the fluid particle:\n",
    "\n",
    "$$\\vb{f}^B=-\\vb{n}^{outward}\\cdot \\tb{\\tau}=\\vb{n}^{inward}\\cdot \\tb{\\tau}\\tag{3}$$\n",
    "\n",
    "This looks like an obvious relationship. It is, yet it allows to formulate boundary conditions for the fluid particles being in contact with rigid (non-moving) boundaries."
   ]
  },
  {
   "cell_type": "markdown",
   "metadata": {},
   "source": [
    "#Fluid Stresses Between two Fluids\n",
    "\n",
    "Between two immiscible fluids such as a oil and water or water and gas boundary stresses have to be balanced. In contrast to a rigid boundary, fluid boundaries can deform. When a fluid boundary deforms from a plane to a curved shape more area is created. To create this additional energy a force needs to be applied. Thus a fluid-fluid interface does not simply balance stresses throught the surface normal as done in Eq. (1) but we need to account for additional forces along the interface. These forces are acting tangentially and we quantify the net tension with $\\gamma\\,\\vb{t}$ where $\\gamma$ is the interfacial tension coefficient and $\\vb{t}$ the tangential vector.\n",
    "\n",
    "Let's write this balance formally for a one-dimensional fluid-fluid interface presented in Fig. 2\n",
    "\n",
    "<img src=\"files/pics/interfacebalance.png\" width=300> \n",
    "Figure 2.<p>\n",
    "\n",
    "The stress caused by the boundary is the inward normal vector times the stress tensor of the fluid element, thus the force (per line) for fluid 1 is $(n^{(1)}\\cdot\\tau^{(1)})\\Delta l$ and similar or fluid 2. \n",
    "The tangential "
   ]
  }
 ],
 "metadata": {
  "kernelspec": {
   "display_name": "Python 2",
   "language": "python",
   "name": "python2"
  },
  "language_info": {
   "codemirror_mode": {
    "name": "ipython",
    "version": 2
   },
   "file_extension": ".py",
   "mimetype": "text/x-python",
   "name": "python",
   "nbconvert_exporter": "python",
   "pygments_lexer": "ipython2",
   "version": "2.7.12"
  }
 },
 "nbformat": 4,
 "nbformat_minor": 0
}
